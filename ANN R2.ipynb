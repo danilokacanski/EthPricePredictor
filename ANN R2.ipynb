{
 "cells": [
  {
   "cell_type": "code",
   "id": "initial_id",
   "metadata": {
    "collapsed": true,
    "ExecuteTime": {
     "end_time": "2024-09-13T00:02:26.078535Z",
     "start_time": "2024-09-13T00:02:13.218699Z"
    }
   },
   "source": [
    "import numpy as np\n",
    "import pandas as pd\n",
    "from sklearn.metrics import mean_absolute_percentage_error, mean_absolute_error, r2_score, mean_squared_error, root_mean_squared_error\n",
    "import matplotlib.pylab as plt\n",
    "\n",
    "from sklearn.preprocessing import StandardScaler\n",
    "from sklearn.model_selection import GridSearchCV\n",
    "from scikeras.wrappers import KerasRegressor\n",
    "\n",
    "import tensorflow as tf\n",
    "from keras._tf_keras.keras.models import Model\n",
    "from keras._tf_keras.keras.layers import Dense, Input, Dropout\n",
    "from keras._tf_keras.keras.regularizers import l2\n",
    "\n",
    "np.random.seed(123)\n",
    "tf.random.set_seed(123)"
   ],
   "outputs": [],
   "execution_count": 1
  },
  {
   "metadata": {
    "ExecuteTime": {
     "end_time": "2024-09-13T00:03:23.885079Z",
     "start_time": "2024-09-13T00:03:23.859752Z"
    }
   },
   "cell_type": "code",
   "source": "df0 = pd.read_csv('ETH-USD.csv', index_col=0, parse_dates=True)",
   "id": "ecb220cec270e0d7",
   "outputs": [],
   "execution_count": 4
  },
  {
   "metadata": {
    "ExecuteTime": {
     "end_time": "2024-09-13T00:03:24.933718Z",
     "start_time": "2024-09-13T00:03:24.926509Z"
    }
   },
   "cell_type": "code",
   "source": "df = df0[['Close']].copy()",
   "id": "ad851338b7870cd7",
   "outputs": [],
   "execution_count": 5
  },
  {
   "metadata": {
    "ExecuteTime": {
     "end_time": "2024-09-13T00:07:02.374092Z",
     "start_time": "2024-09-13T00:07:02.363850Z"
    }
   },
   "cell_type": "code",
   "source": [
    "df['LogClose'] = np.log(df['Close'])\n",
    "df['DiffLogClose'] = df['LogClose'].diff()"
   ],
   "id": "e7b0743a585ca239",
   "outputs": [],
   "execution_count": 17
  },
  {
   "metadata": {
    "ExecuteTime": {
     "end_time": "2024-09-13T00:07:03.664910Z",
     "start_time": "2024-09-13T00:07:03.651781Z"
    }
   },
   "cell_type": "code",
   "source": [
    "df1 = df[:500].copy()\n",
    "df2 = df[:1000].copy()\n",
    "df3 = df[:1500].copy()\n",
    "df4 = df.copy()"
   ],
   "id": "8252c05d1da62b6c",
   "outputs": [],
   "execution_count": 18
  },
  {
   "metadata": {
    "ExecuteTime": {
     "end_time": "2024-09-13T00:07:05.579695Z",
     "start_time": "2024-09-13T00:07:05.562499Z"
    }
   },
   "cell_type": "code",
   "source": "df3",
   "id": "3baabc81605efd7a",
   "outputs": [
    {
     "data": {
      "text/plain": [
       "                  Close  LogClose  DiffLogClose\n",
       "Date                                           \n",
       "2019-08-25   186.842392  5.230265           NaN\n",
       "2019-08-26   188.929382  5.241373      0.011108\n",
       "2019-08-27   187.516663  5.233868     -0.007506\n",
       "2019-08-28   173.889969  5.158423     -0.075445\n",
       "2019-08-29   169.516739  5.132952     -0.025471\n",
       "...                 ...       ...           ...\n",
       "2023-09-28  1652.882690  7.410276      0.034086\n",
       "2023-09-29  1667.943848  7.419347      0.009071\n",
       "2023-09-30  1671.161865  7.421274      0.001927\n",
       "2023-10-01  1733.810425  7.458077      0.036802\n",
       "2023-10-02  1663.627563  7.416756     -0.041321\n",
       "\n",
       "[1500 rows x 3 columns]"
      ],
      "text/html": [
       "<div>\n",
       "<style scoped>\n",
       "    .dataframe tbody tr th:only-of-type {\n",
       "        vertical-align: middle;\n",
       "    }\n",
       "\n",
       "    .dataframe tbody tr th {\n",
       "        vertical-align: top;\n",
       "    }\n",
       "\n",
       "    .dataframe thead th {\n",
       "        text-align: right;\n",
       "    }\n",
       "</style>\n",
       "<table border=\"1\" class=\"dataframe\">\n",
       "  <thead>\n",
       "    <tr style=\"text-align: right;\">\n",
       "      <th></th>\n",
       "      <th>Close</th>\n",
       "      <th>LogClose</th>\n",
       "      <th>DiffLogClose</th>\n",
       "    </tr>\n",
       "    <tr>\n",
       "      <th>Date</th>\n",
       "      <th></th>\n",
       "      <th></th>\n",
       "      <th></th>\n",
       "    </tr>\n",
       "  </thead>\n",
       "  <tbody>\n",
       "    <tr>\n",
       "      <th>2019-08-25</th>\n",
       "      <td>186.842392</td>\n",
       "      <td>5.230265</td>\n",
       "      <td>NaN</td>\n",
       "    </tr>\n",
       "    <tr>\n",
       "      <th>2019-08-26</th>\n",
       "      <td>188.929382</td>\n",
       "      <td>5.241373</td>\n",
       "      <td>0.011108</td>\n",
       "    </tr>\n",
       "    <tr>\n",
       "      <th>2019-08-27</th>\n",
       "      <td>187.516663</td>\n",
       "      <td>5.233868</td>\n",
       "      <td>-0.007506</td>\n",
       "    </tr>\n",
       "    <tr>\n",
       "      <th>2019-08-28</th>\n",
       "      <td>173.889969</td>\n",
       "      <td>5.158423</td>\n",
       "      <td>-0.075445</td>\n",
       "    </tr>\n",
       "    <tr>\n",
       "      <th>2019-08-29</th>\n",
       "      <td>169.516739</td>\n",
       "      <td>5.132952</td>\n",
       "      <td>-0.025471</td>\n",
       "    </tr>\n",
       "    <tr>\n",
       "      <th>...</th>\n",
       "      <td>...</td>\n",
       "      <td>...</td>\n",
       "      <td>...</td>\n",
       "    </tr>\n",
       "    <tr>\n",
       "      <th>2023-09-28</th>\n",
       "      <td>1652.882690</td>\n",
       "      <td>7.410276</td>\n",
       "      <td>0.034086</td>\n",
       "    </tr>\n",
       "    <tr>\n",
       "      <th>2023-09-29</th>\n",
       "      <td>1667.943848</td>\n",
       "      <td>7.419347</td>\n",
       "      <td>0.009071</td>\n",
       "    </tr>\n",
       "    <tr>\n",
       "      <th>2023-09-30</th>\n",
       "      <td>1671.161865</td>\n",
       "      <td>7.421274</td>\n",
       "      <td>0.001927</td>\n",
       "    </tr>\n",
       "    <tr>\n",
       "      <th>2023-10-01</th>\n",
       "      <td>1733.810425</td>\n",
       "      <td>7.458077</td>\n",
       "      <td>0.036802</td>\n",
       "    </tr>\n",
       "    <tr>\n",
       "      <th>2023-10-02</th>\n",
       "      <td>1663.627563</td>\n",
       "      <td>7.416756</td>\n",
       "      <td>-0.041321</td>\n",
       "    </tr>\n",
       "  </tbody>\n",
       "</table>\n",
       "<p>1500 rows × 3 columns</p>\n",
       "</div>"
      ]
     },
     "execution_count": 19,
     "metadata": {},
     "output_type": "execute_result"
    }
   ],
   "execution_count": 19
  },
  {
   "metadata": {
    "ExecuteTime": {
     "end_time": "2024-09-13T00:07:08.865323Z",
     "start_time": "2024-09-13T00:07:08.858534Z"
    }
   },
   "cell_type": "code",
   "source": [
    "Ntest = 30\n",
    "train1 = df1.iloc[:-Ntest]\n",
    "test1 = df1.iloc[-Ntest:]\n",
    "train2 = df2.iloc[:-Ntest]\n",
    "test2 = df2.iloc[-Ntest:]\n",
    "train3 = df3.iloc[:-Ntest]\n",
    "test3 = df3.iloc[-Ntest:]\n",
    "train4 = df4.iloc[:-Ntest]\n",
    "test4 = df4.iloc[-Ntest:]"
   ],
   "id": "dd2898f1bb60df85",
   "outputs": [],
   "execution_count": 20
  },
  {
   "metadata": {
    "ExecuteTime": {
     "end_time": "2024-09-13T00:07:11.984089Z",
     "start_time": "2024-09-13T00:07:11.927667Z"
    }
   },
   "cell_type": "code",
   "source": [
    "scaler = StandardScaler()\n",
    "train_scaled1 = scaler.fit_transform(train1[['DiffLogClose']])\n",
    "test_scaled1 = scaler.fit_transform(test1[['DiffLogClose']])\n",
    "train_scaled2 = scaler.fit_transform(train2[['DiffLogClose']])\n",
    "test_scaled2 = scaler.fit_transform(test2[['DiffLogClose']])\n",
    "train_scaled3 = scaler.fit_transform(train3[['DiffLogClose']])\n",
    "test_scaled3 = scaler.fit_transform(test3[['DiffLogClose']])\n",
    "train_scaled4 = scaler.fit_transform(train4[['DiffLogClose']])\n",
    "test_scaled4 = scaler.fit_transform(test4[['DiffLogClose']])"
   ],
   "id": "4c2edcfbf6611925",
   "outputs": [],
   "execution_count": 21
  },
  {
   "metadata": {
    "ExecuteTime": {
     "end_time": "2024-09-13T00:08:15.750544Z",
     "start_time": "2024-09-13T00:08:15.737885Z"
    }
   },
   "cell_type": "code",
   "source": [
    "train_idx1 = df1.index <= train1.index[-1]\n",
    "test_idx1 = df1.index > train1.index[-1]\n",
    "train_idx2 = df2.index <= train2.index[-1]\n",
    "test_idx2 = df2.index > train2.index[-1]\n",
    "train_idx3 = df3.index <= train3.index[-1]\n",
    "test_idx3 = df3.index > train3.index[-1]\n",
    "train_idx4 = df4.index <= train4.index[-1]\n",
    "test_idx4 = df4.index > train4.index[-1]"
   ],
   "id": "e4f53843bcf7ead9",
   "outputs": [],
   "execution_count": 22
  },
  {
   "metadata": {
    "ExecuteTime": {
     "end_time": "2024-09-13T00:08:54.611135Z",
     "start_time": "2024-09-13T00:08:54.595887Z"
    }
   },
   "cell_type": "code",
   "source": [
    "df1.loc[train_idx1, 'ScaledLogReturn'] = train_scaled1.flatten()\n",
    "df1.loc[test_idx1, 'ScaledLogReturn'] = test_scaled1.flatten()\n",
    "df2.loc[train_idx2, 'ScaledLogReturn'] = train_scaled2.flatten()\n",
    "df2.loc[test_idx2, 'ScaledLogReturn'] = test_scaled2.flatten()\n",
    "df3.loc[train_idx3, 'ScaledLogReturn'] = train_scaled3.flatten()\n",
    "df3.loc[test_idx3, 'ScaledLogReturn'] = test_scaled3.flatten()\n",
    "df4.loc[train_idx4, 'ScaledLogReturn'] = train_scaled4.flatten()\n",
    "df4.loc[test_idx4, 'ScaledLogReturn'] = test_scaled4.flatten()"
   ],
   "id": "f524ae252e71bc8e",
   "outputs": [],
   "execution_count": 23
  },
  {
   "metadata": {
    "ExecuteTime": {
     "end_time": "2024-09-13T00:10:18.703089Z",
     "start_time": "2024-09-13T00:10:18.679503Z"
    }
   },
   "cell_type": "code",
   "source": [
    "series = df1['ScaledLogReturn'].dropna().to_numpy()\n",
    "\n",
    "Tx = 100\n",
    "Ty = Ntest\n",
    "X = []\n",
    "Y = []\n",
    "i = True\n",
    "for t in range(len(series) - Tx - Ty + 1):\n",
    "  x = series[t:t+Tx]\n",
    "  X.append(x)\n",
    "  y = series[t+Tx:t+Tx+Ty]\n",
    "  Y.append(y)\n",
    "  if t == len(series) - Tx - Ty :\n",
    "    i = False\n",
    "    #print(x)\n",
    "    #print(y)\n",
    "\n",
    "X1 = np.array(X).reshape(-1, Tx)\n",
    "Y1 = np.array(Y).reshape(-1, Ty)\n",
    "N = len(X)\n",
    "print(\"X.shape\", X1.shape, \"Y.shape\", Y1.shape)"
   ],
   "id": "d3f5e3f8b7f95399",
   "outputs": [
    {
     "name": "stdout",
     "output_type": "stream",
     "text": [
      "X.shape (370, 100) Y.shape (370, 30)\n"
     ]
    }
   ],
   "execution_count": 25
  },
  {
   "metadata": {
    "ExecuteTime": {
     "end_time": "2024-09-13T00:10:43.159413Z",
     "start_time": "2024-09-13T00:10:43.142410Z"
    }
   },
   "cell_type": "code",
   "source": [
    "series = df2['ScaledLogReturn'].dropna().to_numpy()\n",
    "\n",
    "Tx = 100\n",
    "Ty = Ntest\n",
    "X = []\n",
    "Y = []\n",
    "i = True\n",
    "for t in range(len(series) - Tx - Ty + 1):\n",
    "  x = series[t:t+Tx]\n",
    "  X.append(x)\n",
    "  y = series[t+Tx:t+Tx+Ty]\n",
    "  Y.append(y)\n",
    "  if t == len(series) - Tx - Ty :\n",
    "    i = False\n",
    "    #print(x)\n",
    "    #print(y)\n",
    "\n",
    "X2 = np.array(X).reshape(-1, Tx)\n",
    "Y2 = np.array(Y).reshape(-1, Ty)\n",
    "N = len(X)\n",
    "print(\"X.shape\", X2.shape, \"Y.shape\", Y2.shape)"
   ],
   "id": "661e6cbe88990d50",
   "outputs": [
    {
     "name": "stdout",
     "output_type": "stream",
     "text": [
      "X.shape (870, 100) Y.shape (870, 30)\n"
     ]
    }
   ],
   "execution_count": 26
  },
  {
   "metadata": {
    "ExecuteTime": {
     "end_time": "2024-09-13T00:11:40.117957Z",
     "start_time": "2024-09-13T00:11:40.100690Z"
    }
   },
   "cell_type": "code",
   "source": [
    "series = df3['ScaledLogReturn'].dropna().to_numpy()\n",
    "\n",
    "Tx = 100\n",
    "Ty = Ntest\n",
    "X = []\n",
    "Y = []\n",
    "i = True\n",
    "for t in range(len(series) - Tx - Ty + 1):\n",
    "  x = series[t:t+Tx]\n",
    "  X.append(x)\n",
    "  y = series[t+Tx:t+Tx+Ty]\n",
    "  Y.append(y)\n",
    "  if t == len(series) - Tx - Ty :\n",
    "    i = False\n",
    "    #print(x)\n",
    "    #print(y)\n",
    "\n",
    "X3 = np.array(X).reshape(-1, Tx)\n",
    "Y3 = np.array(Y).reshape(-1, Ty)\n",
    "N = len(X)\n",
    "print(\"X.shape\", X3.shape, \"Y.shape\", Y3.shape)"
   ],
   "id": "45f6e5a3f9ec2c8c",
   "outputs": [
    {
     "name": "stdout",
     "output_type": "stream",
     "text": [
      "X.shape (1370, 100) Y.shape (1370, 30)\n"
     ]
    }
   ],
   "execution_count": 27
  },
  {
   "metadata": {
    "ExecuteTime": {
     "end_time": "2024-09-13T00:11:57.729333Z",
     "start_time": "2024-09-13T00:11:57.704332Z"
    }
   },
   "cell_type": "code",
   "source": [
    "series = df4['ScaledLogReturn'].dropna().to_numpy()\n",
    "\n",
    "Tx = 100\n",
    "Ty = Ntest\n",
    "X = []\n",
    "Y = []\n",
    "i = True\n",
    "for t in range(len(series) - Tx - Ty + 1):\n",
    "  x = series[t:t+Tx]\n",
    "  X.append(x)\n",
    "  y = series[t+Tx:t+Tx+Ty]\n",
    "  Y.append(y)\n",
    "  if t == len(series) - Tx - Ty :\n",
    "    i = False\n",
    "    #print(x)\n",
    "    #print(y)\n",
    "\n",
    "X4 = np.array(X).reshape(-1, Tx)\n",
    "Y4 = np.array(Y).reshape(-1, Ty)\n",
    "N = len(X)\n",
    "print(\"X.shape\", X4.shape, \"Y.shape\", Y4.shape)"
   ],
   "id": "fe588ef7a7c969e5",
   "outputs": [
    {
     "name": "stdout",
     "output_type": "stream",
     "text": [
      "X.shape (1698, 100) Y.shape (1698, 30)\n"
     ]
    }
   ],
   "execution_count": 28
  },
  {
   "metadata": {
    "ExecuteTime": {
     "end_time": "2024-09-13T00:12:51.417130Z",
     "start_time": "2024-09-13T00:12:51.404578Z"
    }
   },
   "cell_type": "code",
   "source": [
    "Xtrain_m1, Ytrain_m1 = X1[:-Ntest], Y1[:-Ntest]\n",
    "Xtest_m1, Ytest_m1 = X1[-Ntest:], Y1[-Ntest:]\n",
    "Xtrain_m2, Ytrain_m2 = X2[:-Ntest], Y2[:-Ntest]\n",
    "Xtest_m2, Ytest_m2 = X2[-Ntest:], Y2[-Ntest:]\n",
    "Xtrain_m3, Ytrain_m3 = X3[:-Ntest], Y3[:-Ntest]\n",
    "Xtest_m3, Ytest_m3 = X3[-Ntest:], Y3[-Ntest:]\n",
    "Xtrain_m4, Ytrain_m4 = X4[:-Ntest], Y4[:-Ntest]\n",
    "Xtest_m4, Ytest_m4 = X4[-Ntest:], Y4[-Ntest:]"
   ],
   "id": "2f563a93d4b88132",
   "outputs": [],
   "execution_count": 29
  },
  {
   "metadata": {
    "ExecuteTime": {
     "end_time": "2024-09-13T00:13:13.552221Z",
     "start_time": "2024-09-13T00:13:13.543046Z"
    }
   },
   "cell_type": "code",
   "source": [
    "y_trust1 = Ytrain_m1[-1]\n",
    "y_trust2 = Ytrain_m2[-1]\n",
    "y_trust3 = Ytrain_m3[-1]\n",
    "y_trust4 = Ytrain_m4[-1]"
   ],
   "id": "de90db3171998070",
   "outputs": [],
   "execution_count": 30
  },
  {
   "metadata": {
    "ExecuteTime": {
     "end_time": "2024-09-13T00:18:32.342139Z",
     "start_time": "2024-09-13T00:18:32.288944Z"
    }
   },
   "cell_type": "code",
   "source": [
    "# Basic ANN\n",
    "i = Input(shape=(Tx,))\n",
    "x = Dense(64, activation='relu')(i)  \n",
    "x = Dropout(0.2)(x)  \n",
    "x = Dense(64, activation='relu', kernel_regularizer=l2(0.01))(x)  \n",
    "x = Dense(Ty)(x) \n",
    "model1 = Model(inputs=i, outputs=x)"
   ],
   "id": "19fc50686649e580",
   "outputs": [],
   "execution_count": 48
  },
  {
   "metadata": {
    "ExecuteTime": {
     "end_time": "2024-09-13T00:19:03.386082Z",
     "start_time": "2024-09-13T00:19:03.336940Z"
    }
   },
   "cell_type": "code",
   "source": [
    "# Basic ANN\n",
    "i = Input(shape=(Tx,))\n",
    "x = Dense(64, activation='relu')(i)  \n",
    "x = Dropout(0.2)(x)  \n",
    "x = Dense(64, activation='relu', kernel_regularizer=l2(0.01))(x)  \n",
    "x = Dense(Ty)(x) \n",
    "model2 = Model(inputs=i, outputs=x)"
   ],
   "id": "c4b6c3ed209cfc51",
   "outputs": [],
   "execution_count": 51
  },
  {
   "metadata": {
    "ExecuteTime": {
     "end_time": "2024-09-13T00:19:35.183640Z",
     "start_time": "2024-09-13T00:19:35.128463Z"
    }
   },
   "cell_type": "code",
   "source": [
    "# Basic ANN\n",
    "i = Input(shape=(Tx,))\n",
    "x = Dense(64, activation='relu')(i)  \n",
    "x = Dropout(0.2)(x)  \n",
    "x = Dense(64, activation='relu', kernel_regularizer=l2(0.01))(x)  \n",
    "x = Dense(Ty)(x) \n",
    "model3 = Model(inputs=i, outputs=x)"
   ],
   "id": "6ab09a68490ca3dd",
   "outputs": [],
   "execution_count": 54
  },
  {
   "metadata": {
    "ExecuteTime": {
     "end_time": "2024-09-13T00:20:07.976628Z",
     "start_time": "2024-09-13T00:20:07.926492Z"
    }
   },
   "cell_type": "code",
   "source": [
    "# Basic ANN\n",
    "i = Input(shape=(Tx,))\n",
    "x = Dense(64, activation='relu')(i)  \n",
    "x = Dropout(0.2)(x)  \n",
    "x = Dense(64, activation='relu', kernel_regularizer=l2(0.01))(x)  \n",
    "x = Dense(Ty)(x) \n",
    "model4 = Model(inputs=i, outputs=x)"
   ],
   "id": "1539a1d48930157f",
   "outputs": [],
   "execution_count": 57
  },
  {
   "metadata": {
    "ExecuteTime": {
     "end_time": "2024-09-13T00:18:34.945744Z",
     "start_time": "2024-09-13T00:18:34.932750Z"
    }
   },
   "cell_type": "code",
   "source": [
    "model1.compile(\n",
    "  loss='mape',\n",
    "  optimizer='adam',\n",
    ")"
   ],
   "id": "ae957186525f88f3",
   "outputs": [],
   "execution_count": 49
  },
  {
   "metadata": {
    "ExecuteTime": {
     "end_time": "2024-09-13T00:19:08.386260Z",
     "start_time": "2024-09-13T00:19:08.371036Z"
    }
   },
   "cell_type": "code",
   "source": [
    "model2.compile(\n",
    "  loss='mae',\n",
    "  optimizer='adam',\n",
    ")"
   ],
   "id": "a418a8fa07a79efd",
   "outputs": [],
   "execution_count": 52
  },
  {
   "metadata": {
    "ExecuteTime": {
     "end_time": "2024-09-13T00:19:39.014816Z",
     "start_time": "2024-09-13T00:19:38.995573Z"
    }
   },
   "cell_type": "code",
   "source": [
    "model3.compile(\n",
    "  loss='mape',\n",
    "  optimizer='adam',\n",
    ")"
   ],
   "id": "8f461ae4e8d81130",
   "outputs": [],
   "execution_count": 55
  },
  {
   "metadata": {
    "ExecuteTime": {
     "end_time": "2024-09-13T00:20:10.606211Z",
     "start_time": "2024-09-13T00:20:10.587911Z"
    }
   },
   "cell_type": "code",
   "source": [
    "model4.compile(\n",
    "  loss='mse',\n",
    "  optimizer='adam',\n",
    ")"
   ],
   "id": "348f44a5ad82f19",
   "outputs": [],
   "execution_count": 58
  },
  {
   "metadata": {
    "ExecuteTime": {
     "end_time": "2024-09-13T00:18:48.797223Z",
     "start_time": "2024-09-13T00:18:37.813049Z"
    }
   },
   "cell_type": "code",
   "source": [
    "r1 = model1.fit(\n",
    "  Xtrain_m1,\n",
    "  Ytrain_m1,\n",
    "  epochs=100\n",
    ")"
   ],
   "id": "33377bb4873a557d",
   "outputs": [
    {
     "name": "stdout",
     "output_type": "stream",
     "text": [
      "Epoch 1/100\n",
      "\u001B[1m11/11\u001B[0m \u001B[32m━━━━━━━━━━━━━━━━━━━━\u001B[0m\u001B[37m\u001B[0m \u001B[1m3s\u001B[0m 3ms/step - loss: 955.8463 \n",
      "Epoch 2/100\n",
      "\u001B[1m11/11\u001B[0m \u001B[32m━━━━━━━━━━━━━━━━━━━━\u001B[0m\u001B[37m\u001B[0m \u001B[1m0s\u001B[0m 3ms/step - loss: 674.9673 \n",
      "Epoch 3/100\n",
      "\u001B[1m11/11\u001B[0m \u001B[32m━━━━━━━━━━━━━━━━━━━━\u001B[0m\u001B[37m\u001B[0m \u001B[1m0s\u001B[0m 2ms/step - loss: 573.5521 \n",
      "Epoch 4/100\n",
      "\u001B[1m11/11\u001B[0m \u001B[32m━━━━━━━━━━━━━━━━━━━━\u001B[0m\u001B[37m\u001B[0m \u001B[1m0s\u001B[0m 2ms/step - loss: 488.0467 \n",
      "Epoch 5/100\n",
      "\u001B[1m11/11\u001B[0m \u001B[32m━━━━━━━━━━━━━━━━━━━━\u001B[0m\u001B[37m\u001B[0m \u001B[1m0s\u001B[0m 3ms/step - loss: 483.3302 \n",
      "Epoch 6/100\n",
      "\u001B[1m11/11\u001B[0m \u001B[32m━━━━━━━━━━━━━━━━━━━━\u001B[0m\u001B[37m\u001B[0m \u001B[1m0s\u001B[0m 3ms/step - loss: 463.6864 \n",
      "Epoch 7/100\n",
      "\u001B[1m11/11\u001B[0m \u001B[32m━━━━━━━━━━━━━━━━━━━━\u001B[0m\u001B[37m\u001B[0m \u001B[1m0s\u001B[0m 3ms/step - loss: 408.0963 \n",
      "Epoch 8/100\n",
      "\u001B[1m11/11\u001B[0m \u001B[32m━━━━━━━━━━━━━━━━━━━━\u001B[0m\u001B[37m\u001B[0m \u001B[1m0s\u001B[0m 3ms/step - loss: 403.3119 \n",
      "Epoch 9/100\n",
      "\u001B[1m11/11\u001B[0m \u001B[32m━━━━━━━━━━━━━━━━━━━━\u001B[0m\u001B[37m\u001B[0m \u001B[1m0s\u001B[0m 3ms/step - loss: 391.9411 \n",
      "Epoch 10/100\n",
      "\u001B[1m11/11\u001B[0m \u001B[32m━━━━━━━━━━━━━━━━━━━━\u001B[0m\u001B[37m\u001B[0m \u001B[1m0s\u001B[0m 2ms/step - loss: 389.2626 \n",
      "Epoch 11/100\n",
      "\u001B[1m11/11\u001B[0m \u001B[32m━━━━━━━━━━━━━━━━━━━━\u001B[0m\u001B[37m\u001B[0m \u001B[1m0s\u001B[0m 3ms/step - loss: 353.2029 \n",
      "Epoch 12/100\n",
      "\u001B[1m11/11\u001B[0m \u001B[32m━━━━━━━━━━━━━━━━━━━━\u001B[0m\u001B[37m\u001B[0m \u001B[1m0s\u001B[0m 2ms/step - loss: 366.3818 \n",
      "Epoch 13/100\n",
      "\u001B[1m11/11\u001B[0m \u001B[32m━━━━━━━━━━━━━━━━━━━━\u001B[0m\u001B[37m\u001B[0m \u001B[1m0s\u001B[0m 3ms/step - loss: 380.5791 \n",
      "Epoch 14/100\n",
      "\u001B[1m11/11\u001B[0m \u001B[32m━━━━━━━━━━━━━━━━━━━━\u001B[0m\u001B[37m\u001B[0m \u001B[1m0s\u001B[0m 2ms/step - loss: 308.9917 \n",
      "Epoch 15/100\n",
      "\u001B[1m11/11\u001B[0m \u001B[32m━━━━━━━━━━━━━━━━━━━━\u001B[0m\u001B[37m\u001B[0m \u001B[1m0s\u001B[0m 2ms/step - loss: 313.9189 \n",
      "Epoch 16/100\n",
      "\u001B[1m11/11\u001B[0m \u001B[32m━━━━━━━━━━━━━━━━━━━━\u001B[0m\u001B[37m\u001B[0m \u001B[1m0s\u001B[0m 2ms/step - loss: 293.8734 \n",
      "Epoch 17/100\n",
      "\u001B[1m11/11\u001B[0m \u001B[32m━━━━━━━━━━━━━━━━━━━━\u001B[0m\u001B[37m\u001B[0m \u001B[1m0s\u001B[0m 2ms/step - loss: 322.8882 \n",
      "Epoch 18/100\n",
      "\u001B[1m11/11\u001B[0m \u001B[32m━━━━━━━━━━━━━━━━━━━━\u001B[0m\u001B[37m\u001B[0m \u001B[1m0s\u001B[0m 2ms/step - loss: 299.1754 \n",
      "Epoch 19/100\n",
      "\u001B[1m11/11\u001B[0m \u001B[32m━━━━━━━━━━━━━━━━━━━━\u001B[0m\u001B[37m\u001B[0m \u001B[1m0s\u001B[0m 2ms/step - loss: 302.7639 \n",
      "Epoch 20/100\n",
      "\u001B[1m11/11\u001B[0m \u001B[32m━━━━━━━━━━━━━━━━━━━━\u001B[0m\u001B[37m\u001B[0m \u001B[1m0s\u001B[0m 2ms/step - loss: 256.2648 \n",
      "Epoch 21/100\n",
      "\u001B[1m11/11\u001B[0m \u001B[32m━━━━━━━━━━━━━━━━━━━━\u001B[0m\u001B[37m\u001B[0m \u001B[1m0s\u001B[0m 3ms/step - loss: 264.5704 \n",
      "Epoch 22/100\n",
      "\u001B[1m11/11\u001B[0m \u001B[32m━━━━━━━━━━━━━━━━━━━━\u001B[0m\u001B[37m\u001B[0m \u001B[1m0s\u001B[0m 3ms/step - loss: 298.6482 \n",
      "Epoch 23/100\n",
      "\u001B[1m11/11\u001B[0m \u001B[32m━━━━━━━━━━━━━━━━━━━━\u001B[0m\u001B[37m\u001B[0m \u001B[1m0s\u001B[0m 3ms/step - loss: 268.6636 \n",
      "Epoch 24/100\n",
      "\u001B[1m11/11\u001B[0m \u001B[32m━━━━━━━━━━━━━━━━━━━━\u001B[0m\u001B[37m\u001B[0m \u001B[1m0s\u001B[0m 2ms/step - loss: 240.7101 \n",
      "Epoch 25/100\n",
      "\u001B[1m11/11\u001B[0m \u001B[32m━━━━━━━━━━━━━━━━━━━━\u001B[0m\u001B[37m\u001B[0m \u001B[1m0s\u001B[0m 2ms/step - loss: 230.9411 \n",
      "Epoch 26/100\n",
      "\u001B[1m11/11\u001B[0m \u001B[32m━━━━━━━━━━━━━━━━━━━━\u001B[0m\u001B[37m\u001B[0m \u001B[1m0s\u001B[0m 3ms/step - loss: 230.8347 \n",
      "Epoch 27/100\n",
      "\u001B[1m11/11\u001B[0m \u001B[32m━━━━━━━━━━━━━━━━━━━━\u001B[0m\u001B[37m\u001B[0m \u001B[1m0s\u001B[0m 3ms/step - loss: 242.3758 \n",
      "Epoch 28/100\n",
      "\u001B[1m11/11\u001B[0m \u001B[32m━━━━━━━━━━━━━━━━━━━━\u001B[0m\u001B[37m\u001B[0m \u001B[1m0s\u001B[0m 3ms/step - loss: 232.9328 \n",
      "Epoch 29/100\n",
      "\u001B[1m11/11\u001B[0m \u001B[32m━━━━━━━━━━━━━━━━━━━━\u001B[0m\u001B[37m\u001B[0m \u001B[1m0s\u001B[0m 2ms/step - loss: 230.6732 \n",
      "Epoch 30/100\n",
      "\u001B[1m11/11\u001B[0m \u001B[32m━━━━━━━━━━━━━━━━━━━━\u001B[0m\u001B[37m\u001B[0m \u001B[1m0s\u001B[0m 3ms/step - loss: 231.5904 \n",
      "Epoch 31/100\n",
      "\u001B[1m11/11\u001B[0m \u001B[32m━━━━━━━━━━━━━━━━━━━━\u001B[0m\u001B[37m\u001B[0m \u001B[1m0s\u001B[0m 3ms/step - loss: 231.2363 \n",
      "Epoch 32/100\n",
      "\u001B[1m11/11\u001B[0m \u001B[32m━━━━━━━━━━━━━━━━━━━━\u001B[0m\u001B[37m\u001B[0m \u001B[1m0s\u001B[0m 3ms/step - loss: 227.7146 \n",
      "Epoch 33/100\n",
      "\u001B[1m11/11\u001B[0m \u001B[32m━━━━━━━━━━━━━━━━━━━━\u001B[0m\u001B[37m\u001B[0m \u001B[1m0s\u001B[0m 3ms/step - loss: 228.0611 \n",
      "Epoch 34/100\n",
      "\u001B[1m11/11\u001B[0m \u001B[32m━━━━━━━━━━━━━━━━━━━━\u001B[0m\u001B[37m\u001B[0m \u001B[1m0s\u001B[0m 3ms/step - loss: 216.4204 \n",
      "Epoch 35/100\n",
      "\u001B[1m11/11\u001B[0m \u001B[32m━━━━━━━━━━━━━━━━━━━━\u001B[0m\u001B[37m\u001B[0m \u001B[1m0s\u001B[0m 3ms/step - loss: 208.9259 \n",
      "Epoch 36/100\n",
      "\u001B[1m11/11\u001B[0m \u001B[32m━━━━━━━━━━━━━━━━━━━━\u001B[0m\u001B[37m\u001B[0m \u001B[1m0s\u001B[0m 3ms/step - loss: 194.5595 \n",
      "Epoch 37/100\n",
      "\u001B[1m11/11\u001B[0m \u001B[32m━━━━━━━━━━━━━━━━━━━━\u001B[0m\u001B[37m\u001B[0m \u001B[1m0s\u001B[0m 2ms/step - loss: 198.4157 \n",
      "Epoch 38/100\n",
      "\u001B[1m11/11\u001B[0m \u001B[32m━━━━━━━━━━━━━━━━━━━━\u001B[0m\u001B[37m\u001B[0m \u001B[1m0s\u001B[0m 3ms/step - loss: 197.6727 \n",
      "Epoch 39/100\n",
      "\u001B[1m11/11\u001B[0m \u001B[32m━━━━━━━━━━━━━━━━━━━━\u001B[0m\u001B[37m\u001B[0m \u001B[1m0s\u001B[0m 3ms/step - loss: 194.1438 \n",
      "Epoch 40/100\n",
      "\u001B[1m11/11\u001B[0m \u001B[32m━━━━━━━━━━━━━━━━━━━━\u001B[0m\u001B[37m\u001B[0m \u001B[1m0s\u001B[0m 3ms/step - loss: 193.9830 \n",
      "Epoch 41/100\n",
      "\u001B[1m11/11\u001B[0m \u001B[32m━━━━━━━━━━━━━━━━━━━━\u001B[0m\u001B[37m\u001B[0m \u001B[1m0s\u001B[0m 3ms/step - loss: 193.1748 \n",
      "Epoch 42/100\n",
      "\u001B[1m11/11\u001B[0m \u001B[32m━━━━━━━━━━━━━━━━━━━━\u001B[0m\u001B[37m\u001B[0m \u001B[1m0s\u001B[0m 2ms/step - loss: 182.9283 \n",
      "Epoch 43/100\n",
      "\u001B[1m11/11\u001B[0m \u001B[32m━━━━━━━━━━━━━━━━━━━━\u001B[0m\u001B[37m\u001B[0m \u001B[1m0s\u001B[0m 3ms/step - loss: 179.4623 \n",
      "Epoch 44/100\n",
      "\u001B[1m11/11\u001B[0m \u001B[32m━━━━━━━━━━━━━━━━━━━━\u001B[0m\u001B[37m\u001B[0m \u001B[1m0s\u001B[0m 3ms/step - loss: 173.8879 \n",
      "Epoch 45/100\n",
      "\u001B[1m11/11\u001B[0m \u001B[32m━━━━━━━━━━━━━━━━━━━━\u001B[0m\u001B[37m\u001B[0m \u001B[1m0s\u001B[0m 3ms/step - loss: 174.6407 \n",
      "Epoch 46/100\n",
      "\u001B[1m11/11\u001B[0m \u001B[32m━━━━━━━━━━━━━━━━━━━━\u001B[0m\u001B[37m\u001B[0m \u001B[1m0s\u001B[0m 1ms/step - loss: 164.5669 \n",
      "Epoch 47/100\n",
      "\u001B[1m11/11\u001B[0m \u001B[32m━━━━━━━━━━━━━━━━━━━━\u001B[0m\u001B[37m\u001B[0m \u001B[1m0s\u001B[0m 3ms/step - loss: 169.8308 \n",
      "Epoch 48/100\n",
      "\u001B[1m11/11\u001B[0m \u001B[32m━━━━━━━━━━━━━━━━━━━━\u001B[0m\u001B[37m\u001B[0m \u001B[1m0s\u001B[0m 3ms/step - loss: 158.2158 \n",
      "Epoch 49/100\n",
      "\u001B[1m11/11\u001B[0m \u001B[32m━━━━━━━━━━━━━━━━━━━━\u001B[0m\u001B[37m\u001B[0m \u001B[1m0s\u001B[0m 3ms/step - loss: 167.8845 \n",
      "Epoch 50/100\n",
      "\u001B[1m11/11\u001B[0m \u001B[32m━━━━━━━━━━━━━━━━━━━━\u001B[0m\u001B[37m\u001B[0m \u001B[1m0s\u001B[0m 3ms/step - loss: 156.0692 \n",
      "Epoch 51/100\n",
      "\u001B[1m11/11\u001B[0m \u001B[32m━━━━━━━━━━━━━━━━━━━━\u001B[0m\u001B[37m\u001B[0m \u001B[1m0s\u001B[0m 3ms/step - loss: 165.9482 \n",
      "Epoch 52/100\n",
      "\u001B[1m11/11\u001B[0m \u001B[32m━━━━━━━━━━━━━━━━━━━━\u001B[0m\u001B[37m\u001B[0m \u001B[1m0s\u001B[0m 2ms/step - loss: 157.2392 \n",
      "Epoch 53/100\n",
      "\u001B[1m11/11\u001B[0m \u001B[32m━━━━━━━━━━━━━━━━━━━━\u001B[0m\u001B[37m\u001B[0m \u001B[1m0s\u001B[0m 2ms/step - loss: 160.1061 \n",
      "Epoch 54/100\n",
      "\u001B[1m11/11\u001B[0m \u001B[32m━━━━━━━━━━━━━━━━━━━━\u001B[0m\u001B[37m\u001B[0m \u001B[1m0s\u001B[0m 2ms/step - loss: 154.7444 \n",
      "Epoch 55/100\n",
      "\u001B[1m11/11\u001B[0m \u001B[32m━━━━━━━━━━━━━━━━━━━━\u001B[0m\u001B[37m\u001B[0m \u001B[1m0s\u001B[0m 2ms/step - loss: 142.9405 \n",
      "Epoch 56/100\n",
      "\u001B[1m11/11\u001B[0m \u001B[32m━━━━━━━━━━━━━━━━━━━━\u001B[0m\u001B[37m\u001B[0m \u001B[1m0s\u001B[0m 2ms/step - loss: 148.4473 \n",
      "Epoch 57/100\n",
      "\u001B[1m11/11\u001B[0m \u001B[32m━━━━━━━━━━━━━━━━━━━━\u001B[0m\u001B[37m\u001B[0m \u001B[1m0s\u001B[0m 2ms/step - loss: 145.7451 \n",
      "Epoch 58/100\n",
      "\u001B[1m11/11\u001B[0m \u001B[32m━━━━━━━━━━━━━━━━━━━━\u001B[0m\u001B[37m\u001B[0m \u001B[1m0s\u001B[0m 1ms/step - loss: 142.5403 \n",
      "Epoch 59/100\n",
      "\u001B[1m11/11\u001B[0m \u001B[32m━━━━━━━━━━━━━━━━━━━━\u001B[0m\u001B[37m\u001B[0m \u001B[1m0s\u001B[0m 3ms/step - loss: 141.1673 \n",
      "Epoch 60/100\n",
      "\u001B[1m11/11\u001B[0m \u001B[32m━━━━━━━━━━━━━━━━━━━━\u001B[0m\u001B[37m\u001B[0m \u001B[1m0s\u001B[0m 2ms/step - loss: 136.7912 \n",
      "Epoch 61/100\n",
      "\u001B[1m11/11\u001B[0m \u001B[32m━━━━━━━━━━━━━━━━━━━━\u001B[0m\u001B[37m\u001B[0m \u001B[1m0s\u001B[0m 3ms/step - loss: 136.3735 \n",
      "Epoch 62/100\n",
      "\u001B[1m11/11\u001B[0m \u001B[32m━━━━━━━━━━━━━━━━━━━━\u001B[0m\u001B[37m\u001B[0m \u001B[1m0s\u001B[0m 2ms/step - loss: 149.4291 \n",
      "Epoch 63/100\n",
      "\u001B[1m11/11\u001B[0m \u001B[32m━━━━━━━━━━━━━━━━━━━━\u001B[0m\u001B[37m\u001B[0m \u001B[1m0s\u001B[0m 2ms/step - loss: 134.5520 \n",
      "Epoch 64/100\n",
      "\u001B[1m11/11\u001B[0m \u001B[32m━━━━━━━━━━━━━━━━━━━━\u001B[0m\u001B[37m\u001B[0m \u001B[1m0s\u001B[0m 2ms/step - loss: 133.4717 \n",
      "Epoch 65/100\n",
      "\u001B[1m11/11\u001B[0m \u001B[32m━━━━━━━━━━━━━━━━━━━━\u001B[0m\u001B[37m\u001B[0m \u001B[1m0s\u001B[0m 3ms/step - loss: 131.9762 \n",
      "Epoch 66/100\n",
      "\u001B[1m11/11\u001B[0m \u001B[32m━━━━━━━━━━━━━━━━━━━━\u001B[0m\u001B[37m\u001B[0m \u001B[1m0s\u001B[0m 2ms/step - loss: 124.4239 \n",
      "Epoch 67/100\n",
      "\u001B[1m11/11\u001B[0m \u001B[32m━━━━━━━━━━━━━━━━━━━━\u001B[0m\u001B[37m\u001B[0m \u001B[1m0s\u001B[0m 3ms/step - loss: 131.4077 \n",
      "Epoch 68/100\n",
      "\u001B[1m11/11\u001B[0m \u001B[32m━━━━━━━━━━━━━━━━━━━━\u001B[0m\u001B[37m\u001B[0m \u001B[1m0s\u001B[0m 3ms/step - loss: 124.1751 \n",
      "Epoch 69/100\n",
      "\u001B[1m11/11\u001B[0m \u001B[32m━━━━━━━━━━━━━━━━━━━━\u001B[0m\u001B[37m\u001B[0m \u001B[1m0s\u001B[0m 3ms/step - loss: 128.2499 \n",
      "Epoch 70/100\n",
      "\u001B[1m11/11\u001B[0m \u001B[32m━━━━━━━━━━━━━━━━━━━━\u001B[0m\u001B[37m\u001B[0m \u001B[1m0s\u001B[0m 2ms/step - loss: 123.0711 \n",
      "Epoch 71/100\n",
      "\u001B[1m11/11\u001B[0m \u001B[32m━━━━━━━━━━━━━━━━━━━━\u001B[0m\u001B[37m\u001B[0m \u001B[1m0s\u001B[0m 2ms/step - loss: 128.5614 \n",
      "Epoch 72/100\n",
      "\u001B[1m11/11\u001B[0m \u001B[32m━━━━━━━━━━━━━━━━━━━━\u001B[0m\u001B[37m\u001B[0m \u001B[1m0s\u001B[0m 2ms/step - loss: 122.1130 \n",
      "Epoch 73/100\n",
      "\u001B[1m11/11\u001B[0m \u001B[32m━━━━━━━━━━━━━━━━━━━━\u001B[0m\u001B[37m\u001B[0m \u001B[1m0s\u001B[0m 2ms/step - loss: 120.9606 \n",
      "Epoch 74/100\n",
      "\u001B[1m11/11\u001B[0m \u001B[32m━━━━━━━━━━━━━━━━━━━━\u001B[0m\u001B[37m\u001B[0m \u001B[1m0s\u001B[0m 2ms/step - loss: 124.1016 \n",
      "Epoch 75/100\n",
      "\u001B[1m11/11\u001B[0m \u001B[32m━━━━━━━━━━━━━━━━━━━━\u001B[0m\u001B[37m\u001B[0m \u001B[1m0s\u001B[0m 2ms/step - loss: 124.5876 \n",
      "Epoch 76/100\n",
      "\u001B[1m11/11\u001B[0m \u001B[32m━━━━━━━━━━━━━━━━━━━━\u001B[0m\u001B[37m\u001B[0m \u001B[1m0s\u001B[0m 2ms/step - loss: 117.9638 \n",
      "Epoch 77/100\n",
      "\u001B[1m11/11\u001B[0m \u001B[32m━━━━━━━━━━━━━━━━━━━━\u001B[0m\u001B[37m\u001B[0m \u001B[1m0s\u001B[0m 2ms/step - loss: 122.6912 \n",
      "Epoch 78/100\n",
      "\u001B[1m11/11\u001B[0m \u001B[32m━━━━━━━━━━━━━━━━━━━━\u001B[0m\u001B[37m\u001B[0m \u001B[1m0s\u001B[0m 2ms/step - loss: 117.4022  \n",
      "Epoch 79/100\n",
      "\u001B[1m11/11\u001B[0m \u001B[32m━━━━━━━━━━━━━━━━━━━━\u001B[0m\u001B[37m\u001B[0m \u001B[1m0s\u001B[0m 3ms/step - loss: 112.2215 \n",
      "Epoch 80/100\n",
      "\u001B[1m11/11\u001B[0m \u001B[32m━━━━━━━━━━━━━━━━━━━━\u001B[0m\u001B[37m\u001B[0m \u001B[1m0s\u001B[0m 3ms/step - loss: 110.8442 \n",
      "Epoch 81/100\n",
      "\u001B[1m11/11\u001B[0m \u001B[32m━━━━━━━━━━━━━━━━━━━━\u001B[0m\u001B[37m\u001B[0m \u001B[1m0s\u001B[0m 3ms/step - loss: 116.2582 \n",
      "Epoch 82/100\n",
      "\u001B[1m11/11\u001B[0m \u001B[32m━━━━━━━━━━━━━━━━━━━━\u001B[0m\u001B[37m\u001B[0m \u001B[1m0s\u001B[0m 3ms/step - loss: 113.8119 \n",
      "Epoch 83/100\n",
      "\u001B[1m11/11\u001B[0m \u001B[32m━━━━━━━━━━━━━━━━━━━━\u001B[0m\u001B[37m\u001B[0m \u001B[1m0s\u001B[0m 3ms/step - loss: 111.6764 \n",
      "Epoch 84/100\n",
      "\u001B[1m11/11\u001B[0m \u001B[32m━━━━━━━━━━━━━━━━━━━━\u001B[0m\u001B[37m\u001B[0m \u001B[1m0s\u001B[0m 3ms/step - loss: 111.2124 \n",
      "Epoch 85/100\n",
      "\u001B[1m11/11\u001B[0m \u001B[32m━━━━━━━━━━━━━━━━━━━━\u001B[0m\u001B[37m\u001B[0m \u001B[1m0s\u001B[0m 3ms/step - loss: 116.2251 \n",
      "Epoch 86/100\n",
      "\u001B[1m11/11\u001B[0m \u001B[32m━━━━━━━━━━━━━━━━━━━━\u001B[0m\u001B[37m\u001B[0m \u001B[1m0s\u001B[0m 2ms/step - loss: 116.7160  \n",
      "Epoch 87/100\n",
      "\u001B[1m11/11\u001B[0m \u001B[32m━━━━━━━━━━━━━━━━━━━━\u001B[0m\u001B[37m\u001B[0m \u001B[1m0s\u001B[0m 2ms/step - loss: 108.9532 \n",
      "Epoch 88/100\n",
      "\u001B[1m11/11\u001B[0m \u001B[32m━━━━━━━━━━━━━━━━━━━━\u001B[0m\u001B[37m\u001B[0m \u001B[1m0s\u001B[0m 3ms/step - loss: 112.9468 \n",
      "Epoch 89/100\n",
      "\u001B[1m11/11\u001B[0m \u001B[32m━━━━━━━━━━━━━━━━━━━━\u001B[0m\u001B[37m\u001B[0m \u001B[1m0s\u001B[0m 2ms/step - loss: 108.8623 \n",
      "Epoch 90/100\n",
      "\u001B[1m11/11\u001B[0m \u001B[32m━━━━━━━━━━━━━━━━━━━━\u001B[0m\u001B[37m\u001B[0m \u001B[1m0s\u001B[0m 2ms/step - loss: 106.7704 \n",
      "Epoch 91/100\n",
      "\u001B[1m11/11\u001B[0m \u001B[32m━━━━━━━━━━━━━━━━━━━━\u001B[0m\u001B[37m\u001B[0m \u001B[1m0s\u001B[0m 2ms/step - loss: 109.9901 \n",
      "Epoch 92/100\n",
      "\u001B[1m11/11\u001B[0m \u001B[32m━━━━━━━━━━━━━━━━━━━━\u001B[0m\u001B[37m\u001B[0m \u001B[1m0s\u001B[0m 2ms/step - loss: 110.1372 \n",
      "Epoch 93/100\n",
      "\u001B[1m11/11\u001B[0m \u001B[32m━━━━━━━━━━━━━━━━━━━━\u001B[0m\u001B[37m\u001B[0m \u001B[1m0s\u001B[0m 3ms/step - loss: 108.9491 \n",
      "Epoch 94/100\n",
      "\u001B[1m11/11\u001B[0m \u001B[32m━━━━━━━━━━━━━━━━━━━━\u001B[0m\u001B[37m\u001B[0m \u001B[1m0s\u001B[0m 3ms/step - loss: 108.3701 \n",
      "Epoch 95/100\n",
      "\u001B[1m11/11\u001B[0m \u001B[32m━━━━━━━━━━━━━━━━━━━━\u001B[0m\u001B[37m\u001B[0m \u001B[1m0s\u001B[0m 3ms/step - loss: 108.7958 \n",
      "Epoch 96/100\n",
      "\u001B[1m11/11\u001B[0m \u001B[32m━━━━━━━━━━━━━━━━━━━━\u001B[0m\u001B[37m\u001B[0m \u001B[1m0s\u001B[0m 2ms/step - loss: 105.6211 \n",
      "Epoch 97/100\n",
      "\u001B[1m11/11\u001B[0m \u001B[32m━━━━━━━━━━━━━━━━━━━━\u001B[0m\u001B[37m\u001B[0m \u001B[1m0s\u001B[0m 2ms/step - loss: 106.6910 \n",
      "Epoch 98/100\n",
      "\u001B[1m11/11\u001B[0m \u001B[32m━━━━━━━━━━━━━━━━━━━━\u001B[0m\u001B[37m\u001B[0m \u001B[1m0s\u001B[0m 3ms/step - loss: 105.2558 \n",
      "Epoch 99/100\n",
      "\u001B[1m11/11\u001B[0m \u001B[32m━━━━━━━━━━━━━━━━━━━━\u001B[0m\u001B[37m\u001B[0m \u001B[1m0s\u001B[0m 3ms/step - loss: 106.6023 \n",
      "Epoch 100/100\n",
      "\u001B[1m11/11\u001B[0m \u001B[32m━━━━━━━━━━━━━━━━━━━━\u001B[0m\u001B[37m\u001B[0m \u001B[1m0s\u001B[0m 3ms/step - loss: 106.7369 \n"
     ]
    }
   ],
   "execution_count": 50
  },
  {
   "metadata": {
    "ExecuteTime": {
     "end_time": "2024-09-13T00:19:26.387375Z",
     "start_time": "2024-09-13T00:19:11.933557Z"
    }
   },
   "cell_type": "code",
   "source": [
    "r2 = model2.fit(\n",
    "  Xtrain_m2,\n",
    "  Ytrain_m2,\n",
    "  epochs=100\n",
    ")"
   ],
   "id": "6a9cb92d73e8d535",
   "outputs": [
    {
     "name": "stdout",
     "output_type": "stream",
     "text": [
      "Epoch 1/100\n",
      "\u001B[1m27/27\u001B[0m \u001B[32m━━━━━━━━━━━━━━━━━━━━\u001B[0m\u001B[37m\u001B[0m \u001B[1m3s\u001B[0m 2ms/step - loss: 1.4401\n",
      "Epoch 2/100\n",
      "\u001B[1m27/27\u001B[0m \u001B[32m━━━━━━━━━━━━━━━━━━━━\u001B[0m\u001B[37m\u001B[0m \u001B[1m0s\u001B[0m 2ms/step - loss: 1.2119\n",
      "Epoch 3/100\n",
      "\u001B[1m27/27\u001B[0m \u001B[32m━━━━━━━━━━━━━━━━━━━━\u001B[0m\u001B[37m\u001B[0m \u001B[1m0s\u001B[0m 2ms/step - loss: 1.0718\n",
      "Epoch 4/100\n",
      "\u001B[1m27/27\u001B[0m \u001B[32m━━━━━━━━━━━━━━━━━━━━\u001B[0m\u001B[37m\u001B[0m \u001B[1m0s\u001B[0m 2ms/step - loss: 0.9670\n",
      "Epoch 5/100\n",
      "\u001B[1m27/27\u001B[0m \u001B[32m━━━━━━━━━━━━━━━━━━━━\u001B[0m\u001B[37m\u001B[0m \u001B[1m0s\u001B[0m 2ms/step - loss: 0.8932 \n",
      "Epoch 6/100\n",
      "\u001B[1m27/27\u001B[0m \u001B[32m━━━━━━━━━━━━━━━━━━━━\u001B[0m\u001B[37m\u001B[0m \u001B[1m0s\u001B[0m 2ms/step - loss: 0.8372 \n",
      "Epoch 7/100\n",
      "\u001B[1m27/27\u001B[0m \u001B[32m━━━━━━━━━━━━━━━━━━━━\u001B[0m\u001B[37m\u001B[0m \u001B[1m0s\u001B[0m 2ms/step - loss: 0.7974 \n",
      "Epoch 8/100\n",
      "\u001B[1m27/27\u001B[0m \u001B[32m━━━━━━━━━━━━━━━━━━━━\u001B[0m\u001B[37m\u001B[0m \u001B[1m0s\u001B[0m 3ms/step - loss: 0.7685\n",
      "Epoch 9/100\n",
      "\u001B[1m27/27\u001B[0m \u001B[32m━━━━━━━━━━━━━━━━━━━━\u001B[0m\u001B[37m\u001B[0m \u001B[1m0s\u001B[0m 2ms/step - loss: 0.7466 \n",
      "Epoch 10/100\n",
      "\u001B[1m27/27\u001B[0m \u001B[32m━━━━━━━━━━━━━━━━━━━━\u001B[0m\u001B[37m\u001B[0m \u001B[1m0s\u001B[0m 2ms/step - loss: 0.7325\n",
      "Epoch 11/100\n",
      "\u001B[1m27/27\u001B[0m \u001B[32m━━━━━━━━━━━━━━━━━━━━\u001B[0m\u001B[37m\u001B[0m \u001B[1m0s\u001B[0m 2ms/step - loss: 0.7210 \n",
      "Epoch 12/100\n",
      "\u001B[1m27/27\u001B[0m \u001B[32m━━━━━━━━━━━━━━━━━━━━\u001B[0m\u001B[37m\u001B[0m \u001B[1m0s\u001B[0m 2ms/step - loss: 0.7140\n",
      "Epoch 13/100\n",
      "\u001B[1m27/27\u001B[0m \u001B[32m━━━━━━━━━━━━━━━━━━━━\u001B[0m\u001B[37m\u001B[0m \u001B[1m0s\u001B[0m 2ms/step - loss: 0.7092 \n",
      "Epoch 14/100\n",
      "\u001B[1m27/27\u001B[0m \u001B[32m━━━━━━━━━━━━━━━━━━━━\u001B[0m\u001B[37m\u001B[0m \u001B[1m0s\u001B[0m 2ms/step - loss: 0.7042\n",
      "Epoch 15/100\n",
      "\u001B[1m27/27\u001B[0m \u001B[32m━━━━━━━━━━━━━━━━━━━━\u001B[0m\u001B[37m\u001B[0m \u001B[1m0s\u001B[0m 2ms/step - loss: 0.7016\n",
      "Epoch 16/100\n",
      "\u001B[1m27/27\u001B[0m \u001B[32m━━━━━━━━━━━━━━━━━━━━\u001B[0m\u001B[37m\u001B[0m \u001B[1m0s\u001B[0m 2ms/step - loss: 0.6996\n",
      "Epoch 17/100\n",
      "\u001B[1m27/27\u001B[0m \u001B[32m━━━━━━━━━━━━━━━━━━━━\u001B[0m\u001B[37m\u001B[0m \u001B[1m0s\u001B[0m 6ms/step - loss: 0.6987\n",
      "Epoch 18/100\n",
      "\u001B[1m27/27\u001B[0m \u001B[32m━━━━━━━━━━━━━━━━━━━━\u001B[0m\u001B[37m\u001B[0m \u001B[1m0s\u001B[0m 2ms/step - loss: 0.6974 \n",
      "Epoch 19/100\n",
      "\u001B[1m27/27\u001B[0m \u001B[32m━━━━━━━━━━━━━━━━━━━━\u001B[0m\u001B[37m\u001B[0m \u001B[1m0s\u001B[0m 2ms/step - loss: 0.6960 \n",
      "Epoch 20/100\n",
      "\u001B[1m27/27\u001B[0m \u001B[32m━━━━━━━━━━━━━━━━━━━━\u001B[0m\u001B[37m\u001B[0m \u001B[1m0s\u001B[0m 2ms/step - loss: 0.6956 \n",
      "Epoch 21/100\n",
      "\u001B[1m27/27\u001B[0m \u001B[32m━━━━━━━━━━━━━━━━━━━━\u001B[0m\u001B[37m\u001B[0m \u001B[1m0s\u001B[0m 2ms/step - loss: 0.6949 \n",
      "Epoch 22/100\n",
      "\u001B[1m27/27\u001B[0m \u001B[32m━━━━━━━━━━━━━━━━━━━━\u001B[0m\u001B[37m\u001B[0m \u001B[1m0s\u001B[0m 2ms/step - loss: 0.6933 \n",
      "Epoch 23/100\n",
      "\u001B[1m27/27\u001B[0m \u001B[32m━━━━━━━━━━━━━━━━━━━━\u001B[0m\u001B[37m\u001B[0m \u001B[1m0s\u001B[0m 2ms/step - loss: 0.6914\n",
      "Epoch 24/100\n",
      "\u001B[1m27/27\u001B[0m \u001B[32m━━━━━━━━━━━━━━━━━━━━\u001B[0m\u001B[37m\u001B[0m \u001B[1m0s\u001B[0m 2ms/step - loss: 0.6909\n",
      "Epoch 25/100\n",
      "\u001B[1m27/27\u001B[0m \u001B[32m━━━━━━━━━━━━━━━━━━━━\u001B[0m\u001B[37m\u001B[0m \u001B[1m0s\u001B[0m 2ms/step - loss: 0.6905\n",
      "Epoch 26/100\n",
      "\u001B[1m27/27\u001B[0m \u001B[32m━━━━━━━━━━━━━━━━━━━━\u001B[0m\u001B[37m\u001B[0m \u001B[1m0s\u001B[0m 2ms/step - loss: 0.6894\n",
      "Epoch 27/100\n",
      "\u001B[1m27/27\u001B[0m \u001B[32m━━━━━━━━━━━━━━━━━━━━\u001B[0m\u001B[37m\u001B[0m \u001B[1m0s\u001B[0m 2ms/step - loss: 0.6879 \n",
      "Epoch 28/100\n",
      "\u001B[1m27/27\u001B[0m \u001B[32m━━━━━━━━━━━━━━━━━━━━\u001B[0m\u001B[37m\u001B[0m \u001B[1m0s\u001B[0m 2ms/step - loss: 0.6877 \n",
      "Epoch 29/100\n",
      "\u001B[1m27/27\u001B[0m \u001B[32m━━━━━━━━━━━━━━━━━━━━\u001B[0m\u001B[37m\u001B[0m \u001B[1m0s\u001B[0m 2ms/step - loss: 0.6867 \n",
      "Epoch 30/100\n",
      "\u001B[1m27/27\u001B[0m \u001B[32m━━━━━━━━━━━━━━━━━━━━\u001B[0m\u001B[37m\u001B[0m \u001B[1m0s\u001B[0m 2ms/step - loss: 0.6843 \n",
      "Epoch 31/100\n",
      "\u001B[1m27/27\u001B[0m \u001B[32m━━━━━━━━━━━━━━━━━━━━\u001B[0m\u001B[37m\u001B[0m \u001B[1m0s\u001B[0m 3ms/step - loss: 0.6847\n",
      "Epoch 32/100\n",
      "\u001B[1m27/27\u001B[0m \u001B[32m━━━━━━━━━━━━━━━━━━━━\u001B[0m\u001B[37m\u001B[0m \u001B[1m0s\u001B[0m 2ms/step - loss: 0.6842 \n",
      "Epoch 33/100\n",
      "\u001B[1m27/27\u001B[0m \u001B[32m━━━━━━━━━━━━━━━━━━━━\u001B[0m\u001B[37m\u001B[0m \u001B[1m0s\u001B[0m 2ms/step - loss: 0.6828 \n",
      "Epoch 34/100\n",
      "\u001B[1m27/27\u001B[0m \u001B[32m━━━━━━━━━━━━━━━━━━━━\u001B[0m\u001B[37m\u001B[0m \u001B[1m0s\u001B[0m 2ms/step - loss: 0.6829 \n",
      "Epoch 35/100\n",
      "\u001B[1m27/27\u001B[0m \u001B[32m━━━━━━━━━━━━━━━━━━━━\u001B[0m\u001B[37m\u001B[0m \u001B[1m0s\u001B[0m 2ms/step - loss: 0.6803 \n",
      "Epoch 36/100\n",
      "\u001B[1m27/27\u001B[0m \u001B[32m━━━━━━━━━━━━━━━━━━━━\u001B[0m\u001B[37m\u001B[0m \u001B[1m0s\u001B[0m 2ms/step - loss: 0.6785 \n",
      "Epoch 37/100\n",
      "\u001B[1m27/27\u001B[0m \u001B[32m━━━━━━━━━━━━━━━━━━━━\u001B[0m\u001B[37m\u001B[0m \u001B[1m0s\u001B[0m 2ms/step - loss: 0.6792 \n",
      "Epoch 38/100\n",
      "\u001B[1m27/27\u001B[0m \u001B[32m━━━━━━━━━━━━━━━━━━━━\u001B[0m\u001B[37m\u001B[0m \u001B[1m0s\u001B[0m 2ms/step - loss: 0.6766\n",
      "Epoch 39/100\n",
      "\u001B[1m27/27\u001B[0m \u001B[32m━━━━━━━━━━━━━━━━━━━━\u001B[0m\u001B[37m\u001B[0m \u001B[1m0s\u001B[0m 2ms/step - loss: 0.6771 \n",
      "Epoch 40/100\n",
      "\u001B[1m27/27\u001B[0m \u001B[32m━━━━━━━━━━━━━━━━━━━━\u001B[0m\u001B[37m\u001B[0m \u001B[1m0s\u001B[0m 3ms/step - loss: 0.6780\n",
      "Epoch 41/100\n",
      "\u001B[1m27/27\u001B[0m \u001B[32m━━━━━━━━━━━━━━━━━━━━\u001B[0m\u001B[37m\u001B[0m \u001B[1m0s\u001B[0m 2ms/step - loss: 0.6742\n",
      "Epoch 42/100\n",
      "\u001B[1m27/27\u001B[0m \u001B[32m━━━━━━━━━━━━━━━━━━━━\u001B[0m\u001B[37m\u001B[0m \u001B[1m0s\u001B[0m 2ms/step - loss: 0.6749\n",
      "Epoch 43/100\n",
      "\u001B[1m27/27\u001B[0m \u001B[32m━━━━━━━━━━━━━━━━━━━━\u001B[0m\u001B[37m\u001B[0m \u001B[1m0s\u001B[0m 2ms/step - loss: 0.6728 \n",
      "Epoch 44/100\n",
      "\u001B[1m27/27\u001B[0m \u001B[32m━━━━━━━━━━━━━━━━━━━━\u001B[0m\u001B[37m\u001B[0m \u001B[1m0s\u001B[0m 2ms/step - loss: 0.6748\n",
      "Epoch 45/100\n",
      "\u001B[1m27/27\u001B[0m \u001B[32m━━━━━━━━━━━━━━━━━━━━\u001B[0m\u001B[37m\u001B[0m \u001B[1m0s\u001B[0m 2ms/step - loss: 0.6717\n",
      "Epoch 46/100\n",
      "\u001B[1m27/27\u001B[0m \u001B[32m━━━━━━━━━━━━━━━━━━━━\u001B[0m\u001B[37m\u001B[0m \u001B[1m0s\u001B[0m 2ms/step - loss: 0.6737\n",
      "Epoch 47/100\n",
      "\u001B[1m27/27\u001B[0m \u001B[32m━━━━━━━━━━━━━━━━━━━━\u001B[0m\u001B[37m\u001B[0m \u001B[1m0s\u001B[0m 2ms/step - loss: 0.6714\n",
      "Epoch 48/100\n",
      "\u001B[1m27/27\u001B[0m \u001B[32m━━━━━━━━━━━━━━━━━━━━\u001B[0m\u001B[37m\u001B[0m \u001B[1m0s\u001B[0m 2ms/step - loss: 0.6693\n",
      "Epoch 49/100\n",
      "\u001B[1m27/27\u001B[0m \u001B[32m━━━━━━━━━━━━━━━━━━━━\u001B[0m\u001B[37m\u001B[0m \u001B[1m0s\u001B[0m 2ms/step - loss: 0.6696\n",
      "Epoch 50/100\n",
      "\u001B[1m27/27\u001B[0m \u001B[32m━━━━━━━━━━━━━━━━━━━━\u001B[0m\u001B[37m\u001B[0m \u001B[1m0s\u001B[0m 3ms/step - loss: 0.6678\n",
      "Epoch 51/100\n",
      "\u001B[1m27/27\u001B[0m \u001B[32m━━━━━━━━━━━━━━━━━━━━\u001B[0m\u001B[37m\u001B[0m \u001B[1m0s\u001B[0m 2ms/step - loss: 0.6665\n",
      "Epoch 52/100\n",
      "\u001B[1m27/27\u001B[0m \u001B[32m━━━━━━━━━━━━━━━━━━━━\u001B[0m\u001B[37m\u001B[0m \u001B[1m0s\u001B[0m 2ms/step - loss: 0.6673\n",
      "Epoch 53/100\n",
      "\u001B[1m27/27\u001B[0m \u001B[32m━━━━━━━━━━━━━━━━━━━━\u001B[0m\u001B[37m\u001B[0m \u001B[1m0s\u001B[0m 2ms/step - loss: 0.6671\n",
      "Epoch 54/100\n",
      "\u001B[1m27/27\u001B[0m \u001B[32m━━━━━━━━━━━━━━━━━━━━\u001B[0m\u001B[37m\u001B[0m \u001B[1m0s\u001B[0m 2ms/step - loss: 0.6656\n",
      "Epoch 55/100\n",
      "\u001B[1m27/27\u001B[0m \u001B[32m━━━━━━━━━━━━━━━━━━━━\u001B[0m\u001B[37m\u001B[0m \u001B[1m0s\u001B[0m 2ms/step - loss: 0.6660 \n",
      "Epoch 56/100\n",
      "\u001B[1m27/27\u001B[0m \u001B[32m━━━━━━━━━━━━━━━━━━━━\u001B[0m\u001B[37m\u001B[0m \u001B[1m0s\u001B[0m 2ms/step - loss: 0.6650 \n",
      "Epoch 57/100\n",
      "\u001B[1m27/27\u001B[0m \u001B[32m━━━━━━━━━━━━━━━━━━━━\u001B[0m\u001B[37m\u001B[0m \u001B[1m0s\u001B[0m 2ms/step - loss: 0.6631\n",
      "Epoch 58/100\n",
      "\u001B[1m27/27\u001B[0m \u001B[32m━━━━━━━━━━━━━━━━━━━━\u001B[0m\u001B[37m\u001B[0m \u001B[1m0s\u001B[0m 2ms/step - loss: 0.6624\n",
      "Epoch 59/100\n",
      "\u001B[1m27/27\u001B[0m \u001B[32m━━━━━━━━━━━━━━━━━━━━\u001B[0m\u001B[37m\u001B[0m \u001B[1m0s\u001B[0m 2ms/step - loss: 0.6615 \n",
      "Epoch 60/100\n",
      "\u001B[1m27/27\u001B[0m \u001B[32m━━━━━━━━━━━━━━━━━━━━\u001B[0m\u001B[37m\u001B[0m \u001B[1m0s\u001B[0m 2ms/step - loss: 0.6616 \n",
      "Epoch 61/100\n",
      "\u001B[1m27/27\u001B[0m \u001B[32m━━━━━━━━━━━━━━━━━━━━\u001B[0m\u001B[37m\u001B[0m \u001B[1m0s\u001B[0m 2ms/step - loss: 0.6589 \n",
      "Epoch 62/100\n",
      "\u001B[1m27/27\u001B[0m \u001B[32m━━━━━━━━━━━━━━━━━━━━\u001B[0m\u001B[37m\u001B[0m \u001B[1m0s\u001B[0m 2ms/step - loss: 0.6594 \n",
      "Epoch 63/100\n",
      "\u001B[1m27/27\u001B[0m \u001B[32m━━━━━━━━━━━━━━━━━━━━\u001B[0m\u001B[37m\u001B[0m \u001B[1m0s\u001B[0m 2ms/step - loss: 0.6594\n",
      "Epoch 64/100\n",
      "\u001B[1m27/27\u001B[0m \u001B[32m━━━━━━━━━━━━━━━━━━━━\u001B[0m\u001B[37m\u001B[0m \u001B[1m0s\u001B[0m 2ms/step - loss: 0.6599 \n",
      "Epoch 65/100\n",
      "\u001B[1m27/27\u001B[0m \u001B[32m━━━━━━━━━━━━━━━━━━━━\u001B[0m\u001B[37m\u001B[0m \u001B[1m0s\u001B[0m 2ms/step - loss: 0.6580 \n",
      "Epoch 66/100\n",
      "\u001B[1m27/27\u001B[0m \u001B[32m━━━━━━━━━━━━━━━━━━━━\u001B[0m\u001B[37m\u001B[0m \u001B[1m0s\u001B[0m 2ms/step - loss: 0.6577 \n",
      "Epoch 67/100\n",
      "\u001B[1m27/27\u001B[0m \u001B[32m━━━━━━━━━━━━━━━━━━━━\u001B[0m\u001B[37m\u001B[0m \u001B[1m0s\u001B[0m 2ms/step - loss: 0.6559\n",
      "Epoch 68/100\n",
      "\u001B[1m27/27\u001B[0m \u001B[32m━━━━━━━━━━━━━━━━━━━━\u001B[0m\u001B[37m\u001B[0m \u001B[1m0s\u001B[0m 2ms/step - loss: 0.6556 \n",
      "Epoch 69/100\n",
      "\u001B[1m27/27\u001B[0m \u001B[32m━━━━━━━━━━━━━━━━━━━━\u001B[0m\u001B[37m\u001B[0m \u001B[1m0s\u001B[0m 2ms/step - loss: 0.6534 \n",
      "Epoch 70/100\n",
      "\u001B[1m27/27\u001B[0m \u001B[32m━━━━━━━━━━━━━━━━━━━━\u001B[0m\u001B[37m\u001B[0m \u001B[1m0s\u001B[0m 2ms/step - loss: 0.6555 \n",
      "Epoch 71/100\n",
      "\u001B[1m27/27\u001B[0m \u001B[32m━━━━━━━━━━━━━━━━━━━━\u001B[0m\u001B[37m\u001B[0m \u001B[1m0s\u001B[0m 2ms/step - loss: 0.6529\n",
      "Epoch 72/100\n",
      "\u001B[1m27/27\u001B[0m \u001B[32m━━━━━━━━━━━━━━━━━━━━\u001B[0m\u001B[37m\u001B[0m \u001B[1m0s\u001B[0m 2ms/step - loss: 0.6535\n",
      "Epoch 73/100\n",
      "\u001B[1m27/27\u001B[0m \u001B[32m━━━━━━━━━━━━━━━━━━━━\u001B[0m\u001B[37m\u001B[0m \u001B[1m0s\u001B[0m 2ms/step - loss: 0.6526\n",
      "Epoch 74/100\n",
      "\u001B[1m27/27\u001B[0m \u001B[32m━━━━━━━━━━━━━━━━━━━━\u001B[0m\u001B[37m\u001B[0m \u001B[1m0s\u001B[0m 2ms/step - loss: 0.6510 \n",
      "Epoch 75/100\n",
      "\u001B[1m27/27\u001B[0m \u001B[32m━━━━━━━━━━━━━━━━━━━━\u001B[0m\u001B[37m\u001B[0m \u001B[1m0s\u001B[0m 2ms/step - loss: 0.6506 \n",
      "Epoch 76/100\n",
      "\u001B[1m27/27\u001B[0m \u001B[32m━━━━━━━━━━━━━━━━━━━━\u001B[0m\u001B[37m\u001B[0m \u001B[1m0s\u001B[0m 2ms/step - loss: 0.6509\n",
      "Epoch 77/100\n",
      "\u001B[1m27/27\u001B[0m \u001B[32m━━━━━━━━━━━━━━━━━━━━\u001B[0m\u001B[37m\u001B[0m \u001B[1m0s\u001B[0m 2ms/step - loss: 0.6503\n",
      "Epoch 78/100\n",
      "\u001B[1m27/27\u001B[0m \u001B[32m━━━━━━━━━━━━━━━━━━━━\u001B[0m\u001B[37m\u001B[0m \u001B[1m0s\u001B[0m 2ms/step - loss: 0.6502\n",
      "Epoch 79/100\n",
      "\u001B[1m27/27\u001B[0m \u001B[32m━━━━━━━━━━━━━━━━━━━━\u001B[0m\u001B[37m\u001B[0m \u001B[1m0s\u001B[0m 2ms/step - loss: 0.6484 \n",
      "Epoch 80/100\n",
      "\u001B[1m27/27\u001B[0m \u001B[32m━━━━━━━━━━━━━━━━━━━━\u001B[0m\u001B[37m\u001B[0m \u001B[1m0s\u001B[0m 2ms/step - loss: 0.6487 \n",
      "Epoch 81/100\n",
      "\u001B[1m27/27\u001B[0m \u001B[32m━━━━━━━━━━━━━━━━━━━━\u001B[0m\u001B[37m\u001B[0m \u001B[1m0s\u001B[0m 2ms/step - loss: 0.6476\n",
      "Epoch 82/100\n",
      "\u001B[1m27/27\u001B[0m \u001B[32m━━━━━━━━━━━━━━━━━━━━\u001B[0m\u001B[37m\u001B[0m \u001B[1m0s\u001B[0m 2ms/step - loss: 0.6471 \n",
      "Epoch 83/100\n",
      "\u001B[1m27/27\u001B[0m \u001B[32m━━━━━━━━━━━━━━━━━━━━\u001B[0m\u001B[37m\u001B[0m \u001B[1m0s\u001B[0m 2ms/step - loss: 0.6443\n",
      "Epoch 84/100\n",
      "\u001B[1m27/27\u001B[0m \u001B[32m━━━━━━━━━━━━━━━━━━━━\u001B[0m\u001B[37m\u001B[0m \u001B[1m0s\u001B[0m 2ms/step - loss: 0.6467\n",
      "Epoch 85/100\n",
      "\u001B[1m27/27\u001B[0m \u001B[32m━━━━━━━━━━━━━━━━━━━━\u001B[0m\u001B[37m\u001B[0m \u001B[1m0s\u001B[0m 2ms/step - loss: 0.6441\n",
      "Epoch 86/100\n",
      "\u001B[1m27/27\u001B[0m \u001B[32m━━━━━━━━━━━━━━━━━━━━\u001B[0m\u001B[37m\u001B[0m \u001B[1m0s\u001B[0m 2ms/step - loss: 0.6463 \n",
      "Epoch 87/100\n",
      "\u001B[1m27/27\u001B[0m \u001B[32m━━━━━━━━━━━━━━━━━━━━\u001B[0m\u001B[37m\u001B[0m \u001B[1m0s\u001B[0m 2ms/step - loss: 0.6458\n",
      "Epoch 88/100\n",
      "\u001B[1m27/27\u001B[0m \u001B[32m━━━━━━━━━━━━━━━━━━━━\u001B[0m\u001B[37m\u001B[0m \u001B[1m0s\u001B[0m 2ms/step - loss: 0.6439\n",
      "Epoch 89/100\n",
      "\u001B[1m27/27\u001B[0m \u001B[32m━━━━━━━━━━━━━━━━━━━━\u001B[0m\u001B[37m\u001B[0m \u001B[1m0s\u001B[0m 2ms/step - loss: 0.6459 \n",
      "Epoch 90/100\n",
      "\u001B[1m27/27\u001B[0m \u001B[32m━━━━━━━━━━━━━━━━━━━━\u001B[0m\u001B[37m\u001B[0m \u001B[1m0s\u001B[0m 3ms/step - loss: 0.6419\n",
      "Epoch 91/100\n",
      "\u001B[1m27/27\u001B[0m \u001B[32m━━━━━━━━━━━━━━━━━━━━\u001B[0m\u001B[37m\u001B[0m \u001B[1m0s\u001B[0m 2ms/step - loss: 0.6416 \n",
      "Epoch 92/100\n",
      "\u001B[1m27/27\u001B[0m \u001B[32m━━━━━━━━━━━━━━━━━━━━\u001B[0m\u001B[37m\u001B[0m \u001B[1m0s\u001B[0m 2ms/step - loss: 0.6408\n",
      "Epoch 93/100\n",
      "\u001B[1m27/27\u001B[0m \u001B[32m━━━━━━━━━━━━━━━━━━━━\u001B[0m\u001B[37m\u001B[0m \u001B[1m0s\u001B[0m 2ms/step - loss: 0.6416\n",
      "Epoch 94/100\n",
      "\u001B[1m27/27\u001B[0m \u001B[32m━━━━━━━━━━━━━━━━━━━━\u001B[0m\u001B[37m\u001B[0m \u001B[1m0s\u001B[0m 2ms/step - loss: 0.6411 \n",
      "Epoch 95/100\n",
      "\u001B[1m27/27\u001B[0m \u001B[32m━━━━━━━━━━━━━━━━━━━━\u001B[0m\u001B[37m\u001B[0m \u001B[1m0s\u001B[0m 2ms/step - loss: 0.6414 \n",
      "Epoch 96/100\n",
      "\u001B[1m27/27\u001B[0m \u001B[32m━━━━━━━━━━━━━━━━━━━━\u001B[0m\u001B[37m\u001B[0m \u001B[1m0s\u001B[0m 3ms/step - loss: 0.6402\n",
      "Epoch 97/100\n",
      "\u001B[1m27/27\u001B[0m \u001B[32m━━━━━━━━━━━━━━━━━━━━\u001B[0m\u001B[37m\u001B[0m \u001B[1m0s\u001B[0m 2ms/step - loss: 0.6376 \n",
      "Epoch 98/100\n",
      "\u001B[1m27/27\u001B[0m \u001B[32m━━━━━━━━━━━━━━━━━━━━\u001B[0m\u001B[37m\u001B[0m \u001B[1m0s\u001B[0m 2ms/step - loss: 0.6395\n",
      "Epoch 99/100\n",
      "\u001B[1m27/27\u001B[0m \u001B[32m━━━━━━━━━━━━━━━━━━━━\u001B[0m\u001B[37m\u001B[0m \u001B[1m0s\u001B[0m 3ms/step - loss: 0.6378\n",
      "Epoch 100/100\n",
      "\u001B[1m27/27\u001B[0m \u001B[32m━━━━━━━━━━━━━━━━━━━━\u001B[0m\u001B[37m\u001B[0m \u001B[1m0s\u001B[0m 2ms/step - loss: 0.6379 \n"
     ]
    }
   ],
   "execution_count": 53
  },
  {
   "metadata": {
    "ExecuteTime": {
     "end_time": "2024-09-13T00:20:04.073442Z",
     "start_time": "2024-09-13T00:19:46.890511Z"
    }
   },
   "cell_type": "code",
   "source": [
    "r3 = model3.fit(\n",
    "  Xtrain_m3,\n",
    "  Ytrain_m3,\n",
    "  epochs=100\n",
    ")"
   ],
   "id": "a84af6722da57fbb",
   "outputs": [
    {
     "name": "stdout",
     "output_type": "stream",
     "text": [
      "Epoch 1/100\n",
      "\u001B[1m42/42\u001B[0m \u001B[32m━━━━━━━━━━━━━━━━━━━━\u001B[0m\u001B[37m\u001B[0m \u001B[1m2s\u001B[0m 2ms/step - loss: 405.6152\n",
      "Epoch 2/100\n",
      "\u001B[1m42/42\u001B[0m \u001B[32m━━━━━━━━━━━━━━━━━━━━\u001B[0m\u001B[37m\u001B[0m \u001B[1m0s\u001B[0m 2ms/step - loss: 276.7206\n",
      "Epoch 3/100\n",
      "\u001B[1m42/42\u001B[0m \u001B[32m━━━━━━━━━━━━━━━━━━━━\u001B[0m\u001B[37m\u001B[0m \u001B[1m0s\u001B[0m 2ms/step - loss: 218.6736\n",
      "Epoch 4/100\n",
      "\u001B[1m42/42\u001B[0m \u001B[32m━━━━━━━━━━━━━━━━━━━━\u001B[0m\u001B[37m\u001B[0m \u001B[1m0s\u001B[0m 2ms/step - loss: 190.2030\n",
      "Epoch 5/100\n",
      "\u001B[1m42/42\u001B[0m \u001B[32m━━━━━━━━━━━━━━━━━━━━\u001B[0m\u001B[37m\u001B[0m \u001B[1m0s\u001B[0m 2ms/step - loss: 165.9456\n",
      "Epoch 6/100\n",
      "\u001B[1m42/42\u001B[0m \u001B[32m━━━━━━━━━━━━━━━━━━━━\u001B[0m\u001B[37m\u001B[0m \u001B[1m0s\u001B[0m 2ms/step - loss: 147.6021\n",
      "Epoch 7/100\n",
      "\u001B[1m42/42\u001B[0m \u001B[32m━━━━━━━━━━━━━━━━━━━━\u001B[0m\u001B[37m\u001B[0m \u001B[1m0s\u001B[0m 2ms/step - loss: 137.8340\n",
      "Epoch 8/100\n",
      "\u001B[1m42/42\u001B[0m \u001B[32m━━━━━━━━━━━━━━━━━━━━\u001B[0m\u001B[37m\u001B[0m \u001B[1m0s\u001B[0m 2ms/step - loss: 127.9665\n",
      "Epoch 9/100\n",
      "\u001B[1m42/42\u001B[0m \u001B[32m━━━━━━━━━━━━━━━━━━━━\u001B[0m\u001B[37m\u001B[0m \u001B[1m0s\u001B[0m 2ms/step - loss: 120.7964\n",
      "Epoch 10/100\n",
      "\u001B[1m42/42\u001B[0m \u001B[32m━━━━━━━━━━━━━━━━━━━━\u001B[0m\u001B[37m\u001B[0m \u001B[1m0s\u001B[0m 2ms/step - loss: 115.4972\n",
      "Epoch 11/100\n",
      "\u001B[1m42/42\u001B[0m \u001B[32m━━━━━━━━━━━━━━━━━━━━\u001B[0m\u001B[37m\u001B[0m \u001B[1m0s\u001B[0m 2ms/step - loss: 111.5938\n",
      "Epoch 12/100\n",
      "\u001B[1m42/42\u001B[0m \u001B[32m━━━━━━━━━━━━━━━━━━━━\u001B[0m\u001B[37m\u001B[0m \u001B[1m0s\u001B[0m 2ms/step - loss: 109.1361\n",
      "Epoch 13/100\n",
      "\u001B[1m42/42\u001B[0m \u001B[32m━━━━━━━━━━━━━━━━━━━━\u001B[0m\u001B[37m\u001B[0m \u001B[1m0s\u001B[0m 2ms/step - loss: 107.0805\n",
      "Epoch 14/100\n",
      "\u001B[1m42/42\u001B[0m \u001B[32m━━━━━━━━━━━━━━━━━━━━\u001B[0m\u001B[37m\u001B[0m \u001B[1m0s\u001B[0m 2ms/step - loss: 105.1502\n",
      "Epoch 15/100\n",
      "\u001B[1m42/42\u001B[0m \u001B[32m━━━━━━━━━━━━━━━━━━━━\u001B[0m\u001B[37m\u001B[0m \u001B[1m0s\u001B[0m 2ms/step - loss: 104.5377\n",
      "Epoch 16/100\n",
      "\u001B[1m42/42\u001B[0m \u001B[32m━━━━━━━━━━━━━━━━━━━━\u001B[0m\u001B[37m\u001B[0m \u001B[1m0s\u001B[0m 2ms/step - loss: 103.6877\n",
      "Epoch 17/100\n",
      "\u001B[1m42/42\u001B[0m \u001B[32m━━━━━━━━━━━━━━━━━━━━\u001B[0m\u001B[37m\u001B[0m \u001B[1m0s\u001B[0m 2ms/step - loss: 104.0641\n",
      "Epoch 18/100\n",
      "\u001B[1m42/42\u001B[0m \u001B[32m━━━━━━━━━━━━━━━━━━━━\u001B[0m\u001B[37m\u001B[0m \u001B[1m0s\u001B[0m 2ms/step - loss: 102.5531\n",
      "Epoch 19/100\n",
      "\u001B[1m42/42\u001B[0m \u001B[32m━━━━━━━━━━━━━━━━━━━━\u001B[0m\u001B[37m\u001B[0m \u001B[1m0s\u001B[0m 2ms/step - loss: 102.3802\n",
      "Epoch 20/100\n",
      "\u001B[1m42/42\u001B[0m \u001B[32m━━━━━━━━━━━━━━━━━━━━\u001B[0m\u001B[37m\u001B[0m \u001B[1m0s\u001B[0m 2ms/step - loss: 102.5055\n",
      "Epoch 21/100\n",
      "\u001B[1m42/42\u001B[0m \u001B[32m━━━━━━━━━━━━━━━━━━━━\u001B[0m\u001B[37m\u001B[0m \u001B[1m0s\u001B[0m 2ms/step - loss: 101.7441\n",
      "Epoch 22/100\n",
      "\u001B[1m42/42\u001B[0m \u001B[32m━━━━━━━━━━━━━━━━━━━━\u001B[0m\u001B[37m\u001B[0m \u001B[1m0s\u001B[0m 2ms/step - loss: 101.8888\n",
      "Epoch 23/100\n",
      "\u001B[1m42/42\u001B[0m \u001B[32m━━━━━━━━━━━━━━━━━━━━\u001B[0m\u001B[37m\u001B[0m \u001B[1m0s\u001B[0m 2ms/step - loss: 101.5996\n",
      "Epoch 24/100\n",
      "\u001B[1m42/42\u001B[0m \u001B[32m━━━━━━━━━━━━━━━━━━━━\u001B[0m\u001B[37m\u001B[0m \u001B[1m0s\u001B[0m 2ms/step - loss: 101.4250\n",
      "Epoch 25/100\n",
      "\u001B[1m42/42\u001B[0m \u001B[32m━━━━━━━━━━━━━━━━━━━━\u001B[0m\u001B[37m\u001B[0m \u001B[1m0s\u001B[0m 2ms/step - loss: 101.2687\n",
      "Epoch 26/100\n",
      "\u001B[1m42/42\u001B[0m \u001B[32m━━━━━━━━━━━━━━━━━━━━\u001B[0m\u001B[37m\u001B[0m \u001B[1m0s\u001B[0m 2ms/step - loss: 101.3124\n",
      "Epoch 27/100\n",
      "\u001B[1m42/42\u001B[0m \u001B[32m━━━━━━━━━━━━━━━━━━━━\u001B[0m\u001B[37m\u001B[0m \u001B[1m0s\u001B[0m 2ms/step - loss: 101.3124\n",
      "Epoch 28/100\n",
      "\u001B[1m42/42\u001B[0m \u001B[32m━━━━━━━━━━━━━━━━━━━━\u001B[0m\u001B[37m\u001B[0m \u001B[1m0s\u001B[0m 2ms/step - loss: 100.9845\n",
      "Epoch 29/100\n",
      "\u001B[1m42/42\u001B[0m \u001B[32m━━━━━━━━━━━━━━━━━━━━\u001B[0m\u001B[37m\u001B[0m \u001B[1m0s\u001B[0m 2ms/step - loss: 101.0293\n",
      "Epoch 30/100\n",
      "\u001B[1m42/42\u001B[0m \u001B[32m━━━━━━━━━━━━━━━━━━━━\u001B[0m\u001B[37m\u001B[0m \u001B[1m0s\u001B[0m 2ms/step - loss: 100.8598\n",
      "Epoch 31/100\n",
      "\u001B[1m42/42\u001B[0m \u001B[32m━━━━━━━━━━━━━━━━━━━━\u001B[0m\u001B[37m\u001B[0m \u001B[1m0s\u001B[0m 2ms/step - loss: 100.7788\n",
      "Epoch 32/100\n",
      "\u001B[1m42/42\u001B[0m \u001B[32m━━━━━━━━━━━━━━━━━━━━\u001B[0m\u001B[37m\u001B[0m \u001B[1m0s\u001B[0m 2ms/step - loss: 101.0765\n",
      "Epoch 33/100\n",
      "\u001B[1m42/42\u001B[0m \u001B[32m━━━━━━━━━━━━━━━━━━━━\u001B[0m\u001B[37m\u001B[0m \u001B[1m0s\u001B[0m 2ms/step - loss: 101.0944\n",
      "Epoch 34/100\n",
      "\u001B[1m42/42\u001B[0m \u001B[32m━━━━━━━━━━━━━━━━━━━━\u001B[0m\u001B[37m\u001B[0m \u001B[1m0s\u001B[0m 2ms/step - loss: 100.8841\n",
      "Epoch 35/100\n",
      "\u001B[1m42/42\u001B[0m \u001B[32m━━━━━━━━━━━━━━━━━━━━\u001B[0m\u001B[37m\u001B[0m \u001B[1m0s\u001B[0m 2ms/step - loss: 100.7522\n",
      "Epoch 36/100\n",
      "\u001B[1m42/42\u001B[0m \u001B[32m━━━━━━━━━━━━━━━━━━━━\u001B[0m\u001B[37m\u001B[0m \u001B[1m0s\u001B[0m 2ms/step - loss: 100.9333\n",
      "Epoch 37/100\n",
      "\u001B[1m42/42\u001B[0m \u001B[32m━━━━━━━━━━━━━━━━━━━━\u001B[0m\u001B[37m\u001B[0m \u001B[1m0s\u001B[0m 2ms/step - loss: 100.7394\n",
      "Epoch 38/100\n",
      "\u001B[1m42/42\u001B[0m \u001B[32m━━━━━━━━━━━━━━━━━━━━\u001B[0m\u001B[37m\u001B[0m \u001B[1m0s\u001B[0m 2ms/step - loss: 100.6460\n",
      "Epoch 39/100\n",
      "\u001B[1m42/42\u001B[0m \u001B[32m━━━━━━━━━━━━━━━━━━━━\u001B[0m\u001B[37m\u001B[0m \u001B[1m0s\u001B[0m 2ms/step - loss: 100.7742\n",
      "Epoch 40/100\n",
      "\u001B[1m42/42\u001B[0m \u001B[32m━━━━━━━━━━━━━━━━━━━━\u001B[0m\u001B[37m\u001B[0m \u001B[1m0s\u001B[0m 2ms/step - loss: 100.8594\n",
      "Epoch 41/100\n",
      "\u001B[1m42/42\u001B[0m \u001B[32m━━━━━━━━━━━━━━━━━━━━\u001B[0m\u001B[37m\u001B[0m \u001B[1m0s\u001B[0m 2ms/step - loss: 100.7113\n",
      "Epoch 42/100\n",
      "\u001B[1m42/42\u001B[0m \u001B[32m━━━━━━━━━━━━━━━━━━━━\u001B[0m\u001B[37m\u001B[0m \u001B[1m0s\u001B[0m 2ms/step - loss: 100.6732\n",
      "Epoch 43/100\n",
      "\u001B[1m42/42\u001B[0m \u001B[32m━━━━━━━━━━━━━━━━━━━━\u001B[0m\u001B[37m\u001B[0m \u001B[1m0s\u001B[0m 2ms/step - loss: 100.8201\n",
      "Epoch 44/100\n",
      "\u001B[1m42/42\u001B[0m \u001B[32m━━━━━━━━━━━━━━━━━━━━\u001B[0m\u001B[37m\u001B[0m \u001B[1m0s\u001B[0m 2ms/step - loss: 100.6179\n",
      "Epoch 45/100\n",
      "\u001B[1m42/42\u001B[0m \u001B[32m━━━━━━━━━━━━━━━━━━━━\u001B[0m\u001B[37m\u001B[0m \u001B[1m0s\u001B[0m 2ms/step - loss: 100.7501\n",
      "Epoch 46/100\n",
      "\u001B[1m42/42\u001B[0m \u001B[32m━━━━━━━━━━━━━━━━━━━━\u001B[0m\u001B[37m\u001B[0m \u001B[1m0s\u001B[0m 2ms/step - loss: 100.6693\n",
      "Epoch 47/100\n",
      "\u001B[1m42/42\u001B[0m \u001B[32m━━━━━━━━━━━━━━━━━━━━\u001B[0m\u001B[37m\u001B[0m \u001B[1m0s\u001B[0m 2ms/step - loss: 100.7246\n",
      "Epoch 48/100\n",
      "\u001B[1m42/42\u001B[0m \u001B[32m━━━━━━━━━━━━━━━━━━━━\u001B[0m\u001B[37m\u001B[0m \u001B[1m0s\u001B[0m 3ms/step - loss: 100.7538\n",
      "Epoch 49/100\n",
      "\u001B[1m42/42\u001B[0m \u001B[32m━━━━━━━━━━━━━━━━━━━━\u001B[0m\u001B[37m\u001B[0m \u001B[1m0s\u001B[0m 2ms/step - loss: 100.5116\n",
      "Epoch 50/100\n",
      "\u001B[1m42/42\u001B[0m \u001B[32m━━━━━━━━━━━━━━━━━━━━\u001B[0m\u001B[37m\u001B[0m \u001B[1m0s\u001B[0m 2ms/step - loss: 100.5922\n",
      "Epoch 51/100\n",
      "\u001B[1m42/42\u001B[0m \u001B[32m━━━━━━━━━━━━━━━━━━━━\u001B[0m\u001B[37m\u001B[0m \u001B[1m0s\u001B[0m 2ms/step - loss: 100.6787\n",
      "Epoch 52/100\n",
      "\u001B[1m42/42\u001B[0m \u001B[32m━━━━━━━━━━━━━━━━━━━━\u001B[0m\u001B[37m\u001B[0m \u001B[1m0s\u001B[0m 3ms/step - loss: 100.5688\n",
      "Epoch 53/100\n",
      "\u001B[1m42/42\u001B[0m \u001B[32m━━━━━━━━━━━━━━━━━━━━\u001B[0m\u001B[37m\u001B[0m \u001B[1m0s\u001B[0m 2ms/step - loss: 100.5304\n",
      "Epoch 54/100\n",
      "\u001B[1m42/42\u001B[0m \u001B[32m━━━━━━━━━━━━━━━━━━━━\u001B[0m\u001B[37m\u001B[0m \u001B[1m0s\u001B[0m 2ms/step - loss: 100.6399\n",
      "Epoch 55/100\n",
      "\u001B[1m42/42\u001B[0m \u001B[32m━━━━━━━━━━━━━━━━━━━━\u001B[0m\u001B[37m\u001B[0m \u001B[1m0s\u001B[0m 2ms/step - loss: 100.5801\n",
      "Epoch 56/100\n",
      "\u001B[1m42/42\u001B[0m \u001B[32m━━━━━━━━━━━━━━━━━━━━\u001B[0m\u001B[37m\u001B[0m \u001B[1m0s\u001B[0m 2ms/step - loss: 100.5181\n",
      "Epoch 57/100\n",
      "\u001B[1m42/42\u001B[0m \u001B[32m━━━━━━━━━━━━━━━━━━━━\u001B[0m\u001B[37m\u001B[0m \u001B[1m0s\u001B[0m 2ms/step - loss: 100.4839\n",
      "Epoch 58/100\n",
      "\u001B[1m42/42\u001B[0m \u001B[32m━━━━━━━━━━━━━━━━━━━━\u001B[0m\u001B[37m\u001B[0m \u001B[1m0s\u001B[0m 2ms/step - loss: 100.4627\n",
      "Epoch 59/100\n",
      "\u001B[1m42/42\u001B[0m \u001B[32m━━━━━━━━━━━━━━━━━━━━\u001B[0m\u001B[37m\u001B[0m \u001B[1m0s\u001B[0m 2ms/step - loss: 100.5198\n",
      "Epoch 60/100\n",
      "\u001B[1m42/42\u001B[0m \u001B[32m━━━━━━━━━━━━━━━━━━━━\u001B[0m\u001B[37m\u001B[0m \u001B[1m0s\u001B[0m 2ms/step - loss: 100.5747\n",
      "Epoch 61/100\n",
      "\u001B[1m42/42\u001B[0m \u001B[32m━━━━━━━━━━━━━━━━━━━━\u001B[0m\u001B[37m\u001B[0m \u001B[1m0s\u001B[0m 2ms/step - loss: 100.5130\n",
      "Epoch 62/100\n",
      "\u001B[1m42/42\u001B[0m \u001B[32m━━━━━━━━━━━━━━━━━━━━\u001B[0m\u001B[37m\u001B[0m \u001B[1m0s\u001B[0m 2ms/step - loss: 100.5084\n",
      "Epoch 63/100\n",
      "\u001B[1m42/42\u001B[0m \u001B[32m━━━━━━━━━━━━━━━━━━━━\u001B[0m\u001B[37m\u001B[0m \u001B[1m0s\u001B[0m 2ms/step - loss: 100.4193\n",
      "Epoch 64/100\n",
      "\u001B[1m42/42\u001B[0m \u001B[32m━━━━━━━━━━━━━━━━━━━━\u001B[0m\u001B[37m\u001B[0m \u001B[1m0s\u001B[0m 2ms/step - loss: 100.4833\n",
      "Epoch 65/100\n",
      "\u001B[1m42/42\u001B[0m \u001B[32m━━━━━━━━━━━━━━━━━━━━\u001B[0m\u001B[37m\u001B[0m \u001B[1m0s\u001B[0m 2ms/step - loss: 100.2984\n",
      "Epoch 66/100\n",
      "\u001B[1m42/42\u001B[0m \u001B[32m━━━━━━━━━━━━━━━━━━━━\u001B[0m\u001B[37m\u001B[0m \u001B[1m0s\u001B[0m 2ms/step - loss: 100.3912\n",
      "Epoch 67/100\n",
      "\u001B[1m42/42\u001B[0m \u001B[32m━━━━━━━━━━━━━━━━━━━━\u001B[0m\u001B[37m\u001B[0m \u001B[1m0s\u001B[0m 2ms/step - loss: 100.2909\n",
      "Epoch 68/100\n",
      "\u001B[1m42/42\u001B[0m \u001B[32m━━━━━━━━━━━━━━━━━━━━\u001B[0m\u001B[37m\u001B[0m \u001B[1m0s\u001B[0m 2ms/step - loss: 100.4406\n",
      "Epoch 69/100\n",
      "\u001B[1m42/42\u001B[0m \u001B[32m━━━━━━━━━━━━━━━━━━━━\u001B[0m\u001B[37m\u001B[0m \u001B[1m0s\u001B[0m 2ms/step - loss: 100.3334\n",
      "Epoch 70/100\n",
      "\u001B[1m42/42\u001B[0m \u001B[32m━━━━━━━━━━━━━━━━━━━━\u001B[0m\u001B[37m\u001B[0m \u001B[1m0s\u001B[0m 2ms/step - loss: 100.4352\n",
      "Epoch 71/100\n",
      "\u001B[1m42/42\u001B[0m \u001B[32m━━━━━━━━━━━━━━━━━━━━\u001B[0m\u001B[37m\u001B[0m \u001B[1m0s\u001B[0m 2ms/step - loss: 100.4976\n",
      "Epoch 72/100\n",
      "\u001B[1m42/42\u001B[0m \u001B[32m━━━━━━━━━━━━━━━━━━━━\u001B[0m\u001B[37m\u001B[0m \u001B[1m0s\u001B[0m 2ms/step - loss: 100.2887\n",
      "Epoch 73/100\n",
      "\u001B[1m42/42\u001B[0m \u001B[32m━━━━━━━━━━━━━━━━━━━━\u001B[0m\u001B[37m\u001B[0m \u001B[1m0s\u001B[0m 2ms/step - loss: 100.3895\n",
      "Epoch 74/100\n",
      "\u001B[1m42/42\u001B[0m \u001B[32m━━━━━━━━━━━━━━━━━━━━\u001B[0m\u001B[37m\u001B[0m \u001B[1m0s\u001B[0m 2ms/step - loss: 100.2404\n",
      "Epoch 75/100\n",
      "\u001B[1m42/42\u001B[0m \u001B[32m━━━━━━━━━━━━━━━━━━━━\u001B[0m\u001B[37m\u001B[0m \u001B[1m0s\u001B[0m 2ms/step - loss: 100.3374\n",
      "Epoch 76/100\n",
      "\u001B[1m42/42\u001B[0m \u001B[32m━━━━━━━━━━━━━━━━━━━━\u001B[0m\u001B[37m\u001B[0m \u001B[1m0s\u001B[0m 2ms/step - loss: 100.2997\n",
      "Epoch 77/100\n",
      "\u001B[1m42/42\u001B[0m \u001B[32m━━━━━━━━━━━━━━━━━━━━\u001B[0m\u001B[37m\u001B[0m \u001B[1m0s\u001B[0m 2ms/step - loss: 100.2597\n",
      "Epoch 78/100\n",
      "\u001B[1m42/42\u001B[0m \u001B[32m━━━━━━━━━━━━━━━━━━━━\u001B[0m\u001B[37m\u001B[0m \u001B[1m0s\u001B[0m 2ms/step - loss: 100.2805\n",
      "Epoch 79/100\n",
      "\u001B[1m42/42\u001B[0m \u001B[32m━━━━━━━━━━━━━━━━━━━━\u001B[0m\u001B[37m\u001B[0m \u001B[1m0s\u001B[0m 2ms/step - loss: 100.2749\n",
      "Epoch 80/100\n",
      "\u001B[1m42/42\u001B[0m \u001B[32m━━━━━━━━━━━━━━━━━━━━\u001B[0m\u001B[37m\u001B[0m \u001B[1m0s\u001B[0m 2ms/step - loss: 100.3765\n",
      "Epoch 81/100\n",
      "\u001B[1m42/42\u001B[0m \u001B[32m━━━━━━━━━━━━━━━━━━━━\u001B[0m\u001B[37m\u001B[0m \u001B[1m0s\u001B[0m 2ms/step - loss: 100.1792\n",
      "Epoch 82/100\n",
      "\u001B[1m42/42\u001B[0m \u001B[32m━━━━━━━━━━━━━━━━━━━━\u001B[0m\u001B[37m\u001B[0m \u001B[1m0s\u001B[0m 2ms/step - loss: 100.2234\n",
      "Epoch 83/100\n",
      "\u001B[1m42/42\u001B[0m \u001B[32m━━━━━━━━━━━━━━━━━━━━\u001B[0m\u001B[37m\u001B[0m \u001B[1m0s\u001B[0m 2ms/step - loss: 100.1867\n",
      "Epoch 84/100\n",
      "\u001B[1m42/42\u001B[0m \u001B[32m━━━━━━━━━━━━━━━━━━━━\u001B[0m\u001B[37m\u001B[0m \u001B[1m0s\u001B[0m 2ms/step - loss: 100.4221\n",
      "Epoch 85/100\n",
      "\u001B[1m42/42\u001B[0m \u001B[32m━━━━━━━━━━━━━━━━━━━━\u001B[0m\u001B[37m\u001B[0m \u001B[1m0s\u001B[0m 2ms/step - loss: 100.1226\n",
      "Epoch 86/100\n",
      "\u001B[1m42/42\u001B[0m \u001B[32m━━━━━━━━━━━━━━━━━━━━\u001B[0m\u001B[37m\u001B[0m \u001B[1m0s\u001B[0m 2ms/step - loss: 100.3091\n",
      "Epoch 87/100\n",
      "\u001B[1m42/42\u001B[0m \u001B[32m━━━━━━━━━━━━━━━━━━━━\u001B[0m\u001B[37m\u001B[0m \u001B[1m0s\u001B[0m 2ms/step - loss: 99.9856\n",
      "Epoch 88/100\n",
      "\u001B[1m42/42\u001B[0m \u001B[32m━━━━━━━━━━━━━━━━━━━━\u001B[0m\u001B[37m\u001B[0m \u001B[1m0s\u001B[0m 2ms/step - loss: 100.1651\n",
      "Epoch 89/100\n",
      "\u001B[1m42/42\u001B[0m \u001B[32m━━━━━━━━━━━━━━━━━━━━\u001B[0m\u001B[37m\u001B[0m \u001B[1m0s\u001B[0m 2ms/step - loss: 100.0989\n",
      "Epoch 90/100\n",
      "\u001B[1m42/42\u001B[0m \u001B[32m━━━━━━━━━━━━━━━━━━━━\u001B[0m\u001B[37m\u001B[0m \u001B[1m0s\u001B[0m 2ms/step - loss: 99.9650\n",
      "Epoch 91/100\n",
      "\u001B[1m42/42\u001B[0m \u001B[32m━━━━━━━━━━━━━━━━━━━━\u001B[0m\u001B[37m\u001B[0m \u001B[1m0s\u001B[0m 2ms/step - loss: 99.9878\n",
      "Epoch 92/100\n",
      "\u001B[1m42/42\u001B[0m \u001B[32m━━━━━━━━━━━━━━━━━━━━\u001B[0m\u001B[37m\u001B[0m \u001B[1m0s\u001B[0m 2ms/step - loss: 99.9796\n",
      "Epoch 93/100\n",
      "\u001B[1m42/42\u001B[0m \u001B[32m━━━━━━━━━━━━━━━━━━━━\u001B[0m\u001B[37m\u001B[0m \u001B[1m0s\u001B[0m 2ms/step - loss: 99.7465\n",
      "Epoch 94/100\n",
      "\u001B[1m42/42\u001B[0m \u001B[32m━━━━━━━━━━━━━━━━━━━━\u001B[0m\u001B[37m\u001B[0m \u001B[1m0s\u001B[0m 2ms/step - loss: 100.0778\n",
      "Epoch 95/100\n",
      "\u001B[1m42/42\u001B[0m \u001B[32m━━━━━━━━━━━━━━━━━━━━\u001B[0m\u001B[37m\u001B[0m \u001B[1m0s\u001B[0m 2ms/step - loss: 100.0005\n",
      "Epoch 96/100\n",
      "\u001B[1m42/42\u001B[0m \u001B[32m━━━━━━━━━━━━━━━━━━━━\u001B[0m\u001B[37m\u001B[0m \u001B[1m0s\u001B[0m 2ms/step - loss: 100.1167\n",
      "Epoch 97/100\n",
      "\u001B[1m42/42\u001B[0m \u001B[32m━━━━━━━━━━━━━━━━━━━━\u001B[0m\u001B[37m\u001B[0m \u001B[1m0s\u001B[0m 2ms/step - loss: 99.9181\n",
      "Epoch 98/100\n",
      "\u001B[1m42/42\u001B[0m \u001B[32m━━━━━━━━━━━━━━━━━━━━\u001B[0m\u001B[37m\u001B[0m \u001B[1m0s\u001B[0m 2ms/step - loss: 99.7821\n",
      "Epoch 99/100\n",
      "\u001B[1m42/42\u001B[0m \u001B[32m━━━━━━━━━━━━━━━━━━━━\u001B[0m\u001B[37m\u001B[0m \u001B[1m0s\u001B[0m 2ms/step - loss: 99.8564\n",
      "Epoch 100/100\n",
      "\u001B[1m42/42\u001B[0m \u001B[32m━━━━━━━━━━━━━━━━━━━━\u001B[0m\u001B[37m\u001B[0m \u001B[1m0s\u001B[0m 2ms/step - loss: 99.7879\n"
     ]
    }
   ],
   "execution_count": 56
  },
  {
   "metadata": {
    "ExecuteTime": {
     "end_time": "2024-09-13T00:20:32.692393Z",
     "start_time": "2024-09-13T00:20:13.556471Z"
    }
   },
   "cell_type": "code",
   "source": [
    "r4 = model4.fit(\n",
    "  Xtrain_m4,\n",
    "  Ytrain_m4,\n",
    "  epochs=100\n",
    ")"
   ],
   "id": "bf97d4067faac42b",
   "outputs": [
    {
     "name": "stdout",
     "output_type": "stream",
     "text": [
      "Epoch 1/100\n",
      "\u001B[1m53/53\u001B[0m \u001B[32m━━━━━━━━━━━━━━━━━━━━\u001B[0m\u001B[37m\u001B[0m \u001B[1m3s\u001B[0m 2ms/step - loss: 1.9171\n",
      "Epoch 2/100\n",
      "\u001B[1m53/53\u001B[0m \u001B[32m━━━━━━━━━━━━━━━━━━━━\u001B[0m\u001B[37m\u001B[0m \u001B[1m0s\u001B[0m 2ms/step - loss: 1.5174\n",
      "Epoch 3/100\n",
      "\u001B[1m53/53\u001B[0m \u001B[32m━━━━━━━━━━━━━━━━━━━━\u001B[0m\u001B[37m\u001B[0m \u001B[1m0s\u001B[0m 2ms/step - loss: 1.3504\n",
      "Epoch 4/100\n",
      "\u001B[1m53/53\u001B[0m \u001B[32m━━━━━━━━━━━━━━━━━━━━\u001B[0m\u001B[37m\u001B[0m \u001B[1m0s\u001B[0m 2ms/step - loss: 1.2409\n",
      "Epoch 5/100\n",
      "\u001B[1m53/53\u001B[0m \u001B[32m━━━━━━━━━━━━━━━━━━━━\u001B[0m\u001B[37m\u001B[0m \u001B[1m0s\u001B[0m 2ms/step - loss: 1.1671\n",
      "Epoch 6/100\n",
      "\u001B[1m53/53\u001B[0m \u001B[32m━━━━━━━━━━━━━━━━━━━━\u001B[0m\u001B[37m\u001B[0m \u001B[1m0s\u001B[0m 2ms/step - loss: 1.1156\n",
      "Epoch 7/100\n",
      "\u001B[1m53/53\u001B[0m \u001B[32m━━━━━━━━━━━━━━━━━━━━\u001B[0m\u001B[37m\u001B[0m \u001B[1m0s\u001B[0m 2ms/step - loss: 1.0825\n",
      "Epoch 8/100\n",
      "\u001B[1m53/53\u001B[0m \u001B[32m━━━━━━━━━━━━━━━━━━━━\u001B[0m\u001B[37m\u001B[0m \u001B[1m0s\u001B[0m 2ms/step - loss: 1.0623\n",
      "Epoch 9/100\n",
      "\u001B[1m53/53\u001B[0m \u001B[32m━━━━━━━━━━━━━━━━━━━━\u001B[0m\u001B[37m\u001B[0m \u001B[1m0s\u001B[0m 2ms/step - loss: 1.0492\n",
      "Epoch 10/100\n",
      "\u001B[1m53/53\u001B[0m \u001B[32m━━━━━━━━━━━━━━━━━━━━\u001B[0m\u001B[37m\u001B[0m \u001B[1m0s\u001B[0m 2ms/step - loss: 1.0379\n",
      "Epoch 11/100\n",
      "\u001B[1m53/53\u001B[0m \u001B[32m━━━━━━━━━━━━━━━━━━━━\u001B[0m\u001B[37m\u001B[0m \u001B[1m0s\u001B[0m 2ms/step - loss: 1.0319\n",
      "Epoch 12/100\n",
      "\u001B[1m53/53\u001B[0m \u001B[32m━━━━━━━━━━━━━━━━━━━━\u001B[0m\u001B[37m\u001B[0m \u001B[1m0s\u001B[0m 2ms/step - loss: 1.0262\n",
      "Epoch 13/100\n",
      "\u001B[1m53/53\u001B[0m \u001B[32m━━━━━━━━━━━━━━━━━━━━\u001B[0m\u001B[37m\u001B[0m \u001B[1m0s\u001B[0m 2ms/step - loss: 1.0232\n",
      "Epoch 14/100\n",
      "\u001B[1m53/53\u001B[0m \u001B[32m━━━━━━━━━━━━━━━━━━━━\u001B[0m\u001B[37m\u001B[0m \u001B[1m0s\u001B[0m 2ms/step - loss: 1.0216\n",
      "Epoch 15/100\n",
      "\u001B[1m53/53\u001B[0m \u001B[32m━━━━━━━━━━━━━━━━━━━━\u001B[0m\u001B[37m\u001B[0m \u001B[1m0s\u001B[0m 2ms/step - loss: 1.0159\n",
      "Epoch 16/100\n",
      "\u001B[1m53/53\u001B[0m \u001B[32m━━━━━━━━━━━━━━━━━━━━\u001B[0m\u001B[37m\u001B[0m \u001B[1m0s\u001B[0m 2ms/step - loss: 1.0148\n",
      "Epoch 17/100\n",
      "\u001B[1m53/53\u001B[0m \u001B[32m━━━━━━━━━━━━━━━━━━━━\u001B[0m\u001B[37m\u001B[0m \u001B[1m0s\u001B[0m 2ms/step - loss: 1.0132\n",
      "Epoch 18/100\n",
      "\u001B[1m53/53\u001B[0m \u001B[32m━━━━━━━━━━━━━━━━━━━━\u001B[0m\u001B[37m\u001B[0m \u001B[1m0s\u001B[0m 2ms/step - loss: 1.0113\n",
      "Epoch 19/100\n",
      "\u001B[1m53/53\u001B[0m \u001B[32m━━━━━━━━━━━━━━━━━━━━\u001B[0m\u001B[37m\u001B[0m \u001B[1m0s\u001B[0m 2ms/step - loss: 1.0059\n",
      "Epoch 20/100\n",
      "\u001B[1m53/53\u001B[0m \u001B[32m━━━━━━━━━━━━━━━━━━━━\u001B[0m\u001B[37m\u001B[0m \u001B[1m0s\u001B[0m 2ms/step - loss: 1.0042\n",
      "Epoch 21/100\n",
      "\u001B[1m53/53\u001B[0m \u001B[32m━━━━━━━━━━━━━━━━━━━━\u001B[0m\u001B[37m\u001B[0m \u001B[1m0s\u001B[0m 2ms/step - loss: 1.0000\n",
      "Epoch 22/100\n",
      "\u001B[1m53/53\u001B[0m \u001B[32m━━━━━━━━━━━━━━━━━━━━\u001B[0m\u001B[37m\u001B[0m \u001B[1m0s\u001B[0m 2ms/step - loss: 0.9988\n",
      "Epoch 23/100\n",
      "\u001B[1m53/53\u001B[0m \u001B[32m━━━━━━━━━━━━━━━━━━━━\u001B[0m\u001B[37m\u001B[0m \u001B[1m0s\u001B[0m 2ms/step - loss: 0.9966\n",
      "Epoch 24/100\n",
      "\u001B[1m53/53\u001B[0m \u001B[32m━━━━━━━━━━━━━━━━━━━━\u001B[0m\u001B[37m\u001B[0m \u001B[1m0s\u001B[0m 2ms/step - loss: 0.9940\n",
      "Epoch 25/100\n",
      "\u001B[1m53/53\u001B[0m \u001B[32m━━━━━━━━━━━━━━━━━━━━\u001B[0m\u001B[37m\u001B[0m \u001B[1m0s\u001B[0m 2ms/step - loss: 0.9900\n",
      "Epoch 26/100\n",
      "\u001B[1m53/53\u001B[0m \u001B[32m━━━━━━━━━━━━━━━━━━━━\u001B[0m\u001B[37m\u001B[0m \u001B[1m0s\u001B[0m 2ms/step - loss: 0.9866\n",
      "Epoch 27/100\n",
      "\u001B[1m53/53\u001B[0m \u001B[32m━━━━━━━━━━━━━━━━━━━━\u001B[0m\u001B[37m\u001B[0m \u001B[1m0s\u001B[0m 2ms/step - loss: 0.9860\n",
      "Epoch 28/100\n",
      "\u001B[1m53/53\u001B[0m \u001B[32m━━━━━━━━━━━━━━━━━━━━\u001B[0m\u001B[37m\u001B[0m \u001B[1m0s\u001B[0m 2ms/step - loss: 0.9812\n",
      "Epoch 29/100\n",
      "\u001B[1m53/53\u001B[0m \u001B[32m━━━━━━━━━━━━━━━━━━━━\u001B[0m\u001B[37m\u001B[0m \u001B[1m0s\u001B[0m 2ms/step - loss: 0.9800\n",
      "Epoch 30/100\n",
      "\u001B[1m53/53\u001B[0m \u001B[32m━━━━━━━━━━━━━━━━━━━━\u001B[0m\u001B[37m\u001B[0m \u001B[1m0s\u001B[0m 2ms/step - loss: 0.9767\n",
      "Epoch 31/100\n",
      "\u001B[1m53/53\u001B[0m \u001B[32m━━━━━━━━━━━━━━━━━━━━\u001B[0m\u001B[37m\u001B[0m \u001B[1m0s\u001B[0m 2ms/step - loss: 0.9711\n",
      "Epoch 32/100\n",
      "\u001B[1m53/53\u001B[0m \u001B[32m━━━━━━━━━━━━━━━━━━━━\u001B[0m\u001B[37m\u001B[0m \u001B[1m0s\u001B[0m 2ms/step - loss: 0.9725\n",
      "Epoch 33/100\n",
      "\u001B[1m53/53\u001B[0m \u001B[32m━━━━━━━━━━━━━━━━━━━━\u001B[0m\u001B[37m\u001B[0m \u001B[1m0s\u001B[0m 2ms/step - loss: 0.9684\n",
      "Epoch 34/100\n",
      "\u001B[1m53/53\u001B[0m \u001B[32m━━━━━━━━━━━━━━━━━━━━\u001B[0m\u001B[37m\u001B[0m \u001B[1m0s\u001B[0m 2ms/step - loss: 0.9635\n",
      "Epoch 35/100\n",
      "\u001B[1m53/53\u001B[0m \u001B[32m━━━━━━━━━━━━━━━━━━━━\u001B[0m\u001B[37m\u001B[0m \u001B[1m0s\u001B[0m 2ms/step - loss: 0.9662\n",
      "Epoch 36/100\n",
      "\u001B[1m53/53\u001B[0m \u001B[32m━━━━━━━━━━━━━━━━━━━━\u001B[0m\u001B[37m\u001B[0m \u001B[1m0s\u001B[0m 2ms/step - loss: 0.9599\n",
      "Epoch 37/100\n",
      "\u001B[1m53/53\u001B[0m \u001B[32m━━━━━━━━━━━━━━━━━━━━\u001B[0m\u001B[37m\u001B[0m \u001B[1m0s\u001B[0m 2ms/step - loss: 0.9602\n",
      "Epoch 38/100\n",
      "\u001B[1m53/53\u001B[0m \u001B[32m━━━━━━━━━━━━━━━━━━━━\u001B[0m\u001B[37m\u001B[0m \u001B[1m0s\u001B[0m 2ms/step - loss: 0.9604\n",
      "Epoch 39/100\n",
      "\u001B[1m53/53\u001B[0m \u001B[32m━━━━━━━━━━━━━━━━━━━━\u001B[0m\u001B[37m\u001B[0m \u001B[1m0s\u001B[0m 2ms/step - loss: 0.9548\n",
      "Epoch 40/100\n",
      "\u001B[1m53/53\u001B[0m \u001B[32m━━━━━━━━━━━━━━━━━━━━\u001B[0m\u001B[37m\u001B[0m \u001B[1m0s\u001B[0m 2ms/step - loss: 0.9549\n",
      "Epoch 41/100\n",
      "\u001B[1m53/53\u001B[0m \u001B[32m━━━━━━━━━━━━━━━━━━━━\u001B[0m\u001B[37m\u001B[0m \u001B[1m0s\u001B[0m 2ms/step - loss: 0.9448\n",
      "Epoch 42/100\n",
      "\u001B[1m53/53\u001B[0m \u001B[32m━━━━━━━━━━━━━━━━━━━━\u001B[0m\u001B[37m\u001B[0m \u001B[1m0s\u001B[0m 2ms/step - loss: 0.9467\n",
      "Epoch 43/100\n",
      "\u001B[1m53/53\u001B[0m \u001B[32m━━━━━━━━━━━━━━━━━━━━\u001B[0m\u001B[37m\u001B[0m \u001B[1m0s\u001B[0m 2ms/step - loss: 0.9452\n",
      "Epoch 44/100\n",
      "\u001B[1m53/53\u001B[0m \u001B[32m━━━━━━━━━━━━━━━━━━━━\u001B[0m\u001B[37m\u001B[0m \u001B[1m0s\u001B[0m 2ms/step - loss: 0.9399\n",
      "Epoch 45/100\n",
      "\u001B[1m53/53\u001B[0m \u001B[32m━━━━━━━━━━━━━━━━━━━━\u001B[0m\u001B[37m\u001B[0m \u001B[1m0s\u001B[0m 2ms/step - loss: 0.9440\n",
      "Epoch 46/100\n",
      "\u001B[1m53/53\u001B[0m \u001B[32m━━━━━━━━━━━━━━━━━━━━\u001B[0m\u001B[37m\u001B[0m \u001B[1m0s\u001B[0m 2ms/step - loss: 0.9370\n",
      "Epoch 47/100\n",
      "\u001B[1m53/53\u001B[0m \u001B[32m━━━━━━━━━━━━━━━━━━━━\u001B[0m\u001B[37m\u001B[0m \u001B[1m0s\u001B[0m 2ms/step - loss: 0.9347\n",
      "Epoch 48/100\n",
      "\u001B[1m53/53\u001B[0m \u001B[32m━━━━━━━━━━━━━━━━━━━━\u001B[0m\u001B[37m\u001B[0m \u001B[1m0s\u001B[0m 2ms/step - loss: 0.9302\n",
      "Epoch 49/100\n",
      "\u001B[1m53/53\u001B[0m \u001B[32m━━━━━━━━━━━━━━━━━━━━\u001B[0m\u001B[37m\u001B[0m \u001B[1m0s\u001B[0m 2ms/step - loss: 0.9330\n",
      "Epoch 50/100\n",
      "\u001B[1m53/53\u001B[0m \u001B[32m━━━━━━━━━━━━━━━━━━━━\u001B[0m\u001B[37m\u001B[0m \u001B[1m0s\u001B[0m 2ms/step - loss: 0.9298\n",
      "Epoch 51/100\n",
      "\u001B[1m53/53\u001B[0m \u001B[32m━━━━━━━━━━━━━━━━━━━━\u001B[0m\u001B[37m\u001B[0m \u001B[1m0s\u001B[0m 2ms/step - loss: 0.9280\n",
      "Epoch 52/100\n",
      "\u001B[1m53/53\u001B[0m \u001B[32m━━━━━━━━━━━━━━━━━━━━\u001B[0m\u001B[37m\u001B[0m \u001B[1m0s\u001B[0m 2ms/step - loss: 0.9245\n",
      "Epoch 53/100\n",
      "\u001B[1m53/53\u001B[0m \u001B[32m━━━━━━━━━━━━━━━━━━━━\u001B[0m\u001B[37m\u001B[0m \u001B[1m0s\u001B[0m 2ms/step - loss: 0.9249\n",
      "Epoch 54/100\n",
      "\u001B[1m53/53\u001B[0m \u001B[32m━━━━━━━━━━━━━━━━━━━━\u001B[0m\u001B[37m\u001B[0m \u001B[1m0s\u001B[0m 2ms/step - loss: 0.9201\n",
      "Epoch 55/100\n",
      "\u001B[1m53/53\u001B[0m \u001B[32m━━━━━━━━━━━━━━━━━━━━\u001B[0m\u001B[37m\u001B[0m \u001B[1m0s\u001B[0m 2ms/step - loss: 0.9184\n",
      "Epoch 56/100\n",
      "\u001B[1m53/53\u001B[0m \u001B[32m━━━━━━━━━━━━━━━━━━━━\u001B[0m\u001B[37m\u001B[0m \u001B[1m0s\u001B[0m 2ms/step - loss: 0.9218\n",
      "Epoch 57/100\n",
      "\u001B[1m53/53\u001B[0m \u001B[32m━━━━━━━━━━━━━━━━━━━━\u001B[0m\u001B[37m\u001B[0m \u001B[1m0s\u001B[0m 2ms/step - loss: 0.9172\n",
      "Epoch 58/100\n",
      "\u001B[1m53/53\u001B[0m \u001B[32m━━━━━━━━━━━━━━━━━━━━\u001B[0m\u001B[37m\u001B[0m \u001B[1m0s\u001B[0m 2ms/step - loss: 0.9130\n",
      "Epoch 59/100\n",
      "\u001B[1m53/53\u001B[0m \u001B[32m━━━━━━━━━━━━━━━━━━━━\u001B[0m\u001B[37m\u001B[0m \u001B[1m0s\u001B[0m 2ms/step - loss: 0.9128\n",
      "Epoch 60/100\n",
      "\u001B[1m53/53\u001B[0m \u001B[32m━━━━━━━━━━━━━━━━━━━━\u001B[0m\u001B[37m\u001B[0m \u001B[1m0s\u001B[0m 2ms/step - loss: 0.9058\n",
      "Epoch 61/100\n",
      "\u001B[1m53/53\u001B[0m \u001B[32m━━━━━━━━━━━━━━━━━━━━\u001B[0m\u001B[37m\u001B[0m \u001B[1m0s\u001B[0m 2ms/step - loss: 0.9085\n",
      "Epoch 62/100\n",
      "\u001B[1m53/53\u001B[0m \u001B[32m━━━━━━━━━━━━━━━━━━━━\u001B[0m\u001B[37m\u001B[0m \u001B[1m0s\u001B[0m 2ms/step - loss: 0.9080\n",
      "Epoch 63/100\n",
      "\u001B[1m53/53\u001B[0m \u001B[32m━━━━━━━━━━━━━━━━━━━━\u001B[0m\u001B[37m\u001B[0m \u001B[1m0s\u001B[0m 2ms/step - loss: 0.9096\n",
      "Epoch 64/100\n",
      "\u001B[1m53/53\u001B[0m \u001B[32m━━━━━━━━━━━━━━━━━━━━\u001B[0m\u001B[37m\u001B[0m \u001B[1m0s\u001B[0m 2ms/step - loss: 0.9063\n",
      "Epoch 65/100\n",
      "\u001B[1m53/53\u001B[0m \u001B[32m━━━━━━━━━━━━━━━━━━━━\u001B[0m\u001B[37m\u001B[0m \u001B[1m0s\u001B[0m 2ms/step - loss: 0.9070\n",
      "Epoch 66/100\n",
      "\u001B[1m53/53\u001B[0m \u001B[32m━━━━━━━━━━━━━━━━━━━━\u001B[0m\u001B[37m\u001B[0m \u001B[1m0s\u001B[0m 2ms/step - loss: 0.9075\n",
      "Epoch 67/100\n",
      "\u001B[1m53/53\u001B[0m \u001B[32m━━━━━━━━━━━━━━━━━━━━\u001B[0m\u001B[37m\u001B[0m \u001B[1m0s\u001B[0m 2ms/step - loss: 0.8981\n",
      "Epoch 68/100\n",
      "\u001B[1m53/53\u001B[0m \u001B[32m━━━━━━━━━━━━━━━━━━━━\u001B[0m\u001B[37m\u001B[0m \u001B[1m0s\u001B[0m 3ms/step - loss: 0.8969\n",
      "Epoch 69/100\n",
      "\u001B[1m53/53\u001B[0m \u001B[32m━━━━━━━━━━━━━━━━━━━━\u001B[0m\u001B[37m\u001B[0m \u001B[1m0s\u001B[0m 2ms/step - loss: 0.8952\n",
      "Epoch 70/100\n",
      "\u001B[1m53/53\u001B[0m \u001B[32m━━━━━━━━━━━━━━━━━━━━\u001B[0m\u001B[37m\u001B[0m \u001B[1m0s\u001B[0m 2ms/step - loss: 0.8931\n",
      "Epoch 71/100\n",
      "\u001B[1m53/53\u001B[0m \u001B[32m━━━━━━━━━━━━━━━━━━━━\u001B[0m\u001B[37m\u001B[0m \u001B[1m0s\u001B[0m 2ms/step - loss: 0.8974\n",
      "Epoch 72/100\n",
      "\u001B[1m53/53\u001B[0m \u001B[32m━━━━━━━━━━━━━━━━━━━━\u001B[0m\u001B[37m\u001B[0m \u001B[1m0s\u001B[0m 2ms/step - loss: 0.8973\n",
      "Epoch 73/100\n",
      "\u001B[1m53/53\u001B[0m \u001B[32m━━━━━━━━━━━━━━━━━━━━\u001B[0m\u001B[37m\u001B[0m \u001B[1m0s\u001B[0m 2ms/step - loss: 0.8907\n",
      "Epoch 74/100\n",
      "\u001B[1m53/53\u001B[0m \u001B[32m━━━━━━━━━━━━━━━━━━━━\u001B[0m\u001B[37m\u001B[0m \u001B[1m0s\u001B[0m 2ms/step - loss: 0.8981\n",
      "Epoch 75/100\n",
      "\u001B[1m53/53\u001B[0m \u001B[32m━━━━━━━━━━━━━━━━━━━━\u001B[0m\u001B[37m\u001B[0m \u001B[1m0s\u001B[0m 2ms/step - loss: 0.8898\n",
      "Epoch 76/100\n",
      "\u001B[1m53/53\u001B[0m \u001B[32m━━━━━━━━━━━━━━━━━━━━\u001B[0m\u001B[37m\u001B[0m \u001B[1m0s\u001B[0m 2ms/step - loss: 0.8918\n",
      "Epoch 77/100\n",
      "\u001B[1m53/53\u001B[0m \u001B[32m━━━━━━━━━━━━━━━━━━━━\u001B[0m\u001B[37m\u001B[0m \u001B[1m0s\u001B[0m 2ms/step - loss: 0.8922\n",
      "Epoch 78/100\n",
      "\u001B[1m53/53\u001B[0m \u001B[32m━━━━━━━━━━━━━━━━━━━━\u001B[0m\u001B[37m\u001B[0m \u001B[1m0s\u001B[0m 2ms/step - loss: 0.8878\n",
      "Epoch 79/100\n",
      "\u001B[1m53/53\u001B[0m \u001B[32m━━━━━━━━━━━━━━━━━━━━\u001B[0m\u001B[37m\u001B[0m \u001B[1m0s\u001B[0m 2ms/step - loss: 0.8863\n",
      "Epoch 80/100\n",
      "\u001B[1m53/53\u001B[0m \u001B[32m━━━━━━━━━━━━━━━━━━━━\u001B[0m\u001B[37m\u001B[0m \u001B[1m0s\u001B[0m 2ms/step - loss: 0.8842\n",
      "Epoch 81/100\n",
      "\u001B[1m53/53\u001B[0m \u001B[32m━━━━━━━━━━━━━━━━━━━━\u001B[0m\u001B[37m\u001B[0m \u001B[1m0s\u001B[0m 2ms/step - loss: 0.8805\n",
      "Epoch 82/100\n",
      "\u001B[1m53/53\u001B[0m \u001B[32m━━━━━━━━━━━━━━━━━━━━\u001B[0m\u001B[37m\u001B[0m \u001B[1m0s\u001B[0m 2ms/step - loss: 0.8823\n",
      "Epoch 83/100\n",
      "\u001B[1m53/53\u001B[0m \u001B[32m━━━━━━━━━━━━━━━━━━━━\u001B[0m\u001B[37m\u001B[0m \u001B[1m0s\u001B[0m 2ms/step - loss: 0.8842\n",
      "Epoch 84/100\n",
      "\u001B[1m53/53\u001B[0m \u001B[32m━━━━━━━━━━━━━━━━━━━━\u001B[0m\u001B[37m\u001B[0m \u001B[1m0s\u001B[0m 2ms/step - loss: 0.8821\n",
      "Epoch 85/100\n",
      "\u001B[1m53/53\u001B[0m \u001B[32m━━━━━━━━━━━━━━━━━━━━\u001B[0m\u001B[37m\u001B[0m \u001B[1m0s\u001B[0m 2ms/step - loss: 0.8748\n",
      "Epoch 86/100\n",
      "\u001B[1m53/53\u001B[0m \u001B[32m━━━━━━━━━━━━━━━━━━━━\u001B[0m\u001B[37m\u001B[0m \u001B[1m0s\u001B[0m 2ms/step - loss: 0.8767\n",
      "Epoch 87/100\n",
      "\u001B[1m53/53\u001B[0m \u001B[32m━━━━━━━━━━━━━━━━━━━━\u001B[0m\u001B[37m\u001B[0m \u001B[1m0s\u001B[0m 2ms/step - loss: 0.8702\n",
      "Epoch 88/100\n",
      "\u001B[1m53/53\u001B[0m \u001B[32m━━━━━━━━━━━━━━━━━━━━\u001B[0m\u001B[37m\u001B[0m \u001B[1m0s\u001B[0m 2ms/step - loss: 0.8710\n",
      "Epoch 89/100\n",
      "\u001B[1m53/53\u001B[0m \u001B[32m━━━━━━━━━━━━━━━━━━━━\u001B[0m\u001B[37m\u001B[0m \u001B[1m0s\u001B[0m 2ms/step - loss: 0.8771\n",
      "Epoch 90/100\n",
      "\u001B[1m53/53\u001B[0m \u001B[32m━━━━━━━━━━━━━━━━━━━━\u001B[0m\u001B[37m\u001B[0m \u001B[1m0s\u001B[0m 2ms/step - loss: 0.8717\n",
      "Epoch 91/100\n",
      "\u001B[1m53/53\u001B[0m \u001B[32m━━━━━━━━━━━━━━━━━━━━\u001B[0m\u001B[37m\u001B[0m \u001B[1m0s\u001B[0m 2ms/step - loss: 0.8721\n",
      "Epoch 92/100\n",
      "\u001B[1m53/53\u001B[0m \u001B[32m━━━━━━━━━━━━━━━━━━━━\u001B[0m\u001B[37m\u001B[0m \u001B[1m0s\u001B[0m 2ms/step - loss: 0.8666\n",
      "Epoch 93/100\n",
      "\u001B[1m53/53\u001B[0m \u001B[32m━━━━━━━━━━━━━━━━━━━━\u001B[0m\u001B[37m\u001B[0m \u001B[1m0s\u001B[0m 2ms/step - loss: 0.8697\n",
      "Epoch 94/100\n",
      "\u001B[1m53/53\u001B[0m \u001B[32m━━━━━━━━━━━━━━━━━━━━\u001B[0m\u001B[37m\u001B[0m \u001B[1m0s\u001B[0m 2ms/step - loss: 0.8728\n",
      "Epoch 95/100\n",
      "\u001B[1m53/53\u001B[0m \u001B[32m━━━━━━━━━━━━━━━━━━━━\u001B[0m\u001B[37m\u001B[0m \u001B[1m0s\u001B[0m 2ms/step - loss: 0.8588\n",
      "Epoch 96/100\n",
      "\u001B[1m53/53\u001B[0m \u001B[32m━━━━━━━━━━━━━━━━━━━━\u001B[0m\u001B[37m\u001B[0m \u001B[1m0s\u001B[0m 2ms/step - loss: 0.8550\n",
      "Epoch 97/100\n",
      "\u001B[1m53/53\u001B[0m \u001B[32m━━━━━━━━━━━━━━━━━━━━\u001B[0m\u001B[37m\u001B[0m \u001B[1m0s\u001B[0m 2ms/step - loss: 0.8623\n",
      "Epoch 98/100\n",
      "\u001B[1m53/53\u001B[0m \u001B[32m━━━━━━━━━━━━━━━━━━━━\u001B[0m\u001B[37m\u001B[0m \u001B[1m0s\u001B[0m 2ms/step - loss: 0.8654\n",
      "Epoch 99/100\n",
      "\u001B[1m53/53\u001B[0m \u001B[32m━━━━━━━━━━━━━━━━━━━━\u001B[0m\u001B[37m\u001B[0m \u001B[1m0s\u001B[0m 2ms/step - loss: 0.8618\n",
      "Epoch 100/100\n",
      "\u001B[1m53/53\u001B[0m \u001B[32m━━━━━━━━━━━━━━━━━━━━\u001B[0m\u001B[37m\u001B[0m \u001B[1m0s\u001B[0m 2ms/step - loss: 0.8656\n"
     ]
    }
   ],
   "execution_count": 59
  },
  {
   "metadata": {
    "ExecuteTime": {
     "end_time": "2024-09-13T00:20:44.064517Z",
     "start_time": "2024-09-13T00:20:43.797504Z"
    }
   },
   "cell_type": "code",
   "source": [
    "plt.plot(r1.history['loss'], label='train loss')\n",
    "plt.legend()"
   ],
   "id": "23cc15df3d76b12f",
   "outputs": [
    {
     "data": {
      "text/plain": [
       "<matplotlib.legend.Legend at 0x17a63693d40>"
      ]
     },
     "execution_count": 60,
     "metadata": {},
     "output_type": "execute_result"
    },
    {
     "data": {
      "text/plain": [
       "<Figure size 640x480 with 1 Axes>"
      ],
      "image/png": "[encoded data removed]"
     },
     "metadata": {},
     "output_type": "display_data"
    }
   ],
   "execution_count": 60
  },
  {
   "metadata": {
    "ExecuteTime": {
     "end_time": "2024-09-13T00:20:46.463388Z",
     "start_time": "2024-09-13T00:20:46.236176Z"
    }
   },
   "cell_type": "code",
   "source": [
    "plt.plot(r2.history['loss'], label='train loss')\n",
    "plt.legend()"
   ],
   "id": "1e61d22de9037fe8",
   "outputs": [
    {
     "data": {
      "text/plain": [
       "<matplotlib.legend.Legend at 0x17a58fb8920>"
      ]
     },
     "execution_count": 61,
     "metadata": {},
     "output_type": "execute_result"
    },
    {
     "data": {
      "text/plain": [
       "<Figure size 640x480 with 1 Axes>"
      ],
      "image/png": "[encoded data removed]"
     },
     "metadata": {},
     "output_type": "display_data"
    }
   ],
   "execution_count": 61
  },
  {
   "metadata": {
    "ExecuteTime": {
     "end_time": "2024-09-13T00:20:48.104400Z",
     "start_time": "2024-09-13T00:20:47.821526Z"
    }
   },
   "cell_type": "code",
   "source": [
    "plt.plot(r3.history['loss'], label='train loss')\n",
    "plt.legend()"
   ],
   "id": "32104fe39e0763ba",
   "outputs": [
    {
     "data": {
      "text/plain": [
       "<matplotlib.legend.Legend at 0x17a637f7d10>"
      ]
     },
     "execution_count": 62,
     "metadata": {},
     "output_type": "execute_result"
    },
    {
     "data": {
      "text/plain": [
       "<Figure size 640x480 with 1 Axes>"
      ],
      "image/png": "[encoded data removed]"
     },
     "metadata": {},
     "output_type": "display_data"
    }
   ],
   "execution_count": 62
  },
  {
   "metadata": {
    "ExecuteTime": {
     "end_time": "2024-09-13T00:20:55.930637Z",
     "start_time": "2024-09-13T00:20:55.740105Z"
    }
   },
   "cell_type": "code",
   "source": [
    "plt.plot(r4.history['loss'], label='train loss')\n",
    "plt.legend()"
   ],
   "id": "8e8780df47796a38",
   "outputs": [
    {
     "data": {
      "text/plain": [
       "<matplotlib.legend.Legend at 0x17a63a6f470>"
      ]
     },
     "execution_count": 63,
     "metadata": {},
     "output_type": "execute_result"
    },
    {
     "data": {
      "text/plain": [
       "<Figure size 640x480 with 1 Axes>"
      ],
      "image/png": "[encoded data removed]"
     },
     "metadata": {},
     "output_type": "display_data"
    }
   ],
   "execution_count": 63
  },
  {
   "metadata": {
    "ExecuteTime": {
     "end_time": "2024-09-13T00:21:40.796399Z",
     "start_time": "2024-09-13T00:21:39.142752Z"
    }
   },
   "cell_type": "code",
   "source": [
    "Ptrain1 = model1.predict(Xtrain_m1)\n",
    "Ptest1 = model1.predict(Xtest_m1)\n",
    "Ptrain2 = model2.predict(Xtrain_m2)\n",
    "Ptest2 = model2.predict(Xtest_m2)\n",
    "Ptrain3 = model3.predict(Xtrain_m3)\n",
    "Ptest3 = model3.predict(Xtest_m3)\n",
    "Ptrain4 = model4.predict(Xtrain_m4)\n",
    "Ptest4 = model4.predict(Xtest_m4)"
   ],
   "id": "aa6decba88d6918a",
   "outputs": [
    {
     "name": "stdout",
     "output_type": "stream",
     "text": [
      "\u001B[1m11/11\u001B[0m \u001B[32m━━━━━━━━━━━━━━━━━━━━\u001B[0m\u001B[37m\u001B[0m \u001B[1m0s\u001B[0m 8ms/step\n",
      "\u001B[1m1/1\u001B[0m \u001B[32m━━━━━━━━━━━━━━━━━━━━\u001B[0m\u001B[37m\u001B[0m \u001B[1m0s\u001B[0m 31ms/step\n",
      "\u001B[1m27/27\u001B[0m \u001B[32m━━━━━━━━━━━━━━━━━━━━\u001B[0m\u001B[37m\u001B[0m \u001B[1m0s\u001B[0m 4ms/step\n",
      "\u001B[1m1/1\u001B[0m \u001B[32m━━━━━━━━━━━━━━━━━━━━\u001B[0m\u001B[37m\u001B[0m \u001B[1m0s\u001B[0m 35ms/step\n",
      "\u001B[1m42/42\u001B[0m \u001B[32m━━━━━━━━━━━━━━━━━━━━\u001B[0m\u001B[37m\u001B[0m \u001B[1m0s\u001B[0m 3ms/step\n",
      "\u001B[1m1/1\u001B[0m \u001B[32m━━━━━━━━━━━━━━━━━━━━\u001B[0m\u001B[37m\u001B[0m \u001B[1m0s\u001B[0m 47ms/step\n",
      "\u001B[1m53/53\u001B[0m \u001B[32m━━━━━━━━━━━━━━━━━━━━\u001B[0m\u001B[37m\u001B[0m \u001B[1m0s\u001B[0m 3ms/step\n",
      "\u001B[1m1/1\u001B[0m \u001B[32m━━━━━━━━━━━━━━━━━━━━\u001B[0m\u001B[37m\u001B[0m \u001B[1m0s\u001B[0m 31ms/step\n"
     ]
    }
   ],
   "execution_count": 65
  },
  {
   "metadata": {
    "ExecuteTime": {
     "end_time": "2024-09-13T00:22:13.023945Z",
     "start_time": "2024-09-13T00:22:13.009230Z"
    }
   },
   "cell_type": "code",
   "source": [
    "Ptrain1 = Ptrain1[:,0]\n",
    "Ptest1 = Ptest1[0]\n",
    "Ptrain2 = Ptrain2[:,0]\n",
    "Ptest2 = Ptest2[0]\n",
    "Ptrain3 = Ptrain3[:,0]\n",
    "Ptest3 = Ptest3[0]\n",
    "Ptrain4 = Ptrain4[:,0]\n",
    "Ptest4 = Ptest4[0]"
   ],
   "id": "ef53ff64100b4f62",
   "outputs": [],
   "execution_count": 66
  },
  {
   "metadata": {
    "ExecuteTime": {
     "end_time": "2024-09-13T00:22:32.991400Z",
     "start_time": "2024-09-13T00:22:32.977703Z"
    }
   },
   "cell_type": "code",
   "source": [
    "Ptest1 = scaler.inverse_transform(Ptest1.reshape(-1, 1)).flatten()\n",
    "Ptest2 = scaler.inverse_transform(Ptest2.reshape(-1, 1)).flatten()\n",
    "Ptest3 = scaler.inverse_transform(Ptest3.reshape(-1, 1)).flatten()\n",
    "Ptest4 = scaler.inverse_transform(Ptest4.reshape(-1, 1)).flatten()"
   ],
   "id": "817a8785ffc691d4",
   "outputs": [],
   "execution_count": 67
  },
  {
   "metadata": {
    "ExecuteTime": {
     "end_time": "2024-09-13T00:22:53.618524Z",
     "start_time": "2024-09-13T00:22:53.611078Z"
    }
   },
   "cell_type": "code",
   "source": [
    "last_train1 = train1.iloc[-1]['LogClose']\n",
    "last_train2 = train2.iloc[-1]['LogClose']\n",
    "last_train3 = train3.iloc[-1]['LogClose']\n",
    "last_train4 = train4.iloc[-1]['LogClose']"
   ],
   "id": "c78d99831e2c760",
   "outputs": [],
   "execution_count": 68
  },
  {
   "metadata": {
    "ExecuteTime": {
     "end_time": "2024-09-13T00:23:14.980710Z",
     "start_time": "2024-09-13T00:23:14.970252Z"
    }
   },
   "cell_type": "code",
   "source": "print(last_train1, last_train2, last_train3, last_train4)",
   "id": "5b09beccfc208155",
   "outputs": [
    {
     "name": "stdout",
     "output_type": "stream",
     "text": [
      "6.400106266107735 8.031952741139195 7.400636087941132 8.09436361458216\n"
     ]
    }
   ],
   "execution_count": 69
  },
  {
   "metadata": {
    "ExecuteTime": {
     "end_time": "2024-09-13T00:25:38.867158Z",
     "start_time": "2024-09-13T00:25:38.850593Z"
    }
   },
   "cell_type": "code",
   "source": [
    "df1.loc[test_idx1, 'multioutput'] = last_train1 + np.cumsum(Ptest1)\n",
    "df2.loc[test_idx2, 'multioutput'] = last_train2 + np.cumsum(Ptest2)\n",
    "df3.loc[test_idx3, 'multioutput'] = last_train3 + np.cumsum(Ptest3)\n",
    "df4.loc[test_idx4, 'multioutput'] = last_train4 + np.cumsum(Ptest4)"
   ],
   "id": "ba23482a986a5948",
   "outputs": [],
   "execution_count": 71
  },
  {
   "metadata": {
    "ExecuteTime": {
     "end_time": "2024-09-13T00:26:22.236340Z",
     "start_time": "2024-09-13T00:26:21.800301Z"
    }
   },
   "cell_type": "code",
   "source": [
    "df1.iloc[-100:][['LogClose', 'multioutput']].plot(figsize=(15, 5));\n",
    "plt.plot(df1.loc[test_idx1, 'multioutput'])"
   ],
   "id": "e79f9cdceafff342",
   "outputs": [
    {
     "data": {
      "text/plain": [
       "[<matplotlib.lines.Line2D at 0x17a58f924b0>]"
      ]
     },
     "execution_count": 73,
     "metadata": {},
     "output_type": "execute_result"
    },
    {
     "data": {
      "text/plain": [
       "<Figure size 1500x500 with 1 Axes>"
      ],
      "image/png": "[encoded data removed]"
     },
     "metadata": {},
     "output_type": "display_data"
    }
   ],
   "execution_count": 73
  },
  {
   "metadata": {
    "ExecuteTime": {
     "end_time": "2024-09-13T00:26:38.432829Z",
     "start_time": "2024-09-13T00:26:37.992655Z"
    }
   },
   "cell_type": "code",
   "source": [
    "df2.iloc[-100:][['LogClose', 'multioutput']].plot(figsize=(15, 5));\n",
    "plt.plot(df2.loc[test_idx2, 'multioutput'])"
   ],
   "id": "933ac0c4bbdf600f",
   "outputs": [
    {
     "data": {
      "text/plain": [
       "[<matplotlib.lines.Line2D at 0x17a6b4064b0>]"
      ]
     },
     "execution_count": 74,
     "metadata": {},
     "output_type": "execute_result"
    },
    {
     "data": {
      "text/plain": [
       "<Figure size 1500x500 with 1 Axes>"
      ],
      "image/png": "[encoded data removed]"
     },
     "metadata": {},
     "output_type": "display_data"
    }
   ],
   "execution_count": 74
  },
  {
   "metadata": {
    "ExecuteTime": {
     "end_time": "2024-09-13T00:26:52.582849Z",
     "start_time": "2024-09-13T00:26:51.978452Z"
    }
   },
   "cell_type": "code",
   "source": [
    "df3.iloc[-100:][['LogClose', 'multioutput']].plot(figsize=(15, 5));\n",
    "plt.plot(df3.loc[test_idx3, 'multioutput'])"
   ],
   "id": "13fcd89ac65ae99a",
   "outputs": [
    {
     "data": {
      "text/plain": [
       "[<matplotlib.lines.Line2D at 0x17a6b433020>]"
      ]
     },
     "execution_count": 75,
     "metadata": {},
     "output_type": "execute_result"
    },
    {
     "data": {
      "text/plain": [
       "<Figure size 1500x500 with 1 Axes>"
      ],
      "image/png": "[encoded data removed]"
     },
     "metadata": {},
     "output_type": "display_data"
    }
   ],
   "execution_count": 75
  },
  {
   "metadata": {
    "ExecuteTime": {
     "end_time": "2024-09-13T00:27:02.838937Z",
     "start_time": "2024-09-13T00:27:02.309639Z"
    }
   },
   "cell_type": "code",
   "source": [
    "df4.iloc[-100:][['LogClose', 'multioutput']].plot(figsize=(15, 5));\n",
    "plt.plot(df4.loc[test_idx4, 'multioutput'])"
   ],
   "id": "bad3ed18ae4773d8",
   "outputs": [
    {
     "data": {
      "text/plain": [
       "[<matplotlib.lines.Line2D at 0x17a6b5314f0>]"
      ]
     },
     "execution_count": 76,
     "metadata": {},
     "output_type": "execute_result"
    },
    {
     "data": {
      "text/plain": [
       "<Figure size 1500x500 with 1 Axes>"
      ],
      "image/png": "[encoded data removed]"
     },
     "metadata": {},
     "output_type": "display_data"
    }
   ],
   "execution_count": 76
  },
  {
   "metadata": {
    "ExecuteTime": {
     "end_time": "2024-09-13T00:27:40.969181Z",
     "start_time": "2024-09-13T00:27:40.950050Z"
    }
   },
   "cell_type": "code",
   "source": [
    "predicted= np.array(np.exp(df4.loc[test_idx4,'multioutput']))\n",
    "real = np.array(df4.loc[test_idx4,'Close'])\n",
    "print(predicted,real)"
   ],
   "id": "bc28d55cd7896c45",
   "outputs": [
    {
     "name": "stdout",
     "output_type": "stream",
     "text": [
      "[3259.3032 3272.9492 3257.4512 3257.5908 3218.604  3194.1506 3186.4897\n",
      " 3174.8447 3147.2432 3092.4158 3076.279  3049.9004 3034.0957 3018.7153\n",
      " 3007.6233 2952.214  2978.1719 2943.079  2954.38   2923.9421 2943.1199\n",
      " 2920.836  2890.4382 2871.7832 2849.1086 2848.245  2868.1853 2839.2588\n",
      " 2843.849  2837.127 ] [3247.60791  3271.4646   3320.539307 3278.667725 3231.295654 3201.564453\n",
      " 2986.013184 2903.385742 2686.398926 2417.206299 2458.723877 2336.589355\n",
      " 2683.352783 2599.598633 2610.022949 2553.252197 2724.431885 2703.671875\n",
      " 2662.914795 2570.087646 2593.186523 2614.546875 2613.357178 2637.306396\n",
      " 2573.106934 2631.395508 2622.951416 2764.447021 2769.389648 2771.085449]\n"
     ]
    }
   ],
   "execution_count": 77
  },
  {
   "metadata": {
    "ExecuteTime": {
     "end_time": "2024-09-13T00:29:26.660758Z",
     "start_time": "2024-09-13T00:29:26.650546Z"
    }
   },
   "cell_type": "code",
   "source": [
    "predicted = np.array(np.exp(df1.loc[test_idx1,'multioutput']))\n",
    "real = np.array(df1.loc[test_idx1,'Close'])\n",
    "print(predicted,real)"
   ],
   "id": "46588de678af3a2b",
   "outputs": [
    {
     "name": "stdout",
     "output_type": "stream",
     "text": [
      "[598.5858  595.2834  591.9634  588.7293  585.4712  582.25305 579.0472\n",
      " 575.8745  572.6436  569.4988  566.3668  563.20966 560.0923  557.0544\n",
      " 553.98035 550.90906 547.8592  544.8845  541.8598  538.87134 535.9263\n",
      " 532.9429  530.05145 527.12537 524.15173 521.256   518.48035 515.63763\n",
      " 512.8552  510.01242] [ 591.843384  554.827759  573.479126  559.678528  545.797363  568.567322\n",
      "  589.663208  586.011169  589.355591  636.181824  642.868958  654.811951\n",
      "  659.297913  638.290833  609.817871  634.854187  583.7146    611.607178\n",
      "  626.410706  635.835815  682.642334  730.397339  731.520142  751.618958\n",
      "  737.803406  730.367554  774.534973  975.50769  1040.233032 1100.006104]\n"
     ]
    }
   ],
   "execution_count": 87
  },
  {
   "metadata": {
    "ExecuteTime": {
     "end_time": "2024-09-13T00:30:29.884865Z",
     "start_time": "2024-09-13T00:30:29.864963Z"
    }
   },
   "cell_type": "code",
   "source": [
    "predicted = np.array(np.exp(df2.loc[test_idx2,'multioutput']))\n",
    "real = np.array(df2.loc[test_idx2,'Close'])\n",
    "print(predicted,real)"
   ],
   "id": "e6e5d945599c5ce3",
   "outputs": [
    {
     "name": "stdout",
     "output_type": "stream",
     "text": [
      "[3060.918  3047.7056 3054.1619 3055.1846 3023.172  3041.3237 3026.0825\n",
      " 3017.2932 3034.5762 3011.929  2972.868  2987.5723 2925.348  2916.9404\n",
      " 2888.7407 2914.1055 2891.3162 2869.8462 2877.5923 2842.4434 2827.3655\n",
      " 2818.8618 2779.7244 2792.2373 2747.193  2716.446  2709.268  2679.3506\n",
      " 2654.2004 2669.3625] [2987.480713 2964.835693 2938.114014 2922.732666 3009.393555 2808.29834\n",
      " 2888.929688 2936.940918 2815.601807 2730.186768 2827.756104 2857.4104\n",
      " 2783.476318 2940.644775 2749.213135 2694.979736 2636.093018 2517.459961\n",
      " 2245.43042  2343.510986 2072.108643 1961.701538 2014.418213 2056.273926\n",
      " 2145.706787 2022.725952 2090.40918  1916.656128 2018.336182 1961.315674]\n"
     ]
    }
   ],
   "execution_count": 94
  },
  {
   "metadata": {
    "ExecuteTime": {
     "end_time": "2024-09-13T00:31:12.413054Z",
     "start_time": "2024-09-13T00:31:12.394371Z"
    }
   },
   "cell_type": "code",
   "source": [
    "predicted = np.array(np.exp(df3.loc[test_idx3,'multioutput']))\n",
    "real = np.array(df3.loc[test_idx3,'Close'])\n",
    "print(predicted,real)"
   ],
   "id": "3db9d607c873ba0b",
   "outputs": [
    {
     "name": "stdout",
     "output_type": "stream",
     "text": [
      "[1627.7853 1618.5247 1609.7395 1600.715  1591.8279 1583.0194 1574.1088\n",
      " 1565.5177 1556.9252 1548.3497 1539.9    1531.4686 1522.9629 1514.5911\n",
      " 1506.0454 1497.6559 1489.232  1480.7886 1472.6171 1464.6631 1456.4186\n",
      " 1448.2946 1440.0044 1431.8412 1423.7456 1416.0516 1408.1613 1400.3403\n",
      " 1392.4142 1384.5837] [1636.117676 1629.655273 1633.629395 1632.252319 1647.598267 1636.137817\n",
      " 1635.162354 1616.828857 1551.637695 1592.429443 1607.988525 1626.974365\n",
      " 1641.640381 1635.22168  1622.896729 1637.347046 1643.544678 1622.890625\n",
      " 1584.307007 1593.268311 1593.857788 1580.853394 1588.322876 1593.417236\n",
      " 1597.491211 1652.88269  1667.943848 1671.161865 1733.810425 1663.627563]\n"
     ]
    }
   ],
   "execution_count": 101
  },
  {
   "metadata": {
    "ExecuteTime": {
     "end_time": "2024-09-13T00:27:58.865704Z",
     "start_time": "2024-09-13T00:27:58.854231Z"
    }
   },
   "cell_type": "code",
   "source": [
    "predicted_10d = predicted\n",
    "real_10d = real"
   ],
   "id": "6382bbc71964d6e6",
   "outputs": [],
   "execution_count": 79
  },
  {
   "metadata": {
    "ExecuteTime": {
     "end_time": "2024-09-13T00:31:14.419010Z",
     "start_time": "2024-09-13T00:31:14.406477Z"
    }
   },
   "cell_type": "code",
   "source": [
    "predicted_50d = predicted\n",
    "real_50d = real"
   ],
   "id": "bbaa15f007f7285",
   "outputs": [],
   "execution_count": 102
  },
  {
   "metadata": {
    "ExecuteTime": {
     "end_time": "2024-09-13T00:30:33.892042Z",
     "start_time": "2024-09-13T00:30:33.875048Z"
    }
   },
   "cell_type": "code",
   "source": [
    "predicted_100d = predicted\n",
    "real_100d = real"
   ],
   "id": "ca297a1b3b4c8b5a",
   "outputs": [],
   "execution_count": 95
  },
  {
   "metadata": {
    "ExecuteTime": {
     "end_time": "2024-09-13T00:33:40.183321Z",
     "start_time": "2024-09-13T00:33:40.169745Z"
    }
   },
   "cell_type": "code",
   "source": [
    "pred = []\n",
    "real = []\n",
    "pred.append(predicted_10d)\n",
    "pred.append(predicted_50d)\n",
    "pred.append(predicted_100d)\n",
    "real.append(real_10d)\n",
    "real.append(real_50d)\n",
    "real.append(real_100d)"
   ],
   "id": "48631e935429753e",
   "outputs": [],
   "execution_count": 106
  },
  {
   "metadata": {
    "ExecuteTime": {
     "end_time": "2024-09-13T00:33:49.667552Z",
     "start_time": "2024-09-13T00:33:49.652253Z"
    }
   },
   "cell_type": "code",
   "source": "r2_score(pred,real)",
   "id": "23fd9c67e985d428",
   "outputs": [
    {
     "data": {
      "text/plain": [
       "0.7476319428446964"
      ]
     },
     "execution_count": 107,
     "metadata": {},
     "output_type": "execute_result"
    }
   ],
   "execution_count": 107
  },
  {
   "metadata": {
    "ExecuteTime": {
     "end_time": "2024-09-13T00:31:16.448032Z",
     "start_time": "2024-09-13T00:31:16.438572Z"
    }
   },
   "cell_type": "code",
   "source": "print(\"R2 score for 10, 50 and 100 days are:\",round(r2_score(real_10d, predicted_10d),4), round(r2_score(real_50d, predicted_50d),4),round(r2_score(real_100d, predicted_100d),4))",
   "id": "e8683a2093186770",
   "outputs": [
    {
     "name": "stdout",
     "output_type": "stream",
     "text": [
      "R2 score for 10, 50 and 100 days are: -0.4002 -17.9191 -0.366\n"
     ]
    }
   ],
   "execution_count": 103
  },
  {
   "metadata": {
    "ExecuteTime": {
     "end_time": "2024-09-13T00:31:20.115879Z",
     "start_time": "2024-09-13T00:31:20.094866Z"
    }
   },
   "cell_type": "code",
   "source": "print(\"MAPE score for 10, 50 and 100 days are:\",round(mean_absolute_percentage_error(real_10d, predicted_10d)*100,2),round(mean_absolute_percentage_error(real_50d, predicted_50d)*100,2),round(mean_absolute_percentage_error(real_100d, predicted_100d)*100,2))",
   "id": "b18407fd72d8c7ee",
   "outputs": [
    {
     "name": "stdout",
     "output_type": "stream",
     "text": [
      "MAPE score for 10, 50 and 100 days are: 10.14 7.5 16.77\n"
     ]
    }
   ],
   "execution_count": 104
  },
  {
   "metadata": {
    "ExecuteTime": {
     "end_time": "2024-09-13T00:31:27.191438Z",
     "start_time": "2024-09-13T00:31:27.168516Z"
    }
   },
   "cell_type": "code",
   "source": "print(\"MAE scores for 10, 50 and 100 days are:\",round(mean_absolute_error(real_10d, predicted_10d),2),round(mean_absolute_error(real_50d, predicted_50d),2),round(mean_absolute_error(real_100d, predicted_100d),2))",
   "id": "11bdde6cec966380",
   "outputs": [
    {
     "name": "stdout",
     "output_type": "stream",
     "text": [
      "MAE scores for 10, 50 and 100 days are: 262.75 122.77 368.08\n"
     ]
    }
   ],
   "execution_count": 105
  },
  {
   "metadata": {
    "ExecuteTime": {
     "end_time": "2024-09-13T00:30:41.821857Z",
     "start_time": "2024-09-13T00:30:41.806663Z"
    }
   },
   "cell_type": "code",
   "source": "print(\"MSE scores for 10, 50 and 100 days are:\",round(mean_squared_error(real_10d, predicted_10d),2),round(mean_squared_error(real_50d, predicted_50d),2),round(mean_squared_error(real_100d, predicted_100d),2))",
   "id": "aee5ba17126cc820",
   "outputs": [
    {
     "name": "stdout",
     "output_type": "stream",
     "text": [
      "MSE scores for 10, 50 and 100 days are: 105726.52 40561.6 212008.54\n"
     ]
    }
   ],
   "execution_count": 99
  },
  {
   "metadata": {
    "ExecuteTime": {
     "end_time": "2024-09-13T00:30:43.112626Z",
     "start_time": "2024-09-13T00:30:43.091888Z"
    }
   },
   "cell_type": "code",
   "source": "print(\"RMSE scores for 10, 50 and 100 days are:\",round(root_mean_squared_error(real_10d, predicted_10d),2),round(root_mean_squared_error(real_50d, predicted_50d),2),round(root_mean_squared_error(real_100d, predicted_100d),2))",
   "id": "e274754d22a8862",
   "outputs": [
    {
     "name": "stdout",
     "output_type": "stream",
     "text": [
      "RMSE scores for 10, 50 and 100 days are: 325.16 201.4 460.44\n"
     ]
    }
   ],
   "execution_count": 100
  }
 ],
 "metadata": {
  "kernelspec": {
   "display_name": "Python 3",
   "language": "python",
   "name": "python3"
  },
  "language_info": {
   "codemirror_mode": {
    "name": "ipython",
    "version": 2
   },
   "file_extension": ".py",
   "mimetype": "text/x-python",
   "name": "python",
   "nbconvert_exporter": "python",
   "pygments_lexer": "ipython2",
   "version": "2.7.6"
  }
 },
 "nbformat": 4,
 "nbformat_minor": 5
}
