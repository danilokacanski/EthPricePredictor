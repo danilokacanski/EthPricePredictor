{
 "cells": [
  {
   "cell_type": "code",
   "id": "initial_id",
   "metadata": {
    "collapsed": true,
    "ExecuteTime": {
     "end_time": "2024-08-29T17:59:00.759459Z",
     "start_time": "2024-08-29T17:58:55.443016Z"
    }
   },
   "source": [
    "import numpy as np\n",
    "import pandas as pd\n",
    "from sklearn.metrics import mean_absolute_percentage_error, mean_absolute_error, r2_score, mean_squared_error, root_mean_squared_error\n",
    "import matplotlib.pylab as plt\n",
    "from statsmodels.tsa.holtwinters import ExponentialSmoothing\n",
    "import itertools"
   ],
   "outputs": [],
   "execution_count": 2
  },
  {
   "metadata": {
    "ExecuteTime": {
     "end_time": "2024-08-29T17:59:02.143046Z",
     "start_time": "2024-08-29T17:59:02.095283Z"
    }
   },
   "cell_type": "code",
   "source": "df = pd.read_csv('ETH-USD.csv',index_col=0,parse_dates=True)",
   "id": "f4520189f97ee3c2",
   "outputs": [],
   "execution_count": 3
  },
  {
   "metadata": {
    "ExecuteTime": {
     "end_time": "2024-08-29T17:59:03.306071Z",
     "start_time": "2024-08-29T17:59:03.291737Z"
    }
   },
   "cell_type": "code",
   "source": "df.index.freq = 'D'",
   "id": "3cb7e7053440e153",
   "outputs": [],
   "execution_count": 4
  },
  {
   "metadata": {
    "ExecuteTime": {
     "end_time": "2024-08-29T17:59:04.386612Z",
     "start_time": "2024-08-29T17:59:04.369713Z"
    }
   },
   "cell_type": "code",
   "source": "df.shape",
   "id": "2f9c47e3eac38bd1",
   "outputs": [
    {
     "data": {
      "text/plain": [
       "(1828, 6)"
      ]
     },
     "execution_count": 5,
     "metadata": {},
     "output_type": "execute_result"
    }
   ],
   "execution_count": 5
  },
  {
   "metadata": {
    "ExecuteTime": {
     "end_time": "2024-08-29T17:59:06.274710Z",
     "start_time": "2024-08-29T17:59:06.259893Z"
    }
   },
   "cell_type": "code",
   "source": "eth = df[['Close']]",
   "id": "dbb168c93afce17a",
   "outputs": [],
   "execution_count": 6
  },
  {
   "metadata": {
    "ExecuteTime": {
     "end_time": "2024-08-29T17:59:07.382019Z",
     "start_time": "2024-08-29T17:59:07.359304Z"
    }
   },
   "cell_type": "code",
   "source": "eth",
   "id": "1a5e5ec2c3978d51",
   "outputs": [
    {
     "data": {
      "text/plain": [
       "                  Close\n",
       "Date                   \n",
       "2019-08-25   186.842392\n",
       "2019-08-26   188.929382\n",
       "2019-08-27   187.516663\n",
       "2019-08-28   173.889969\n",
       "2019-08-29   169.516739\n",
       "...                 ...\n",
       "2024-08-21  2631.395508\n",
       "2024-08-22  2622.951416\n",
       "2024-08-23  2764.447021\n",
       "2024-08-24  2769.389648\n",
       "2024-08-25  2771.085449\n",
       "\n",
       "[1828 rows x 1 columns]"
      ],
      "text/html": [
       "<div>\n",
       "<style scoped>\n",
       "    .dataframe tbody tr th:only-of-type {\n",
       "        vertical-align: middle;\n",
       "    }\n",
       "\n",
       "    .dataframe tbody tr th {\n",
       "        vertical-align: top;\n",
       "    }\n",
       "\n",
       "    .dataframe thead th {\n",
       "        text-align: right;\n",
       "    }\n",
       "</style>\n",
       "<table border=\"1\" class=\"dataframe\">\n",
       "  <thead>\n",
       "    <tr style=\"text-align: right;\">\n",
       "      <th></th>\n",
       "      <th>Close</th>\n",
       "    </tr>\n",
       "    <tr>\n",
       "      <th>Date</th>\n",
       "      <th></th>\n",
       "    </tr>\n",
       "  </thead>\n",
       "  <tbody>\n",
       "    <tr>\n",
       "      <th>2019-08-25</th>\n",
       "      <td>186.842392</td>\n",
       "    </tr>\n",
       "    <tr>\n",
       "      <th>2019-08-26</th>\n",
       "      <td>188.929382</td>\n",
       "    </tr>\n",
       "    <tr>\n",
       "      <th>2019-08-27</th>\n",
       "      <td>187.516663</td>\n",
       "    </tr>\n",
       "    <tr>\n",
       "      <th>2019-08-28</th>\n",
       "      <td>173.889969</td>\n",
       "    </tr>\n",
       "    <tr>\n",
       "      <th>2019-08-29</th>\n",
       "      <td>169.516739</td>\n",
       "    </tr>\n",
       "    <tr>\n",
       "      <th>...</th>\n",
       "      <td>...</td>\n",
       "    </tr>\n",
       "    <tr>\n",
       "      <th>2024-08-21</th>\n",
       "      <td>2631.395508</td>\n",
       "    </tr>\n",
       "    <tr>\n",
       "      <th>2024-08-22</th>\n",
       "      <td>2622.951416</td>\n",
       "    </tr>\n",
       "    <tr>\n",
       "      <th>2024-08-23</th>\n",
       "      <td>2764.447021</td>\n",
       "    </tr>\n",
       "    <tr>\n",
       "      <th>2024-08-24</th>\n",
       "      <td>2769.389648</td>\n",
       "    </tr>\n",
       "    <tr>\n",
       "      <th>2024-08-25</th>\n",
       "      <td>2771.085449</td>\n",
       "    </tr>\n",
       "  </tbody>\n",
       "</table>\n",
       "<p>1828 rows × 1 columns</p>\n",
       "</div>"
      ]
     },
     "execution_count": 7,
     "metadata": {},
     "output_type": "execute_result"
    }
   ],
   "execution_count": 7
  },
  {
   "metadata": {
    "ExecuteTime": {
     "end_time": "2024-08-27T20:16:46.175148Z",
     "start_time": "2024-08-27T20:16:46.096324Z"
    }
   },
   "cell_type": "code",
   "source": "eth['Close']",
   "id": "ba6249ce9f43e261",
   "outputs": [
    {
     "data": {
      "text/plain": [
       "Date\n",
       "2019-08-25     186.842392\n",
       "2019-08-26     188.929382\n",
       "2019-08-27     187.516663\n",
       "2019-08-28     173.889969\n",
       "2019-08-29     169.516739\n",
       "                 ...     \n",
       "2024-08-21    2631.395508\n",
       "2024-08-22    2622.951416\n",
       "2024-08-23    2764.447021\n",
       "2024-08-24    2769.389648\n",
       "2024-08-25    2771.085449\n",
       "Freq: D, Name: Close, Length: 1828, dtype: float64"
      ]
     },
     "execution_count": 18,
     "metadata": {},
     "output_type": "execute_result"
    }
   ],
   "execution_count": 18
  },
  {
   "metadata": {
    "ExecuteTime": {
     "end_time": "2024-08-27T20:16:48.935313Z",
     "start_time": "2024-08-27T20:16:48.919409Z"
    }
   },
   "cell_type": "code",
   "source": [
    "# horizon is 1 for 1 day predicitons\n",
    "h = 1\n",
    "steps = 10\n",
    "Ntest = len(eth) - h - steps + 1"
   ],
   "id": "f0476a6cc13b3a37",
   "outputs": [],
   "execution_count": 19
  },
  {
   "metadata": {
    "ExecuteTime": {
     "end_time": "2024-08-27T20:17:19.800786Z",
     "start_time": "2024-08-27T20:17:19.787265Z"
    }
   },
   "cell_type": "code",
   "source": [
    "# Configuration hyperparameters to try\n",
    "trend_type_list = ['add', 'mul']\n",
    "seasonal_type_list = ['add', 'mul']\n",
    "damped_trend_list = [True, False]\n",
    "init_method_list = ['estimated', 'heuristic', 'legacy-heuristic']\n",
    "use_boxcox_list = [True, False, 0]"
   ],
   "id": "ed99779afebf5ba0",
   "outputs": [],
   "execution_count": 22
  },
  {
   "metadata": {
    "ExecuteTime": {
     "end_time": "2024-08-27T20:16:50.611394Z",
     "start_time": "2024-08-27T20:16:50.597860Z"
    }
   },
   "cell_type": "code",
   "source": [
    "def walkforward(\n",
    "    trend_type,\n",
    "    seasonal_type,\n",
    "    damped_trend,\n",
    "    init_method,\n",
    "    use_boxcox,\n",
    "    debug=False):\n",
    "\n",
    "  # store errors\n",
    "  errors = []\n",
    "  seen_last = False\n",
    "  steps_completed = 0\n",
    "\n",
    "  for end_of_train in range(Ntest, len(df) - h + 1):\n",
    "    # We don't have to manually \"add\" the data to our dataset\n",
    "    # Just index it at the right points - this is a \"view\" not a \"copy\"\n",
    "    # So it doesn't take up any extra space or computation\n",
    "    train = eth.iloc[:end_of_train]\n",
    "    test = eth.iloc[end_of_train:end_of_train + h]\n",
    "\n",
    "    if test.index[-1] == df.index[-1]:\n",
    "      seen_last = True\n",
    "    \n",
    "    steps_completed += 1\n",
    "\n",
    "    hw = ExponentialSmoothing(\n",
    "        train['Close'],\n",
    "        initialization_method=init_method,\n",
    "        trend=trend_type,\n",
    "        damped_trend=damped_trend,\n",
    "        seasonal=seasonal_type,\n",
    "        seasonal_periods=12,\n",
    "        use_boxcox=use_boxcox)\n",
    "    res_hw = hw.fit()\n",
    "\n",
    "    # compute error for the forecast horizon\n",
    "    fcast = res_hw.forecast(h)\n",
    "    error = mean_squared_error(test['Close'], fcast)\n",
    "    errors.append(error)\n",
    "  \n",
    "  if debug:\n",
    "    print(\"seen_last:\", seen_last)\n",
    "    print(\"steps completed:\", steps_completed)\n",
    "\n",
    "  return np.mean(errors)"
   ],
   "id": "3bb73412af711133",
   "outputs": [],
   "execution_count": 20
  },
  {
   "metadata": {
    "ExecuteTime": {
     "end_time": "2024-08-27T20:16:59.320582Z",
     "start_time": "2024-08-27T20:16:53.994014Z"
    }
   },
   "cell_type": "code",
   "source": "walkforward('add', 'add', False, 'legacy-heuristic', 0, debug=True)",
   "id": "933c134913dca3b9",
   "outputs": [
    {
     "name": "stdout",
     "output_type": "stream",
     "text": [
      "seen_last: True\n",
      "steps completed: 10\n"
     ]
    },
    {
     "data": {
      "text/plain": [
       "3131.598087630393"
      ]
     },
     "execution_count": 21,
     "metadata": {},
     "output_type": "execute_result"
    }
   ],
   "execution_count": 21
  },
  {
   "metadata": {
    "ExecuteTime": {
     "end_time": "2024-08-27T20:17:41.747280Z",
     "start_time": "2024-08-27T20:17:41.738046Z"
    }
   },
   "cell_type": "code",
   "source": [
    "# Iterate through all possible options (i.e. grid search)\n",
    "tuple_of_option_lists = (\n",
    "    trend_type_list,\n",
    "    seasonal_type_list,\n",
    "    damped_trend_list,\n",
    "    init_method_list,\n",
    "    use_boxcox_list,\n",
    ")\n",
    "for x in itertools.product(*tuple_of_option_lists):\n",
    "  print(x)"
   ],
   "id": "ac54ecd3821a6588",
   "outputs": [
    {
     "name": "stdout",
     "output_type": "stream",
     "text": [
      "('add', 'add', True, 'estimated', True)\n",
      "('add', 'add', True, 'estimated', False)\n",
      "('add', 'add', True, 'estimated', 0)\n",
      "('add', 'add', True, 'heuristic', True)\n",
      "('add', 'add', True, 'heuristic', False)\n",
      "('add', 'add', True, 'heuristic', 0)\n",
      "('add', 'add', True, 'legacy-heuristic', True)\n",
      "('add', 'add', True, 'legacy-heuristic', False)\n",
      "('add', 'add', True, 'legacy-heuristic', 0)\n",
      "('add', 'add', False, 'estimated', True)\n",
      "('add', 'add', False, 'estimated', False)\n",
      "('add', 'add', False, 'estimated', 0)\n",
      "('add', 'add', False, 'heuristic', True)\n",
      "('add', 'add', False, 'heuristic', False)\n",
      "('add', 'add', False, 'heuristic', 0)\n",
      "('add', 'add', False, 'legacy-heuristic', True)\n",
      "('add', 'add', False, 'legacy-heuristic', False)\n",
      "('add', 'add', False, 'legacy-heuristic', 0)\n",
      "('add', 'mul', True, 'estimated', True)\n",
      "('add', 'mul', True, 'estimated', False)\n",
      "('add', 'mul', True, 'estimated', 0)\n",
      "('add', 'mul', True, 'heuristic', True)\n",
      "('add', 'mul', True, 'heuristic', False)\n",
      "('add', 'mul', True, 'heuristic', 0)\n",
      "('add', 'mul', True, 'legacy-heuristic', True)\n",
      "('add', 'mul', True, 'legacy-heuristic', False)\n",
      "('add', 'mul', True, 'legacy-heuristic', 0)\n",
      "('add', 'mul', False, 'estimated', True)\n",
      "('add', 'mul', False, 'estimated', False)\n",
      "('add', 'mul', False, 'estimated', 0)\n",
      "('add', 'mul', False, 'heuristic', True)\n",
      "('add', 'mul', False, 'heuristic', False)\n",
      "('add', 'mul', False, 'heuristic', 0)\n",
      "('add', 'mul', False, 'legacy-heuristic', True)\n",
      "('add', 'mul', False, 'legacy-heuristic', False)\n",
      "('add', 'mul', False, 'legacy-heuristic', 0)\n",
      "('mul', 'add', True, 'estimated', True)\n",
      "('mul', 'add', True, 'estimated', False)\n",
      "('mul', 'add', True, 'estimated', 0)\n",
      "('mul', 'add', True, 'heuristic', True)\n",
      "('mul', 'add', True, 'heuristic', False)\n",
      "('mul', 'add', True, 'heuristic', 0)\n",
      "('mul', 'add', True, 'legacy-heuristic', True)\n",
      "('mul', 'add', True, 'legacy-heuristic', False)\n",
      "('mul', 'add', True, 'legacy-heuristic', 0)\n",
      "('mul', 'add', False, 'estimated', True)\n",
      "('mul', 'add', False, 'estimated', False)\n",
      "('mul', 'add', False, 'estimated', 0)\n",
      "('mul', 'add', False, 'heuristic', True)\n",
      "('mul', 'add', False, 'heuristic', False)\n",
      "('mul', 'add', False, 'heuristic', 0)\n",
      "('mul', 'add', False, 'legacy-heuristic', True)\n",
      "('mul', 'add', False, 'legacy-heuristic', False)\n",
      "('mul', 'add', False, 'legacy-heuristic', 0)\n",
      "('mul', 'mul', True, 'estimated', True)\n",
      "('mul', 'mul', True, 'estimated', False)\n",
      "('mul', 'mul', True, 'estimated', 0)\n",
      "('mul', 'mul', True, 'heuristic', True)\n",
      "('mul', 'mul', True, 'heuristic', False)\n",
      "('mul', 'mul', True, 'heuristic', 0)\n",
      "('mul', 'mul', True, 'legacy-heuristic', True)\n",
      "('mul', 'mul', True, 'legacy-heuristic', False)\n",
      "('mul', 'mul', True, 'legacy-heuristic', 0)\n",
      "('mul', 'mul', False, 'estimated', True)\n",
      "('mul', 'mul', False, 'estimated', False)\n",
      "('mul', 'mul', False, 'estimated', 0)\n",
      "('mul', 'mul', False, 'heuristic', True)\n",
      "('mul', 'mul', False, 'heuristic', False)\n",
      "('mul', 'mul', False, 'heuristic', 0)\n",
      "('mul', 'mul', False, 'legacy-heuristic', True)\n",
      "('mul', 'mul', False, 'legacy-heuristic', False)\n",
      "('mul', 'mul', False, 'legacy-heuristic', 0)\n"
     ]
    }
   ],
   "execution_count": 24
  },
  {
   "metadata": {
    "ExecuteTime": {
     "end_time": "2024-08-28T09:59:34.118778Z",
     "start_time": "2024-08-28T09:39:27.382530Z"
    }
   },
   "cell_type": "code",
   "source": [
    "best_score = float('inf')\n",
    "best_options = None\n",
    "for x in itertools.product(*tuple_of_option_lists):\n",
    "  score = walkforward(*x)\n",
    "\n",
    "  if score < best_score:\n",
    "    print(\"Best score so far:\", score)\n",
    "    best_score = score\n",
    "    best_options = x"
   ],
   "id": "bf79a6da9cbcc746",
   "outputs": [
    {
     "name": "stdout",
     "output_type": "stream",
     "text": [
      "Best score so far: 3143.366659035509\n",
      "Best score so far: 3070.1126190887835\n",
      "Best score so far: 2838.6675172254772\n",
      "Best score so far: 2764.2952893895404\n",
      "Best score so far: 2751.085635911254\n",
      "Best score so far: 2715.9353069751164\n"
     ]
    },
    {
     "name": "stderr",
     "output_type": "stream",
     "text": [
      "C:\\Users\\Korisnik\\Desktop\\Diplomski\\Eth_price_prediciton\\.venv\\Lib\\site-packages\\statsmodels\\tsa\\holtwinters\\model.py:918: ConvergenceWarning: Optimization failed to converge. Check mle_retvals.\n",
      "  warnings.warn(\n",
      "C:\\Users\\Korisnik\\Desktop\\Diplomski\\Eth_price_prediciton\\.venv\\Lib\\site-packages\\statsmodels\\tsa\\holtwinters\\model.py:918: ConvergenceWarning: Optimization failed to converge. Check mle_retvals.\n",
      "  warnings.warn(\n",
      "C:\\Users\\Korisnik\\Desktop\\Diplomski\\Eth_price_prediciton\\.venv\\Lib\\site-packages\\statsmodels\\tsa\\holtwinters\\model.py:918: ConvergenceWarning: Optimization failed to converge. Check mle_retvals.\n",
      "  warnings.warn(\n",
      "C:\\Users\\Korisnik\\Desktop\\Diplomski\\Eth_price_prediciton\\.venv\\Lib\\site-packages\\statsmodels\\tsa\\holtwinters\\model.py:918: ConvergenceWarning: Optimization failed to converge. Check mle_retvals.\n",
      "  warnings.warn(\n",
      "C:\\Users\\Korisnik\\Desktop\\Diplomski\\Eth_price_prediciton\\.venv\\Lib\\site-packages\\statsmodels\\tsa\\holtwinters\\model.py:918: ConvergenceWarning: Optimization failed to converge. Check mle_retvals.\n",
      "  warnings.warn(\n",
      "C:\\Users\\Korisnik\\Desktop\\Diplomski\\Eth_price_prediciton\\.venv\\Lib\\site-packages\\statsmodels\\tsa\\holtwinters\\model.py:918: ConvergenceWarning: Optimization failed to converge. Check mle_retvals.\n",
      "  warnings.warn(\n",
      "C:\\Users\\Korisnik\\Desktop\\Diplomski\\Eth_price_prediciton\\.venv\\Lib\\site-packages\\statsmodels\\tsa\\holtwinters\\model.py:918: ConvergenceWarning: Optimization failed to converge. Check mle_retvals.\n",
      "  warnings.warn(\n",
      "C:\\Users\\Korisnik\\Desktop\\Diplomski\\Eth_price_prediciton\\.venv\\Lib\\site-packages\\statsmodels\\tsa\\holtwinters\\model.py:918: ConvergenceWarning: Optimization failed to converge. Check mle_retvals.\n",
      "  warnings.warn(\n",
      "C:\\Users\\Korisnik\\Desktop\\Diplomski\\Eth_price_prediciton\\.venv\\Lib\\site-packages\\statsmodels\\tsa\\holtwinters\\model.py:918: ConvergenceWarning: Optimization failed to converge. Check mle_retvals.\n",
      "  warnings.warn(\n",
      "C:\\Users\\Korisnik\\Desktop\\Diplomski\\Eth_price_prediciton\\.venv\\Lib\\site-packages\\statsmodels\\tsa\\holtwinters\\model.py:918: ConvergenceWarning: Optimization failed to converge. Check mle_retvals.\n",
      "  warnings.warn(\n",
      "C:\\Users\\Korisnik\\Desktop\\Diplomski\\Eth_price_prediciton\\.venv\\Lib\\site-packages\\statsmodels\\tsa\\holtwinters\\model.py:918: ConvergenceWarning: Optimization failed to converge. Check mle_retvals.\n",
      "  warnings.warn(\n",
      "C:\\Users\\Korisnik\\Desktop\\Diplomski\\Eth_price_prediciton\\.venv\\Lib\\site-packages\\statsmodels\\tsa\\holtwinters\\model.py:918: ConvergenceWarning: Optimization failed to converge. Check mle_retvals.\n",
      "  warnings.warn(\n",
      "C:\\Users\\Korisnik\\Desktop\\Diplomski\\Eth_price_prediciton\\.venv\\Lib\\site-packages\\statsmodels\\tsa\\holtwinters\\model.py:84: RuntimeWarning: overflow encountered in matmul\n",
      "  return err.T @ err\n",
      "C:\\Users\\Korisnik\\Desktop\\Diplomski\\Eth_price_prediciton\\.venv\\Lib\\site-packages\\statsmodels\\tsa\\holtwinters\\model.py:84: RuntimeWarning: overflow encountered in matmul\n",
      "  return err.T @ err\n",
      "C:\\Users\\Korisnik\\Desktop\\Diplomski\\Eth_price_prediciton\\.venv\\Lib\\site-packages\\statsmodels\\tsa\\holtwinters\\model.py:84: RuntimeWarning: overflow encountered in matmul\n",
      "  return err.T @ err\n",
      "C:\\Users\\Korisnik\\Desktop\\Diplomski\\Eth_price_prediciton\\.venv\\Lib\\site-packages\\statsmodels\\tsa\\holtwinters\\model.py:918: ConvergenceWarning: Optimization failed to converge. Check mle_retvals.\n",
      "  warnings.warn(\n",
      "C:\\Users\\Korisnik\\Desktop\\Diplomski\\Eth_price_prediciton\\.venv\\Lib\\site-packages\\statsmodels\\tsa\\holtwinters\\model.py:918: ConvergenceWarning: Optimization failed to converge. Check mle_retvals.\n",
      "  warnings.warn(\n",
      "C:\\Users\\Korisnik\\Desktop\\Diplomski\\Eth_price_prediciton\\.venv\\Lib\\site-packages\\statsmodels\\tsa\\holtwinters\\model.py:84: RuntimeWarning: overflow encountered in matmul\n",
      "  return err.T @ err\n",
      "C:\\Users\\Korisnik\\Desktop\\Diplomski\\Eth_price_prediciton\\.venv\\Lib\\site-packages\\statsmodels\\tsa\\holtwinters\\model.py:84: RuntimeWarning: overflow encountered in matmul\n",
      "  return err.T @ err\n",
      "C:\\Users\\Korisnik\\Desktop\\Diplomski\\Eth_price_prediciton\\.venv\\Lib\\site-packages\\statsmodels\\tsa\\holtwinters\\model.py:84: RuntimeWarning: overflow encountered in matmul\n",
      "  return err.T @ err\n",
      "C:\\Users\\Korisnik\\Desktop\\Diplomski\\Eth_price_prediciton\\.venv\\Lib\\site-packages\\statsmodels\\tsa\\holtwinters\\model.py:918: ConvergenceWarning: Optimization failed to converge. Check mle_retvals.\n",
      "  warnings.warn(\n",
      "C:\\Users\\Korisnik\\Desktop\\Diplomski\\Eth_price_prediciton\\.venv\\Lib\\site-packages\\statsmodels\\tsa\\holtwinters\\model.py:918: ConvergenceWarning: Optimization failed to converge. Check mle_retvals.\n",
      "  warnings.warn(\n",
      "C:\\Users\\Korisnik\\Desktop\\Diplomski\\Eth_price_prediciton\\.venv\\Lib\\site-packages\\statsmodels\\tsa\\holtwinters\\model.py:918: ConvergenceWarning: Optimization failed to converge. Check mle_retvals.\n",
      "  warnings.warn(\n",
      "C:\\Users\\Korisnik\\Desktop\\Diplomski\\Eth_price_prediciton\\.venv\\Lib\\site-packages\\statsmodels\\tsa\\holtwinters\\model.py:918: ConvergenceWarning: Optimization failed to converge. Check mle_retvals.\n",
      "  warnings.warn(\n",
      "C:\\Users\\Korisnik\\Desktop\\Diplomski\\Eth_price_prediciton\\.venv\\Lib\\site-packages\\statsmodels\\tsa\\holtwinters\\model.py:918: ConvergenceWarning: Optimization failed to converge. Check mle_retvals.\n",
      "  warnings.warn(\n",
      "C:\\Users\\Korisnik\\Desktop\\Diplomski\\Eth_price_prediciton\\.venv\\Lib\\site-packages\\statsmodels\\tsa\\holtwinters\\model.py:918: ConvergenceWarning: Optimization failed to converge. Check mle_retvals.\n",
      "  warnings.warn(\n",
      "C:\\Users\\Korisnik\\Desktop\\Diplomski\\Eth_price_prediciton\\.venv\\Lib\\site-packages\\statsmodels\\tsa\\holtwinters\\model.py:918: ConvergenceWarning: Optimization failed to converge. Check mle_retvals.\n",
      "  warnings.warn(\n",
      "C:\\Users\\Korisnik\\Desktop\\Diplomski\\Eth_price_prediciton\\.venv\\Lib\\site-packages\\statsmodels\\tsa\\holtwinters\\model.py:918: ConvergenceWarning: Optimization failed to converge. Check mle_retvals.\n",
      "  warnings.warn(\n",
      "C:\\Users\\Korisnik\\Desktop\\Diplomski\\Eth_price_prediciton\\.venv\\Lib\\site-packages\\statsmodels\\tsa\\holtwinters\\model.py:918: ConvergenceWarning: Optimization failed to converge. Check mle_retvals.\n",
      "  warnings.warn(\n",
      "C:\\Users\\Korisnik\\Desktop\\Diplomski\\Eth_price_prediciton\\.venv\\Lib\\site-packages\\statsmodels\\tsa\\holtwinters\\model.py:918: ConvergenceWarning: Optimization failed to converge. Check mle_retvals.\n",
      "  warnings.warn(\n",
      "C:\\Users\\Korisnik\\Desktop\\Diplomski\\Eth_price_prediciton\\.venv\\Lib\\site-packages\\statsmodels\\tsa\\holtwinters\\model.py:918: ConvergenceWarning: Optimization failed to converge. Check mle_retvals.\n",
      "  warnings.warn(\n",
      "C:\\Users\\Korisnik\\Desktop\\Diplomski\\Eth_price_prediciton\\.venv\\Lib\\site-packages\\statsmodels\\tsa\\holtwinters\\model.py:918: ConvergenceWarning: Optimization failed to converge. Check mle_retvals.\n",
      "  warnings.warn(\n",
      "C:\\Users\\Korisnik\\Desktop\\Diplomski\\Eth_price_prediciton\\.venv\\Lib\\site-packages\\statsmodels\\tsa\\holtwinters\\model.py:918: ConvergenceWarning: Optimization failed to converge. Check mle_retvals.\n",
      "  warnings.warn(\n",
      "C:\\Users\\Korisnik\\Desktop\\Diplomski\\Eth_price_prediciton\\.venv\\Lib\\site-packages\\statsmodels\\tsa\\holtwinters\\model.py:918: ConvergenceWarning: Optimization failed to converge. Check mle_retvals.\n",
      "  warnings.warn(\n",
      "C:\\Users\\Korisnik\\Desktop\\Diplomski\\Eth_price_prediciton\\.venv\\Lib\\site-packages\\statsmodels\\tsa\\holtwinters\\model.py:918: ConvergenceWarning: Optimization failed to converge. Check mle_retvals.\n",
      "  warnings.warn(\n",
      "C:\\Users\\Korisnik\\Desktop\\Diplomski\\Eth_price_prediciton\\.venv\\Lib\\site-packages\\statsmodels\\tsa\\holtwinters\\model.py:918: ConvergenceWarning: Optimization failed to converge. Check mle_retvals.\n",
      "  warnings.warn(\n",
      "C:\\Users\\Korisnik\\Desktop\\Diplomski\\Eth_price_prediciton\\.venv\\Lib\\site-packages\\statsmodels\\tsa\\holtwinters\\model.py:918: ConvergenceWarning: Optimization failed to converge. Check mle_retvals.\n",
      "  warnings.warn(\n",
      "C:\\Users\\Korisnik\\Desktop\\Diplomski\\Eth_price_prediciton\\.venv\\Lib\\site-packages\\statsmodels\\tsa\\holtwinters\\model.py:918: ConvergenceWarning: Optimization failed to converge. Check mle_retvals.\n",
      "  warnings.warn(\n",
      "C:\\Users\\Korisnik\\Desktop\\Diplomski\\Eth_price_prediciton\\.venv\\Lib\\site-packages\\statsmodels\\tsa\\holtwinters\\model.py:918: ConvergenceWarning: Optimization failed to converge. Check mle_retvals.\n",
      "  warnings.warn(\n",
      "C:\\Users\\Korisnik\\Desktop\\Diplomski\\Eth_price_prediciton\\.venv\\Lib\\site-packages\\statsmodels\\tsa\\holtwinters\\model.py:918: ConvergenceWarning: Optimization failed to converge. Check mle_retvals.\n",
      "  warnings.warn(\n",
      "C:\\Users\\Korisnik\\Desktop\\Diplomski\\Eth_price_prediciton\\.venv\\Lib\\site-packages\\statsmodels\\tsa\\holtwinters\\model.py:84: RuntimeWarning: overflow encountered in matmul\n",
      "  return err.T @ err\n",
      "C:\\Users\\Korisnik\\Desktop\\Diplomski\\Eth_price_prediciton\\.venv\\Lib\\site-packages\\statsmodels\\tsa\\holtwinters\\model.py:84: RuntimeWarning: overflow encountered in matmul\n",
      "  return err.T @ err\n",
      "C:\\Users\\Korisnik\\Desktop\\Diplomski\\Eth_price_prediciton\\.venv\\Lib\\site-packages\\statsmodels\\tsa\\holtwinters\\model.py:84: RuntimeWarning: overflow encountered in matmul\n",
      "  return err.T @ err\n",
      "C:\\Users\\Korisnik\\Desktop\\Diplomski\\Eth_price_prediciton\\.venv\\Lib\\site-packages\\statsmodels\\tsa\\holtwinters\\model.py:84: RuntimeWarning: overflow encountered in matmul\n",
      "  return err.T @ err\n",
      "C:\\Users\\Korisnik\\Desktop\\Diplomski\\Eth_price_prediciton\\.venv\\Lib\\site-packages\\statsmodels\\tsa\\holtwinters\\model.py:84: RuntimeWarning: overflow encountered in matmul\n",
      "  return err.T @ err\n",
      "C:\\Users\\Korisnik\\Desktop\\Diplomski\\Eth_price_prediciton\\.venv\\Lib\\site-packages\\statsmodels\\tsa\\holtwinters\\model.py:84: RuntimeWarning: overflow encountered in matmul\n",
      "  return err.T @ err\n",
      "C:\\Users\\Korisnik\\Desktop\\Diplomski\\Eth_price_prediciton\\.venv\\Lib\\site-packages\\statsmodels\\tsa\\holtwinters\\model.py:84: RuntimeWarning: overflow encountered in matmul\n",
      "  return err.T @ err\n",
      "C:\\Users\\Korisnik\\Desktop\\Diplomski\\Eth_price_prediciton\\.venv\\Lib\\site-packages\\statsmodels\\tsa\\holtwinters\\model.py:84: RuntimeWarning: overflow encountered in matmul\n",
      "  return err.T @ err\n",
      "C:\\Users\\Korisnik\\Desktop\\Diplomski\\Eth_price_prediciton\\.venv\\Lib\\site-packages\\statsmodels\\tsa\\holtwinters\\model.py:918: ConvergenceWarning: Optimization failed to converge. Check mle_retvals.\n",
      "  warnings.warn(\n",
      "C:\\Users\\Korisnik\\Desktop\\Diplomski\\Eth_price_prediciton\\.venv\\Lib\\site-packages\\statsmodels\\tsa\\holtwinters\\model.py:918: ConvergenceWarning: Optimization failed to converge. Check mle_retvals.\n",
      "  warnings.warn(\n",
      "C:\\Users\\Korisnik\\Desktop\\Diplomski\\Eth_price_prediciton\\.venv\\Lib\\site-packages\\statsmodels\\tsa\\holtwinters\\model.py:918: ConvergenceWarning: Optimization failed to converge. Check mle_retvals.\n",
      "  warnings.warn(\n",
      "C:\\Users\\Korisnik\\Desktop\\Diplomski\\Eth_price_prediciton\\.venv\\Lib\\site-packages\\statsmodels\\tsa\\holtwinters\\model.py:918: ConvergenceWarning: Optimization failed to converge. Check mle_retvals.\n",
      "  warnings.warn(\n",
      "C:\\Users\\Korisnik\\Desktop\\Diplomski\\Eth_price_prediciton\\.venv\\Lib\\site-packages\\statsmodels\\tsa\\holtwinters\\model.py:918: ConvergenceWarning: Optimization failed to converge. Check mle_retvals.\n",
      "  warnings.warn(\n",
      "C:\\Users\\Korisnik\\Desktop\\Diplomski\\Eth_price_prediciton\\.venv\\Lib\\site-packages\\statsmodels\\tsa\\holtwinters\\model.py:918: ConvergenceWarning: Optimization failed to converge. Check mle_retvals.\n",
      "  warnings.warn(\n",
      "C:\\Users\\Korisnik\\Desktop\\Diplomski\\Eth_price_prediciton\\.venv\\Lib\\site-packages\\statsmodels\\tsa\\holtwinters\\model.py:918: ConvergenceWarning: Optimization failed to converge. Check mle_retvals.\n",
      "  warnings.warn(\n",
      "C:\\Users\\Korisnik\\Desktop\\Diplomski\\Eth_price_prediciton\\.venv\\Lib\\site-packages\\statsmodels\\tsa\\holtwinters\\model.py:918: ConvergenceWarning: Optimization failed to converge. Check mle_retvals.\n",
      "  warnings.warn(\n",
      "C:\\Users\\Korisnik\\Desktop\\Diplomski\\Eth_price_prediciton\\.venv\\Lib\\site-packages\\statsmodels\\tsa\\holtwinters\\model.py:918: ConvergenceWarning: Optimization failed to converge. Check mle_retvals.\n",
      "  warnings.warn(\n",
      "C:\\Users\\Korisnik\\Desktop\\Diplomski\\Eth_price_prediciton\\.venv\\Lib\\site-packages\\statsmodels\\tsa\\holtwinters\\model.py:918: ConvergenceWarning: Optimization failed to converge. Check mle_retvals.\n",
      "  warnings.warn(\n"
     ]
    },
    {
     "name": "stdout",
     "output_type": "stream",
     "text": [
      "Best score so far: 2506.893561609637\n"
     ]
    },
    {
     "name": "stderr",
     "output_type": "stream",
     "text": [
      "C:\\Users\\Korisnik\\Desktop\\Diplomski\\Eth_price_prediciton\\.venv\\Lib\\site-packages\\statsmodels\\tsa\\holtwinters\\model.py:918: ConvergenceWarning: Optimization failed to converge. Check mle_retvals.\n",
      "  warnings.warn(\n",
      "C:\\Users\\Korisnik\\Desktop\\Diplomski\\Eth_price_prediciton\\.venv\\Lib\\site-packages\\statsmodels\\tsa\\holtwinters\\model.py:918: ConvergenceWarning: Optimization failed to converge. Check mle_retvals.\n",
      "  warnings.warn(\n",
      "C:\\Users\\Korisnik\\Desktop\\Diplomski\\Eth_price_prediciton\\.venv\\Lib\\site-packages\\statsmodels\\tsa\\holtwinters\\model.py:918: ConvergenceWarning: Optimization failed to converge. Check mle_retvals.\n",
      "  warnings.warn(\n",
      "C:\\Users\\Korisnik\\Desktop\\Diplomski\\Eth_price_prediciton\\.venv\\Lib\\site-packages\\statsmodels\\tsa\\holtwinters\\model.py:918: ConvergenceWarning: Optimization failed to converge. Check mle_retvals.\n",
      "  warnings.warn(\n",
      "C:\\Users\\Korisnik\\Desktop\\Diplomski\\Eth_price_prediciton\\.venv\\Lib\\site-packages\\statsmodels\\tsa\\holtwinters\\model.py:918: ConvergenceWarning: Optimization failed to converge. Check mle_retvals.\n",
      "  warnings.warn(\n",
      "C:\\Users\\Korisnik\\Desktop\\Diplomski\\Eth_price_prediciton\\.venv\\Lib\\site-packages\\statsmodels\\tsa\\holtwinters\\model.py:918: ConvergenceWarning: Optimization failed to converge. Check mle_retvals.\n",
      "  warnings.warn(\n",
      "C:\\Users\\Korisnik\\Desktop\\Diplomski\\Eth_price_prediciton\\.venv\\Lib\\site-packages\\statsmodels\\tsa\\holtwinters\\model.py:918: ConvergenceWarning: Optimization failed to converge. Check mle_retvals.\n",
      "  warnings.warn(\n",
      "C:\\Users\\Korisnik\\Desktop\\Diplomski\\Eth_price_prediciton\\.venv\\Lib\\site-packages\\statsmodels\\tsa\\holtwinters\\model.py:918: ConvergenceWarning: Optimization failed to converge. Check mle_retvals.\n",
      "  warnings.warn(\n",
      "C:\\Users\\Korisnik\\Desktop\\Diplomski\\Eth_price_prediciton\\.venv\\Lib\\site-packages\\statsmodels\\tsa\\holtwinters\\model.py:918: ConvergenceWarning: Optimization failed to converge. Check mle_retvals.\n",
      "  warnings.warn(\n",
      "C:\\Users\\Korisnik\\Desktop\\Diplomski\\Eth_price_prediciton\\.venv\\Lib\\site-packages\\statsmodels\\tsa\\holtwinters\\model.py:918: ConvergenceWarning: Optimization failed to converge. Check mle_retvals.\n",
      "  warnings.warn(\n",
      "C:\\Users\\Korisnik\\Desktop\\Diplomski\\Eth_price_prediciton\\.venv\\Lib\\site-packages\\statsmodels\\tsa\\holtwinters\\model.py:918: ConvergenceWarning: Optimization failed to converge. Check mle_retvals.\n",
      "  warnings.warn(\n",
      "C:\\Users\\Korisnik\\Desktop\\Diplomski\\Eth_price_prediciton\\.venv\\Lib\\site-packages\\statsmodels\\tsa\\holtwinters\\model.py:918: ConvergenceWarning: Optimization failed to converge. Check mle_retvals.\n",
      "  warnings.warn(\n",
      "C:\\Users\\Korisnik\\Desktop\\Diplomski\\Eth_price_prediciton\\.venv\\Lib\\site-packages\\statsmodels\\tsa\\holtwinters\\model.py:918: ConvergenceWarning: Optimization failed to converge. Check mle_retvals.\n",
      "  warnings.warn(\n",
      "C:\\Users\\Korisnik\\Desktop\\Diplomski\\Eth_price_prediciton\\.venv\\Lib\\site-packages\\statsmodels\\tsa\\holtwinters\\model.py:918: ConvergenceWarning: Optimization failed to converge. Check mle_retvals.\n",
      "  warnings.warn(\n",
      "C:\\Users\\Korisnik\\Desktop\\Diplomski\\Eth_price_prediciton\\.venv\\Lib\\site-packages\\statsmodels\\tsa\\holtwinters\\model.py:918: ConvergenceWarning: Optimization failed to converge. Check mle_retvals.\n",
      "  warnings.warn(\n",
      "C:\\Users\\Korisnik\\Desktop\\Diplomski\\Eth_price_prediciton\\.venv\\Lib\\site-packages\\statsmodels\\tsa\\holtwinters\\model.py:918: ConvergenceWarning: Optimization failed to converge. Check mle_retvals.\n",
      "  warnings.warn(\n",
      "C:\\Users\\Korisnik\\Desktop\\Diplomski\\Eth_price_prediciton\\.venv\\Lib\\site-packages\\statsmodels\\tsa\\holtwinters\\model.py:918: ConvergenceWarning: Optimization failed to converge. Check mle_retvals.\n",
      "  warnings.warn(\n",
      "C:\\Users\\Korisnik\\Desktop\\Diplomski\\Eth_price_prediciton\\.venv\\Lib\\site-packages\\statsmodels\\tsa\\holtwinters\\model.py:918: ConvergenceWarning: Optimization failed to converge. Check mle_retvals.\n",
      "  warnings.warn(\n",
      "C:\\Users\\Korisnik\\Desktop\\Diplomski\\Eth_price_prediciton\\.venv\\Lib\\site-packages\\statsmodels\\tsa\\holtwinters\\model.py:918: ConvergenceWarning: Optimization failed to converge. Check mle_retvals.\n",
      "  warnings.warn(\n",
      "C:\\Users\\Korisnik\\Desktop\\Diplomski\\Eth_price_prediciton\\.venv\\Lib\\site-packages\\statsmodels\\tsa\\holtwinters\\model.py:918: ConvergenceWarning: Optimization failed to converge. Check mle_retvals.\n",
      "  warnings.warn(\n"
     ]
    },
    {
     "name": "stdout",
     "output_type": "stream",
     "text": [
      "Best score so far: 2471.7438228098804\n"
     ]
    },
    {
     "name": "stderr",
     "output_type": "stream",
     "text": [
      "C:\\Users\\Korisnik\\Desktop\\Diplomski\\Eth_price_prediciton\\.venv\\Lib\\site-packages\\statsmodels\\tsa\\holtwinters\\model.py:84: RuntimeWarning: overflow encountered in matmul\n",
      "  return err.T @ err\n",
      "C:\\Users\\Korisnik\\Desktop\\Diplomski\\Eth_price_prediciton\\.venv\\Lib\\site-packages\\statsmodels\\tsa\\holtwinters\\model.py:84: RuntimeWarning: overflow encountered in matmul\n",
      "  return err.T @ err\n",
      "C:\\Users\\Korisnik\\Desktop\\Diplomski\\Eth_price_prediciton\\.venv\\Lib\\site-packages\\statsmodels\\tsa\\holtwinters\\model.py:84: RuntimeWarning: overflow encountered in matmul\n",
      "  return err.T @ err\n",
      "C:\\Users\\Korisnik\\Desktop\\Diplomski\\Eth_price_prediciton\\.venv\\Lib\\site-packages\\statsmodels\\tsa\\holtwinters\\model.py:84: RuntimeWarning: overflow encountered in matmul\n",
      "  return err.T @ err\n",
      "C:\\Users\\Korisnik\\Desktop\\Diplomski\\Eth_price_prediciton\\.venv\\Lib\\site-packages\\statsmodels\\tsa\\holtwinters\\model.py:84: RuntimeWarning: overflow encountered in matmul\n",
      "  return err.T @ err\n",
      "C:\\Users\\Korisnik\\Desktop\\Diplomski\\Eth_price_prediciton\\.venv\\Lib\\site-packages\\statsmodels\\tsa\\holtwinters\\model.py:84: RuntimeWarning: overflow encountered in matmul\n",
      "  return err.T @ err\n",
      "C:\\Users\\Korisnik\\Desktop\\Diplomski\\Eth_price_prediciton\\.venv\\Lib\\site-packages\\statsmodels\\tsa\\holtwinters\\model.py:84: RuntimeWarning: overflow encountered in matmul\n",
      "  return err.T @ err\n",
      "C:\\Users\\Korisnik\\Desktop\\Diplomski\\Eth_price_prediciton\\.venv\\Lib\\site-packages\\statsmodels\\tsa\\holtwinters\\model.py:84: RuntimeWarning: overflow encountered in matmul\n",
      "  return err.T @ err\n",
      "C:\\Users\\Korisnik\\Desktop\\Diplomski\\Eth_price_prediciton\\.venv\\Lib\\site-packages\\statsmodels\\tsa\\holtwinters\\model.py:84: RuntimeWarning: overflow encountered in matmul\n",
      "  return err.T @ err\n",
      "C:\\Users\\Korisnik\\Desktop\\Diplomski\\Eth_price_prediciton\\.venv\\Lib\\site-packages\\statsmodels\\tsa\\holtwinters\\model.py:84: RuntimeWarning: overflow encountered in matmul\n",
      "  return err.T @ err\n",
      "C:\\Users\\Korisnik\\Desktop\\Diplomski\\Eth_price_prediciton\\.venv\\Lib\\site-packages\\statsmodels\\tsa\\holtwinters\\model.py:84: RuntimeWarning: overflow encountered in matmul\n",
      "  return err.T @ err\n",
      "C:\\Users\\Korisnik\\Desktop\\Diplomski\\Eth_price_prediciton\\.venv\\Lib\\site-packages\\statsmodels\\tsa\\holtwinters\\model.py:84: RuntimeWarning: overflow encountered in matmul\n",
      "  return err.T @ err\n",
      "C:\\Users\\Korisnik\\Desktop\\Diplomski\\Eth_price_prediciton\\.venv\\Lib\\site-packages\\statsmodels\\tsa\\holtwinters\\model.py:84: RuntimeWarning: overflow encountered in matmul\n",
      "  return err.T @ err\n",
      "C:\\Users\\Korisnik\\Desktop\\Diplomski\\Eth_price_prediciton\\.venv\\Lib\\site-packages\\statsmodels\\tsa\\holtwinters\\model.py:84: RuntimeWarning: overflow encountered in matmul\n",
      "  return err.T @ err\n",
      "C:\\Users\\Korisnik\\Desktop\\Diplomski\\Eth_price_prediciton\\.venv\\Lib\\site-packages\\statsmodels\\tsa\\holtwinters\\model.py:84: RuntimeWarning: overflow encountered in matmul\n",
      "  return err.T @ err\n",
      "C:\\Users\\Korisnik\\Desktop\\Diplomski\\Eth_price_prediciton\\.venv\\Lib\\site-packages\\statsmodels\\tsa\\holtwinters\\model.py:84: RuntimeWarning: overflow encountered in matmul\n",
      "  return err.T @ err\n",
      "C:\\Users\\Korisnik\\Desktop\\Diplomski\\Eth_price_prediciton\\.venv\\Lib\\site-packages\\statsmodels\\tsa\\holtwinters\\model.py:84: RuntimeWarning: overflow encountered in matmul\n",
      "  return err.T @ err\n",
      "C:\\Users\\Korisnik\\Desktop\\Diplomski\\Eth_price_prediciton\\.venv\\Lib\\site-packages\\statsmodels\\tsa\\holtwinters\\model.py:84: RuntimeWarning: overflow encountered in matmul\n",
      "  return err.T @ err\n",
      "C:\\Users\\Korisnik\\Desktop\\Diplomski\\Eth_price_prediciton\\.venv\\Lib\\site-packages\\statsmodels\\tsa\\holtwinters\\model.py:84: RuntimeWarning: overflow encountered in matmul\n",
      "  return err.T @ err\n",
      "C:\\Users\\Korisnik\\Desktop\\Diplomski\\Eth_price_prediciton\\.venv\\Lib\\site-packages\\statsmodels\\tsa\\holtwinters\\model.py:84: RuntimeWarning: overflow encountered in matmul\n",
      "  return err.T @ err\n",
      "C:\\Users\\Korisnik\\Desktop\\Diplomski\\Eth_price_prediciton\\.venv\\Lib\\site-packages\\statsmodels\\tsa\\holtwinters\\model.py:84: RuntimeWarning: overflow encountered in matmul\n",
      "  return err.T @ err\n",
      "C:\\Users\\Korisnik\\Desktop\\Diplomski\\Eth_price_prediciton\\.venv\\Lib\\site-packages\\statsmodels\\tsa\\holtwinters\\model.py:84: RuntimeWarning: overflow encountered in matmul\n",
      "  return err.T @ err\n",
      "C:\\Users\\Korisnik\\Desktop\\Diplomski\\Eth_price_prediciton\\.venv\\Lib\\site-packages\\statsmodels\\tsa\\holtwinters\\model.py:84: RuntimeWarning: overflow encountered in matmul\n",
      "  return err.T @ err\n",
      "C:\\Users\\Korisnik\\Desktop\\Diplomski\\Eth_price_prediciton\\.venv\\Lib\\site-packages\\statsmodels\\tsa\\holtwinters\\model.py:84: RuntimeWarning: overflow encountered in matmul\n",
      "  return err.T @ err\n",
      "C:\\Users\\Korisnik\\Desktop\\Diplomski\\Eth_price_prediciton\\.venv\\Lib\\site-packages\\statsmodels\\tsa\\holtwinters\\model.py:84: RuntimeWarning: overflow encountered in matmul\n",
      "  return err.T @ err\n",
      "C:\\Users\\Korisnik\\Desktop\\Diplomski\\Eth_price_prediciton\\.venv\\Lib\\site-packages\\statsmodels\\tsa\\holtwinters\\model.py:84: RuntimeWarning: overflow encountered in matmul\n",
      "  return err.T @ err\n",
      "C:\\Users\\Korisnik\\Desktop\\Diplomski\\Eth_price_prediciton\\.venv\\Lib\\site-packages\\statsmodels\\tsa\\holtwinters\\model.py:84: RuntimeWarning: overflow encountered in matmul\n",
      "  return err.T @ err\n",
      "C:\\Users\\Korisnik\\Desktop\\Diplomski\\Eth_price_prediciton\\.venv\\Lib\\site-packages\\statsmodels\\tsa\\holtwinters\\model.py:84: RuntimeWarning: overflow encountered in matmul\n",
      "  return err.T @ err\n",
      "C:\\Users\\Korisnik\\Desktop\\Diplomski\\Eth_price_prediciton\\.venv\\Lib\\site-packages\\statsmodels\\tsa\\holtwinters\\model.py:84: RuntimeWarning: overflow encountered in matmul\n",
      "  return err.T @ err\n",
      "C:\\Users\\Korisnik\\Desktop\\Diplomski\\Eth_price_prediciton\\.venv\\Lib\\site-packages\\statsmodels\\tsa\\holtwinters\\model.py:84: RuntimeWarning: overflow encountered in matmul\n",
      "  return err.T @ err\n",
      "C:\\Users\\Korisnik\\Desktop\\Diplomski\\Eth_price_prediciton\\.venv\\Lib\\site-packages\\statsmodels\\tsa\\holtwinters\\model.py:84: RuntimeWarning: overflow encountered in matmul\n",
      "  return err.T @ err\n",
      "C:\\Users\\Korisnik\\Desktop\\Diplomski\\Eth_price_prediciton\\.venv\\Lib\\site-packages\\statsmodels\\tsa\\holtwinters\\model.py:84: RuntimeWarning: overflow encountered in matmul\n",
      "  return err.T @ err\n",
      "C:\\Users\\Korisnik\\Desktop\\Diplomski\\Eth_price_prediciton\\.venv\\Lib\\site-packages\\statsmodels\\tsa\\holtwinters\\model.py:84: RuntimeWarning: overflow encountered in matmul\n",
      "  return err.T @ err\n",
      "C:\\Users\\Korisnik\\Desktop\\Diplomski\\Eth_price_prediciton\\.venv\\Lib\\site-packages\\statsmodels\\tsa\\holtwinters\\model.py:84: RuntimeWarning: overflow encountered in matmul\n",
      "  return err.T @ err\n",
      "C:\\Users\\Korisnik\\Desktop\\Diplomski\\Eth_price_prediciton\\.venv\\Lib\\site-packages\\statsmodels\\tsa\\holtwinters\\model.py:84: RuntimeWarning: overflow encountered in matmul\n",
      "  return err.T @ err\n",
      "C:\\Users\\Korisnik\\Desktop\\Diplomski\\Eth_price_prediciton\\.venv\\Lib\\site-packages\\statsmodels\\tsa\\holtwinters\\model.py:84: RuntimeWarning: overflow encountered in matmul\n",
      "  return err.T @ err\n",
      "C:\\Users\\Korisnik\\Desktop\\Diplomski\\Eth_price_prediciton\\.venv\\Lib\\site-packages\\statsmodels\\tsa\\holtwinters\\model.py:84: RuntimeWarning: overflow encountered in matmul\n",
      "  return err.T @ err\n",
      "C:\\Users\\Korisnik\\Desktop\\Diplomski\\Eth_price_prediciton\\.venv\\Lib\\site-packages\\statsmodels\\tsa\\holtwinters\\model.py:84: RuntimeWarning: overflow encountered in matmul\n",
      "  return err.T @ err\n",
      "C:\\Users\\Korisnik\\Desktop\\Diplomski\\Eth_price_prediciton\\.venv\\Lib\\site-packages\\statsmodels\\tsa\\holtwinters\\model.py:84: RuntimeWarning: overflow encountered in matmul\n",
      "  return err.T @ err\n",
      "C:\\Users\\Korisnik\\Desktop\\Diplomski\\Eth_price_prediciton\\.venv\\Lib\\site-packages\\statsmodels\\tsa\\holtwinters\\model.py:84: RuntimeWarning: overflow encountered in matmul\n",
      "  return err.T @ err\n",
      "C:\\Users\\Korisnik\\Desktop\\Diplomski\\Eth_price_prediciton\\.venv\\Lib\\site-packages\\statsmodels\\tsa\\holtwinters\\model.py:84: RuntimeWarning: overflow encountered in matmul\n",
      "  return err.T @ err\n",
      "C:\\Users\\Korisnik\\Desktop\\Diplomski\\Eth_price_prediciton\\.venv\\Lib\\site-packages\\statsmodels\\tsa\\holtwinters\\model.py:84: RuntimeWarning: overflow encountered in matmul\n",
      "  return err.T @ err\n",
      "C:\\Users\\Korisnik\\Desktop\\Diplomski\\Eth_price_prediciton\\.venv\\Lib\\site-packages\\statsmodels\\tsa\\holtwinters\\model.py:84: RuntimeWarning: overflow encountered in matmul\n",
      "  return err.T @ err\n",
      "C:\\Users\\Korisnik\\Desktop\\Diplomski\\Eth_price_prediciton\\.venv\\Lib\\site-packages\\statsmodels\\tsa\\holtwinters\\model.py:84: RuntimeWarning: overflow encountered in matmul\n",
      "  return err.T @ err\n",
      "C:\\Users\\Korisnik\\Desktop\\Diplomski\\Eth_price_prediciton\\.venv\\Lib\\site-packages\\statsmodels\\tsa\\holtwinters\\model.py:84: RuntimeWarning: overflow encountered in matmul\n",
      "  return err.T @ err\n",
      "C:\\Users\\Korisnik\\Desktop\\Diplomski\\Eth_price_prediciton\\.venv\\Lib\\site-packages\\statsmodels\\tsa\\holtwinters\\model.py:84: RuntimeWarning: overflow encountered in matmul\n",
      "  return err.T @ err\n",
      "C:\\Users\\Korisnik\\Desktop\\Diplomski\\Eth_price_prediciton\\.venv\\Lib\\site-packages\\statsmodels\\tsa\\holtwinters\\model.py:84: RuntimeWarning: overflow encountered in matmul\n",
      "  return err.T @ err\n",
      "C:\\Users\\Korisnik\\Desktop\\Diplomski\\Eth_price_prediciton\\.venv\\Lib\\site-packages\\statsmodels\\tsa\\holtwinters\\model.py:84: RuntimeWarning: overflow encountered in matmul\n",
      "  return err.T @ err\n",
      "C:\\Users\\Korisnik\\Desktop\\Diplomski\\Eth_price_prediciton\\.venv\\Lib\\site-packages\\statsmodels\\tsa\\holtwinters\\model.py:84: RuntimeWarning: overflow encountered in matmul\n",
      "  return err.T @ err\n",
      "C:\\Users\\Korisnik\\Desktop\\Diplomski\\Eth_price_prediciton\\.venv\\Lib\\site-packages\\statsmodels\\tsa\\holtwinters\\model.py:84: RuntimeWarning: overflow encountered in matmul\n",
      "  return err.T @ err\n",
      "C:\\Users\\Korisnik\\Desktop\\Diplomski\\Eth_price_prediciton\\.venv\\Lib\\site-packages\\statsmodels\\tsa\\holtwinters\\model.py:84: RuntimeWarning: overflow encountered in matmul\n",
      "  return err.T @ err\n",
      "C:\\Users\\Korisnik\\Desktop\\Diplomski\\Eth_price_prediciton\\.venv\\Lib\\site-packages\\statsmodels\\tsa\\holtwinters\\model.py:84: RuntimeWarning: overflow encountered in matmul\n",
      "  return err.T @ err\n",
      "C:\\Users\\Korisnik\\Desktop\\Diplomski\\Eth_price_prediciton\\.venv\\Lib\\site-packages\\statsmodels\\tsa\\holtwinters\\model.py:84: RuntimeWarning: overflow encountered in matmul\n",
      "  return err.T @ err\n",
      "C:\\Users\\Korisnik\\Desktop\\Diplomski\\Eth_price_prediciton\\.venv\\Lib\\site-packages\\statsmodels\\tsa\\holtwinters\\model.py:84: RuntimeWarning: overflow encountered in matmul\n",
      "  return err.T @ err\n",
      "C:\\Users\\Korisnik\\Desktop\\Diplomski\\Eth_price_prediciton\\.venv\\Lib\\site-packages\\statsmodels\\tsa\\holtwinters\\model.py:84: RuntimeWarning: overflow encountered in matmul\n",
      "  return err.T @ err\n",
      "C:\\Users\\Korisnik\\Desktop\\Diplomski\\Eth_price_prediciton\\.venv\\Lib\\site-packages\\statsmodels\\tsa\\holtwinters\\model.py:84: RuntimeWarning: overflow encountered in matmul\n",
      "  return err.T @ err\n",
      "C:\\Users\\Korisnik\\Desktop\\Diplomski\\Eth_price_prediciton\\.venv\\Lib\\site-packages\\statsmodels\\tsa\\holtwinters\\model.py:84: RuntimeWarning: overflow encountered in matmul\n",
      "  return err.T @ err\n",
      "C:\\Users\\Korisnik\\Desktop\\Diplomski\\Eth_price_prediciton\\.venv\\Lib\\site-packages\\statsmodels\\tsa\\holtwinters\\model.py:84: RuntimeWarning: overflow encountered in matmul\n",
      "  return err.T @ err\n",
      "C:\\Users\\Korisnik\\Desktop\\Diplomski\\Eth_price_prediciton\\.venv\\Lib\\site-packages\\statsmodels\\tsa\\holtwinters\\model.py:84: RuntimeWarning: overflow encountered in matmul\n",
      "  return err.T @ err\n",
      "C:\\Users\\Korisnik\\Desktop\\Diplomski\\Eth_price_prediciton\\.venv\\Lib\\site-packages\\statsmodels\\tsa\\holtwinters\\model.py:84: RuntimeWarning: overflow encountered in matmul\n",
      "  return err.T @ err\n",
      "C:\\Users\\Korisnik\\Desktop\\Diplomski\\Eth_price_prediciton\\.venv\\Lib\\site-packages\\statsmodels\\tsa\\holtwinters\\model.py:84: RuntimeWarning: overflow encountered in matmul\n",
      "  return err.T @ err\n",
      "C:\\Users\\Korisnik\\Desktop\\Diplomski\\Eth_price_prediciton\\.venv\\Lib\\site-packages\\statsmodels\\tsa\\holtwinters\\model.py:84: RuntimeWarning: overflow encountered in matmul\n",
      "  return err.T @ err\n",
      "C:\\Users\\Korisnik\\Desktop\\Diplomski\\Eth_price_prediciton\\.venv\\Lib\\site-packages\\statsmodels\\tsa\\holtwinters\\model.py:84: RuntimeWarning: overflow encountered in matmul\n",
      "  return err.T @ err\n",
      "C:\\Users\\Korisnik\\Desktop\\Diplomski\\Eth_price_prediciton\\.venv\\Lib\\site-packages\\statsmodels\\tsa\\holtwinters\\model.py:84: RuntimeWarning: overflow encountered in matmul\n",
      "  return err.T @ err\n",
      "C:\\Users\\Korisnik\\Desktop\\Diplomski\\Eth_price_prediciton\\.venv\\Lib\\site-packages\\statsmodels\\tsa\\holtwinters\\model.py:84: RuntimeWarning: overflow encountered in matmul\n",
      "  return err.T @ err\n",
      "C:\\Users\\Korisnik\\Desktop\\Diplomski\\Eth_price_prediciton\\.venv\\Lib\\site-packages\\statsmodels\\tsa\\holtwinters\\model.py:84: RuntimeWarning: overflow encountered in matmul\n",
      "  return err.T @ err\n",
      "C:\\Users\\Korisnik\\Desktop\\Diplomski\\Eth_price_prediciton\\.venv\\Lib\\site-packages\\statsmodels\\tsa\\holtwinters\\model.py:84: RuntimeWarning: overflow encountered in matmul\n",
      "  return err.T @ err\n",
      "C:\\Users\\Korisnik\\Desktop\\Diplomski\\Eth_price_prediciton\\.venv\\Lib\\site-packages\\statsmodels\\tsa\\holtwinters\\model.py:84: RuntimeWarning: overflow encountered in matmul\n",
      "  return err.T @ err\n",
      "C:\\Users\\Korisnik\\Desktop\\Diplomski\\Eth_price_prediciton\\.venv\\Lib\\site-packages\\statsmodels\\tsa\\holtwinters\\model.py:84: RuntimeWarning: overflow encountered in matmul\n",
      "  return err.T @ err\n",
      "C:\\Users\\Korisnik\\Desktop\\Diplomski\\Eth_price_prediciton\\.venv\\Lib\\site-packages\\statsmodels\\tsa\\holtwinters\\model.py:84: RuntimeWarning: overflow encountered in matmul\n",
      "  return err.T @ err\n",
      "C:\\Users\\Korisnik\\Desktop\\Diplomski\\Eth_price_prediciton\\.venv\\Lib\\site-packages\\statsmodels\\tsa\\holtwinters\\model.py:84: RuntimeWarning: overflow encountered in matmul\n",
      "  return err.T @ err\n",
      "C:\\Users\\Korisnik\\Desktop\\Diplomski\\Eth_price_prediciton\\.venv\\Lib\\site-packages\\statsmodels\\tsa\\holtwinters\\model.py:84: RuntimeWarning: overflow encountered in matmul\n",
      "  return err.T @ err\n",
      "C:\\Users\\Korisnik\\Desktop\\Diplomski\\Eth_price_prediciton\\.venv\\Lib\\site-packages\\statsmodels\\tsa\\holtwinters\\model.py:84: RuntimeWarning: overflow encountered in matmul\n",
      "  return err.T @ err\n",
      "C:\\Users\\Korisnik\\Desktop\\Diplomski\\Eth_price_prediciton\\.venv\\Lib\\site-packages\\statsmodels\\tsa\\holtwinters\\model.py:84: RuntimeWarning: overflow encountered in matmul\n",
      "  return err.T @ err\n",
      "C:\\Users\\Korisnik\\Desktop\\Diplomski\\Eth_price_prediciton\\.venv\\Lib\\site-packages\\statsmodels\\tsa\\holtwinters\\model.py:84: RuntimeWarning: overflow encountered in matmul\n",
      "  return err.T @ err\n",
      "C:\\Users\\Korisnik\\Desktop\\Diplomski\\Eth_price_prediciton\\.venv\\Lib\\site-packages\\statsmodels\\tsa\\holtwinters\\model.py:84: RuntimeWarning: overflow encountered in matmul\n",
      "  return err.T @ err\n",
      "C:\\Users\\Korisnik\\Desktop\\Diplomski\\Eth_price_prediciton\\.venv\\Lib\\site-packages\\statsmodels\\tsa\\holtwinters\\model.py:84: RuntimeWarning: overflow encountered in matmul\n",
      "  return err.T @ err\n",
      "C:\\Users\\Korisnik\\Desktop\\Diplomski\\Eth_price_prediciton\\.venv\\Lib\\site-packages\\statsmodels\\tsa\\holtwinters\\model.py:84: RuntimeWarning: overflow encountered in matmul\n",
      "  return err.T @ err\n",
      "C:\\Users\\Korisnik\\Desktop\\Diplomski\\Eth_price_prediciton\\.venv\\Lib\\site-packages\\statsmodels\\tsa\\holtwinters\\model.py:84: RuntimeWarning: overflow encountered in matmul\n",
      "  return err.T @ err\n",
      "C:\\Users\\Korisnik\\Desktop\\Diplomski\\Eth_price_prediciton\\.venv\\Lib\\site-packages\\statsmodels\\tsa\\holtwinters\\model.py:84: RuntimeWarning: overflow encountered in matmul\n",
      "  return err.T @ err\n",
      "C:\\Users\\Korisnik\\Desktop\\Diplomski\\Eth_price_prediciton\\.venv\\Lib\\site-packages\\statsmodels\\tsa\\holtwinters\\model.py:84: RuntimeWarning: overflow encountered in matmul\n",
      "  return err.T @ err\n",
      "C:\\Users\\Korisnik\\Desktop\\Diplomski\\Eth_price_prediciton\\.venv\\Lib\\site-packages\\statsmodels\\tsa\\holtwinters\\model.py:84: RuntimeWarning: overflow encountered in matmul\n",
      "  return err.T @ err\n",
      "C:\\Users\\Korisnik\\Desktop\\Diplomski\\Eth_price_prediciton\\.venv\\Lib\\site-packages\\statsmodels\\tsa\\holtwinters\\model.py:84: RuntimeWarning: overflow encountered in matmul\n",
      "  return err.T @ err\n",
      "C:\\Users\\Korisnik\\Desktop\\Diplomski\\Eth_price_prediciton\\.venv\\Lib\\site-packages\\statsmodels\\tsa\\holtwinters\\model.py:84: RuntimeWarning: overflow encountered in matmul\n",
      "  return err.T @ err\n",
      "C:\\Users\\Korisnik\\Desktop\\Diplomski\\Eth_price_prediciton\\.venv\\Lib\\site-packages\\statsmodels\\tsa\\holtwinters\\model.py:84: RuntimeWarning: overflow encountered in matmul\n",
      "  return err.T @ err\n",
      "C:\\Users\\Korisnik\\Desktop\\Diplomski\\Eth_price_prediciton\\.venv\\Lib\\site-packages\\statsmodels\\tsa\\holtwinters\\model.py:84: RuntimeWarning: overflow encountered in matmul\n",
      "  return err.T @ err\n",
      "C:\\Users\\Korisnik\\Desktop\\Diplomski\\Eth_price_prediciton\\.venv\\Lib\\site-packages\\statsmodels\\tsa\\holtwinters\\model.py:84: RuntimeWarning: overflow encountered in matmul\n",
      "  return err.T @ err\n",
      "C:\\Users\\Korisnik\\Desktop\\Diplomski\\Eth_price_prediciton\\.venv\\Lib\\site-packages\\statsmodels\\tsa\\holtwinters\\model.py:84: RuntimeWarning: overflow encountered in matmul\n",
      "  return err.T @ err\n",
      "C:\\Users\\Korisnik\\Desktop\\Diplomski\\Eth_price_prediciton\\.venv\\Lib\\site-packages\\statsmodels\\tsa\\holtwinters\\model.py:84: RuntimeWarning: overflow encountered in matmul\n",
      "  return err.T @ err\n",
      "C:\\Users\\Korisnik\\Desktop\\Diplomski\\Eth_price_prediciton\\.venv\\Lib\\site-packages\\statsmodels\\tsa\\holtwinters\\model.py:84: RuntimeWarning: overflow encountered in matmul\n",
      "  return err.T @ err\n",
      "C:\\Users\\Korisnik\\Desktop\\Diplomski\\Eth_price_prediciton\\.venv\\Lib\\site-packages\\statsmodels\\tsa\\holtwinters\\model.py:84: RuntimeWarning: overflow encountered in matmul\n",
      "  return err.T @ err\n",
      "C:\\Users\\Korisnik\\Desktop\\Diplomski\\Eth_price_prediciton\\.venv\\Lib\\site-packages\\statsmodels\\tsa\\holtwinters\\model.py:84: RuntimeWarning: overflow encountered in matmul\n",
      "  return err.T @ err\n",
      "C:\\Users\\Korisnik\\Desktop\\Diplomski\\Eth_price_prediciton\\.venv\\Lib\\site-packages\\statsmodels\\tsa\\holtwinters\\model.py:84: RuntimeWarning: overflow encountered in matmul\n",
      "  return err.T @ err\n",
      "C:\\Users\\Korisnik\\Desktop\\Diplomski\\Eth_price_prediciton\\.venv\\Lib\\site-packages\\statsmodels\\tsa\\holtwinters\\model.py:84: RuntimeWarning: overflow encountered in matmul\n",
      "  return err.T @ err\n",
      "C:\\Users\\Korisnik\\Desktop\\Diplomski\\Eth_price_prediciton\\.venv\\Lib\\site-packages\\statsmodels\\tsa\\holtwinters\\model.py:84: RuntimeWarning: overflow encountered in matmul\n",
      "  return err.T @ err\n",
      "C:\\Users\\Korisnik\\Desktop\\Diplomski\\Eth_price_prediciton\\.venv\\Lib\\site-packages\\statsmodels\\tsa\\holtwinters\\model.py:84: RuntimeWarning: overflow encountered in matmul\n",
      "  return err.T @ err\n",
      "C:\\Users\\Korisnik\\Desktop\\Diplomski\\Eth_price_prediciton\\.venv\\Lib\\site-packages\\statsmodels\\tsa\\holtwinters\\model.py:84: RuntimeWarning: overflow encountered in matmul\n",
      "  return err.T @ err\n",
      "C:\\Users\\Korisnik\\Desktop\\Diplomski\\Eth_price_prediciton\\.venv\\Lib\\site-packages\\statsmodels\\tsa\\holtwinters\\model.py:84: RuntimeWarning: overflow encountered in matmul\n",
      "  return err.T @ err\n",
      "C:\\Users\\Korisnik\\Desktop\\Diplomski\\Eth_price_prediciton\\.venv\\Lib\\site-packages\\statsmodels\\tsa\\holtwinters\\model.py:84: RuntimeWarning: overflow encountered in matmul\n",
      "  return err.T @ err\n",
      "C:\\Users\\Korisnik\\Desktop\\Diplomski\\Eth_price_prediciton\\.venv\\Lib\\site-packages\\statsmodels\\tsa\\holtwinters\\model.py:84: RuntimeWarning: overflow encountered in matmul\n",
      "  return err.T @ err\n",
      "C:\\Users\\Korisnik\\Desktop\\Diplomski\\Eth_price_prediciton\\.venv\\Lib\\site-packages\\statsmodels\\tsa\\holtwinters\\model.py:84: RuntimeWarning: overflow encountered in matmul\n",
      "  return err.T @ err\n",
      "C:\\Users\\Korisnik\\Desktop\\Diplomski\\Eth_price_prediciton\\.venv\\Lib\\site-packages\\statsmodels\\tsa\\holtwinters\\model.py:918: ConvergenceWarning: Optimization failed to converge. Check mle_retvals.\n",
      "  warnings.warn(\n",
      "C:\\Users\\Korisnik\\Desktop\\Diplomski\\Eth_price_prediciton\\.venv\\Lib\\site-packages\\statsmodels\\tsa\\holtwinters\\model.py:84: RuntimeWarning: overflow encountered in matmul\n",
      "  return err.T @ err\n",
      "C:\\Users\\Korisnik\\Desktop\\Diplomski\\Eth_price_prediciton\\.venv\\Lib\\site-packages\\statsmodels\\tsa\\holtwinters\\model.py:918: ConvergenceWarning: Optimization failed to converge. Check mle_retvals.\n",
      "  warnings.warn(\n",
      "C:\\Users\\Korisnik\\Desktop\\Diplomski\\Eth_price_prediciton\\.venv\\Lib\\site-packages\\statsmodels\\tsa\\holtwinters\\model.py:84: RuntimeWarning: overflow encountered in matmul\n",
      "  return err.T @ err\n",
      "C:\\Users\\Korisnik\\Desktop\\Diplomski\\Eth_price_prediciton\\.venv\\Lib\\site-packages\\statsmodels\\tsa\\holtwinters\\model.py:918: ConvergenceWarning: Optimization failed to converge. Check mle_retvals.\n",
      "  warnings.warn(\n",
      "C:\\Users\\Korisnik\\Desktop\\Diplomski\\Eth_price_prediciton\\.venv\\Lib\\site-packages\\statsmodels\\tsa\\holtwinters\\model.py:84: RuntimeWarning: overflow encountered in matmul\n",
      "  return err.T @ err\n",
      "C:\\Users\\Korisnik\\Desktop\\Diplomski\\Eth_price_prediciton\\.venv\\Lib\\site-packages\\statsmodels\\tsa\\holtwinters\\model.py:918: ConvergenceWarning: Optimization failed to converge. Check mle_retvals.\n",
      "  warnings.warn(\n",
      "C:\\Users\\Korisnik\\Desktop\\Diplomski\\Eth_price_prediciton\\.venv\\Lib\\site-packages\\statsmodels\\tsa\\holtwinters\\model.py:84: RuntimeWarning: overflow encountered in matmul\n",
      "  return err.T @ err\n",
      "C:\\Users\\Korisnik\\Desktop\\Diplomski\\Eth_price_prediciton\\.venv\\Lib\\site-packages\\statsmodels\\tsa\\holtwinters\\model.py:918: ConvergenceWarning: Optimization failed to converge. Check mle_retvals.\n",
      "  warnings.warn(\n",
      "C:\\Users\\Korisnik\\Desktop\\Diplomski\\Eth_price_prediciton\\.venv\\Lib\\site-packages\\statsmodels\\tsa\\holtwinters\\model.py:84: RuntimeWarning: overflow encountered in matmul\n",
      "  return err.T @ err\n",
      "C:\\Users\\Korisnik\\Desktop\\Diplomski\\Eth_price_prediciton\\.venv\\Lib\\site-packages\\statsmodels\\tsa\\holtwinters\\model.py:918: ConvergenceWarning: Optimization failed to converge. Check mle_retvals.\n",
      "  warnings.warn(\n",
      "C:\\Users\\Korisnik\\Desktop\\Diplomski\\Eth_price_prediciton\\.venv\\Lib\\site-packages\\statsmodels\\tsa\\holtwinters\\model.py:84: RuntimeWarning: overflow encountered in matmul\n",
      "  return err.T @ err\n",
      "C:\\Users\\Korisnik\\Desktop\\Diplomski\\Eth_price_prediciton\\.venv\\Lib\\site-packages\\statsmodels\\tsa\\holtwinters\\model.py:918: ConvergenceWarning: Optimization failed to converge. Check mle_retvals.\n",
      "  warnings.warn(\n",
      "C:\\Users\\Korisnik\\Desktop\\Diplomski\\Eth_price_prediciton\\.venv\\Lib\\site-packages\\statsmodels\\tsa\\holtwinters\\model.py:84: RuntimeWarning: overflow encountered in matmul\n",
      "  return err.T @ err\n",
      "C:\\Users\\Korisnik\\Desktop\\Diplomski\\Eth_price_prediciton\\.venv\\Lib\\site-packages\\statsmodels\\tsa\\holtwinters\\model.py:918: ConvergenceWarning: Optimization failed to converge. Check mle_retvals.\n",
      "  warnings.warn(\n",
      "C:\\Users\\Korisnik\\Desktop\\Diplomski\\Eth_price_prediciton\\.venv\\Lib\\site-packages\\statsmodels\\tsa\\holtwinters\\model.py:84: RuntimeWarning: overflow encountered in matmul\n",
      "  return err.T @ err\n",
      "C:\\Users\\Korisnik\\Desktop\\Diplomski\\Eth_price_prediciton\\.venv\\Lib\\site-packages\\statsmodels\\tsa\\holtwinters\\model.py:918: ConvergenceWarning: Optimization failed to converge. Check mle_retvals.\n",
      "  warnings.warn(\n",
      "C:\\Users\\Korisnik\\Desktop\\Diplomski\\Eth_price_prediciton\\.venv\\Lib\\site-packages\\statsmodels\\tsa\\holtwinters\\model.py:84: RuntimeWarning: overflow encountered in matmul\n",
      "  return err.T @ err\n",
      "C:\\Users\\Korisnik\\Desktop\\Diplomski\\Eth_price_prediciton\\.venv\\Lib\\site-packages\\statsmodels\\tsa\\holtwinters\\model.py:918: ConvergenceWarning: Optimization failed to converge. Check mle_retvals.\n",
      "  warnings.warn(\n",
      "C:\\Users\\Korisnik\\Desktop\\Diplomski\\Eth_price_prediciton\\.venv\\Lib\\site-packages\\statsmodels\\tsa\\holtwinters\\model.py:84: RuntimeWarning: overflow encountered in matmul\n",
      "  return err.T @ err\n",
      "C:\\Users\\Korisnik\\Desktop\\Diplomski\\Eth_price_prediciton\\.venv\\Lib\\site-packages\\statsmodels\\tsa\\holtwinters\\model.py:84: RuntimeWarning: overflow encountered in matmul\n",
      "  return err.T @ err\n",
      "C:\\Users\\Korisnik\\Desktop\\Diplomski\\Eth_price_prediciton\\.venv\\Lib\\site-packages\\statsmodels\\tsa\\holtwinters\\model.py:84: RuntimeWarning: overflow encountered in matmul\n",
      "  return err.T @ err\n",
      "C:\\Users\\Korisnik\\Desktop\\Diplomski\\Eth_price_prediciton\\.venv\\Lib\\site-packages\\statsmodels\\tsa\\holtwinters\\model.py:84: RuntimeWarning: overflow encountered in matmul\n",
      "  return err.T @ err\n",
      "C:\\Users\\Korisnik\\Desktop\\Diplomski\\Eth_price_prediciton\\.venv\\Lib\\site-packages\\statsmodels\\tsa\\holtwinters\\model.py:84: RuntimeWarning: overflow encountered in matmul\n",
      "  return err.T @ err\n",
      "C:\\Users\\Korisnik\\Desktop\\Diplomski\\Eth_price_prediciton\\.venv\\Lib\\site-packages\\statsmodels\\tsa\\holtwinters\\model.py:84: RuntimeWarning: overflow encountered in matmul\n",
      "  return err.T @ err\n",
      "C:\\Users\\Korisnik\\Desktop\\Diplomski\\Eth_price_prediciton\\.venv\\Lib\\site-packages\\statsmodels\\tsa\\holtwinters\\model.py:84: RuntimeWarning: overflow encountered in matmul\n",
      "  return err.T @ err\n",
      "C:\\Users\\Korisnik\\Desktop\\Diplomski\\Eth_price_prediciton\\.venv\\Lib\\site-packages\\statsmodels\\tsa\\holtwinters\\model.py:84: RuntimeWarning: overflow encountered in matmul\n",
      "  return err.T @ err\n",
      "C:\\Users\\Korisnik\\Desktop\\Diplomski\\Eth_price_prediciton\\.venv\\Lib\\site-packages\\statsmodels\\tsa\\holtwinters\\model.py:84: RuntimeWarning: overflow encountered in matmul\n",
      "  return err.T @ err\n",
      "C:\\Users\\Korisnik\\Desktop\\Diplomski\\Eth_price_prediciton\\.venv\\Lib\\site-packages\\statsmodels\\tsa\\holtwinters\\model.py:84: RuntimeWarning: overflow encountered in matmul\n",
      "  return err.T @ err\n",
      "C:\\Users\\Korisnik\\Desktop\\Diplomski\\Eth_price_prediciton\\.venv\\Lib\\site-packages\\statsmodels\\tsa\\holtwinters\\model.py:84: RuntimeWarning: overflow encountered in matmul\n",
      "  return err.T @ err\n",
      "C:\\Users\\Korisnik\\Desktop\\Diplomski\\Eth_price_prediciton\\.venv\\Lib\\site-packages\\statsmodels\\tsa\\holtwinters\\model.py:84: RuntimeWarning: overflow encountered in matmul\n",
      "  return err.T @ err\n",
      "C:\\Users\\Korisnik\\Desktop\\Diplomski\\Eth_price_prediciton\\.venv\\Lib\\site-packages\\statsmodels\\tsa\\holtwinters\\model.py:84: RuntimeWarning: overflow encountered in matmul\n",
      "  return err.T @ err\n",
      "C:\\Users\\Korisnik\\Desktop\\Diplomski\\Eth_price_prediciton\\.venv\\Lib\\site-packages\\statsmodels\\tsa\\holtwinters\\model.py:84: RuntimeWarning: overflow encountered in matmul\n",
      "  return err.T @ err\n",
      "C:\\Users\\Korisnik\\Desktop\\Diplomski\\Eth_price_prediciton\\.venv\\Lib\\site-packages\\statsmodels\\tsa\\holtwinters\\model.py:84: RuntimeWarning: overflow encountered in matmul\n",
      "  return err.T @ err\n",
      "C:\\Users\\Korisnik\\Desktop\\Diplomski\\Eth_price_prediciton\\.venv\\Lib\\site-packages\\statsmodels\\tsa\\holtwinters\\model.py:84: RuntimeWarning: overflow encountered in matmul\n",
      "  return err.T @ err\n",
      "C:\\Users\\Korisnik\\Desktop\\Diplomski\\Eth_price_prediciton\\.venv\\Lib\\site-packages\\statsmodels\\tsa\\holtwinters\\model.py:84: RuntimeWarning: overflow encountered in matmul\n",
      "  return err.T @ err\n",
      "C:\\Users\\Korisnik\\Desktop\\Diplomski\\Eth_price_prediciton\\.venv\\Lib\\site-packages\\statsmodels\\tsa\\holtwinters\\model.py:84: RuntimeWarning: overflow encountered in matmul\n",
      "  return err.T @ err\n",
      "C:\\Users\\Korisnik\\Desktop\\Diplomski\\Eth_price_prediciton\\.venv\\Lib\\site-packages\\statsmodels\\tsa\\holtwinters\\model.py:84: RuntimeWarning: overflow encountered in matmul\n",
      "  return err.T @ err\n",
      "C:\\Users\\Korisnik\\Desktop\\Diplomski\\Eth_price_prediciton\\.venv\\Lib\\site-packages\\statsmodels\\tsa\\holtwinters\\model.py:84: RuntimeWarning: overflow encountered in matmul\n",
      "  return err.T @ err\n",
      "C:\\Users\\Korisnik\\Desktop\\Diplomski\\Eth_price_prediciton\\.venv\\Lib\\site-packages\\statsmodels\\tsa\\holtwinters\\model.py:84: RuntimeWarning: overflow encountered in matmul\n",
      "  return err.T @ err\n",
      "C:\\Users\\Korisnik\\Desktop\\Diplomski\\Eth_price_prediciton\\.venv\\Lib\\site-packages\\statsmodels\\tsa\\holtwinters\\model.py:918: ConvergenceWarning: Optimization failed to converge. Check mle_retvals.\n",
      "  warnings.warn(\n",
      "C:\\Users\\Korisnik\\Desktop\\Diplomski\\Eth_price_prediciton\\.venv\\Lib\\site-packages\\statsmodels\\tsa\\holtwinters\\model.py:84: RuntimeWarning: overflow encountered in matmul\n",
      "  return err.T @ err\n",
      "C:\\Users\\Korisnik\\Desktop\\Diplomski\\Eth_price_prediciton\\.venv\\Lib\\site-packages\\statsmodels\\tsa\\holtwinters\\model.py:918: ConvergenceWarning: Optimization failed to converge. Check mle_retvals.\n",
      "  warnings.warn(\n",
      "C:\\Users\\Korisnik\\Desktop\\Diplomski\\Eth_price_prediciton\\.venv\\Lib\\site-packages\\statsmodels\\tsa\\holtwinters\\model.py:84: RuntimeWarning: overflow encountered in matmul\n",
      "  return err.T @ err\n",
      "C:\\Users\\Korisnik\\Desktop\\Diplomski\\Eth_price_prediciton\\.venv\\Lib\\site-packages\\statsmodels\\tsa\\holtwinters\\model.py:918: ConvergenceWarning: Optimization failed to converge. Check mle_retvals.\n",
      "  warnings.warn(\n",
      "C:\\Users\\Korisnik\\Desktop\\Diplomski\\Eth_price_prediciton\\.venv\\Lib\\site-packages\\statsmodels\\tsa\\holtwinters\\model.py:84: RuntimeWarning: overflow encountered in matmul\n",
      "  return err.T @ err\n",
      "C:\\Users\\Korisnik\\Desktop\\Diplomski\\Eth_price_prediciton\\.venv\\Lib\\site-packages\\statsmodels\\tsa\\holtwinters\\model.py:918: ConvergenceWarning: Optimization failed to converge. Check mle_retvals.\n",
      "  warnings.warn(\n",
      "C:\\Users\\Korisnik\\Desktop\\Diplomski\\Eth_price_prediciton\\.venv\\Lib\\site-packages\\statsmodels\\tsa\\holtwinters\\model.py:84: RuntimeWarning: overflow encountered in matmul\n",
      "  return err.T @ err\n",
      "C:\\Users\\Korisnik\\Desktop\\Diplomski\\Eth_price_prediciton\\.venv\\Lib\\site-packages\\statsmodels\\tsa\\holtwinters\\model.py:918: ConvergenceWarning: Optimization failed to converge. Check mle_retvals.\n",
      "  warnings.warn(\n",
      "C:\\Users\\Korisnik\\Desktop\\Diplomski\\Eth_price_prediciton\\.venv\\Lib\\site-packages\\statsmodels\\tsa\\holtwinters\\model.py:84: RuntimeWarning: overflow encountered in matmul\n",
      "  return err.T @ err\n",
      "C:\\Users\\Korisnik\\Desktop\\Diplomski\\Eth_price_prediciton\\.venv\\Lib\\site-packages\\statsmodels\\tsa\\holtwinters\\model.py:918: ConvergenceWarning: Optimization failed to converge. Check mle_retvals.\n",
      "  warnings.warn(\n",
      "C:\\Users\\Korisnik\\Desktop\\Diplomski\\Eth_price_prediciton\\.venv\\Lib\\site-packages\\statsmodels\\tsa\\holtwinters\\model.py:84: RuntimeWarning: overflow encountered in matmul\n",
      "  return err.T @ err\n",
      "C:\\Users\\Korisnik\\Desktop\\Diplomski\\Eth_price_prediciton\\.venv\\Lib\\site-packages\\statsmodels\\tsa\\holtwinters\\model.py:918: ConvergenceWarning: Optimization failed to converge. Check mle_retvals.\n",
      "  warnings.warn(\n",
      "C:\\Users\\Korisnik\\Desktop\\Diplomski\\Eth_price_prediciton\\.venv\\Lib\\site-packages\\statsmodels\\tsa\\holtwinters\\model.py:84: RuntimeWarning: overflow encountered in matmul\n",
      "  return err.T @ err\n",
      "C:\\Users\\Korisnik\\Desktop\\Diplomski\\Eth_price_prediciton\\.venv\\Lib\\site-packages\\statsmodels\\tsa\\holtwinters\\model.py:918: ConvergenceWarning: Optimization failed to converge. Check mle_retvals.\n",
      "  warnings.warn(\n",
      "C:\\Users\\Korisnik\\Desktop\\Diplomski\\Eth_price_prediciton\\.venv\\Lib\\site-packages\\statsmodels\\tsa\\holtwinters\\model.py:84: RuntimeWarning: overflow encountered in matmul\n",
      "  return err.T @ err\n",
      "C:\\Users\\Korisnik\\Desktop\\Diplomski\\Eth_price_prediciton\\.venv\\Lib\\site-packages\\statsmodels\\tsa\\holtwinters\\model.py:918: ConvergenceWarning: Optimization failed to converge. Check mle_retvals.\n",
      "  warnings.warn(\n",
      "C:\\Users\\Korisnik\\Desktop\\Diplomski\\Eth_price_prediciton\\.venv\\Lib\\site-packages\\statsmodels\\tsa\\holtwinters\\model.py:84: RuntimeWarning: overflow encountered in matmul\n",
      "  return err.T @ err\n",
      "C:\\Users\\Korisnik\\Desktop\\Diplomski\\Eth_price_prediciton\\.venv\\Lib\\site-packages\\statsmodels\\tsa\\holtwinters\\model.py:918: ConvergenceWarning: Optimization failed to converge. Check mle_retvals.\n",
      "  warnings.warn(\n",
      "C:\\Users\\Korisnik\\Desktop\\Diplomski\\Eth_price_prediciton\\.venv\\Lib\\site-packages\\statsmodels\\tsa\\holtwinters\\model.py:84: RuntimeWarning: overflow encountered in matmul\n",
      "  return err.T @ err\n",
      "C:\\Users\\Korisnik\\Desktop\\Diplomski\\Eth_price_prediciton\\.venv\\Lib\\site-packages\\statsmodels\\tsa\\holtwinters\\model.py:84: RuntimeWarning: overflow encountered in matmul\n",
      "  return err.T @ err\n",
      "C:\\Users\\Korisnik\\Desktop\\Diplomski\\Eth_price_prediciton\\.venv\\Lib\\site-packages\\statsmodels\\tsa\\holtwinters\\model.py:84: RuntimeWarning: overflow encountered in matmul\n",
      "  return err.T @ err\n",
      "C:\\Users\\Korisnik\\Desktop\\Diplomski\\Eth_price_prediciton\\.venv\\Lib\\site-packages\\statsmodels\\tsa\\holtwinters\\model.py:84: RuntimeWarning: overflow encountered in matmul\n",
      "  return err.T @ err\n",
      "C:\\Users\\Korisnik\\Desktop\\Diplomski\\Eth_price_prediciton\\.venv\\Lib\\site-packages\\statsmodels\\tsa\\holtwinters\\model.py:84: RuntimeWarning: overflow encountered in matmul\n",
      "  return err.T @ err\n",
      "C:\\Users\\Korisnik\\Desktop\\Diplomski\\Eth_price_prediciton\\.venv\\Lib\\site-packages\\statsmodels\\tsa\\holtwinters\\model.py:84: RuntimeWarning: overflow encountered in matmul\n",
      "  return err.T @ err\n",
      "C:\\Users\\Korisnik\\Desktop\\Diplomski\\Eth_price_prediciton\\.venv\\Lib\\site-packages\\statsmodels\\tsa\\holtwinters\\model.py:84: RuntimeWarning: overflow encountered in matmul\n",
      "  return err.T @ err\n",
      "C:\\Users\\Korisnik\\Desktop\\Diplomski\\Eth_price_prediciton\\.venv\\Lib\\site-packages\\statsmodels\\tsa\\holtwinters\\model.py:84: RuntimeWarning: overflow encountered in matmul\n",
      "  return err.T @ err\n",
      "C:\\Users\\Korisnik\\Desktop\\Diplomski\\Eth_price_prediciton\\.venv\\Lib\\site-packages\\statsmodels\\tsa\\holtwinters\\model.py:84: RuntimeWarning: overflow encountered in matmul\n",
      "  return err.T @ err\n",
      "C:\\Users\\Korisnik\\Desktop\\Diplomski\\Eth_price_prediciton\\.venv\\Lib\\site-packages\\statsmodels\\tsa\\holtwinters\\model.py:84: RuntimeWarning: overflow encountered in matmul\n",
      "  return err.T @ err\n",
      "C:\\Users\\Korisnik\\Desktop\\Diplomski\\Eth_price_prediciton\\.venv\\Lib\\site-packages\\statsmodels\\tsa\\holtwinters\\model.py:84: RuntimeWarning: overflow encountered in matmul\n",
      "  return err.T @ err\n",
      "C:\\Users\\Korisnik\\Desktop\\Diplomski\\Eth_price_prediciton\\.venv\\Lib\\site-packages\\statsmodels\\tsa\\holtwinters\\model.py:84: RuntimeWarning: overflow encountered in matmul\n",
      "  return err.T @ err\n",
      "C:\\Users\\Korisnik\\Desktop\\Diplomski\\Eth_price_prediciton\\.venv\\Lib\\site-packages\\statsmodels\\tsa\\holtwinters\\model.py:84: RuntimeWarning: overflow encountered in matmul\n",
      "  return err.T @ err\n",
      "C:\\Users\\Korisnik\\Desktop\\Diplomski\\Eth_price_prediciton\\.venv\\Lib\\site-packages\\statsmodels\\tsa\\holtwinters\\model.py:84: RuntimeWarning: overflow encountered in matmul\n",
      "  return err.T @ err\n",
      "C:\\Users\\Korisnik\\Desktop\\Diplomski\\Eth_price_prediciton\\.venv\\Lib\\site-packages\\statsmodels\\tsa\\holtwinters\\model.py:84: RuntimeWarning: overflow encountered in matmul\n",
      "  return err.T @ err\n",
      "C:\\Users\\Korisnik\\Desktop\\Diplomski\\Eth_price_prediciton\\.venv\\Lib\\site-packages\\statsmodels\\tsa\\holtwinters\\model.py:84: RuntimeWarning: overflow encountered in matmul\n",
      "  return err.T @ err\n",
      "C:\\Users\\Korisnik\\Desktop\\Diplomski\\Eth_price_prediciton\\.venv\\Lib\\site-packages\\statsmodels\\tsa\\holtwinters\\model.py:84: RuntimeWarning: overflow encountered in matmul\n",
      "  return err.T @ err\n",
      "C:\\Users\\Korisnik\\Desktop\\Diplomski\\Eth_price_prediciton\\.venv\\Lib\\site-packages\\statsmodels\\tsa\\holtwinters\\model.py:84: RuntimeWarning: overflow encountered in matmul\n",
      "  return err.T @ err\n",
      "C:\\Users\\Korisnik\\Desktop\\Diplomski\\Eth_price_prediciton\\.venv\\Lib\\site-packages\\statsmodels\\tsa\\holtwinters\\model.py:84: RuntimeWarning: overflow encountered in matmul\n",
      "  return err.T @ err\n",
      "C:\\Users\\Korisnik\\Desktop\\Diplomski\\Eth_price_prediciton\\.venv\\Lib\\site-packages\\statsmodels\\tsa\\holtwinters\\model.py:84: RuntimeWarning: overflow encountered in matmul\n",
      "  return err.T @ err\n",
      "C:\\Users\\Korisnik\\Desktop\\Diplomski\\Eth_price_prediciton\\.venv\\Lib\\site-packages\\statsmodels\\tsa\\holtwinters\\model.py:84: RuntimeWarning: overflow encountered in matmul\n",
      "  return err.T @ err\n",
      "C:\\Users\\Korisnik\\Desktop\\Diplomski\\Eth_price_prediciton\\.venv\\Lib\\site-packages\\statsmodels\\tsa\\holtwinters\\model.py:84: RuntimeWarning: overflow encountered in matmul\n",
      "  return err.T @ err\n",
      "C:\\Users\\Korisnik\\Desktop\\Diplomski\\Eth_price_prediciton\\.venv\\Lib\\site-packages\\statsmodels\\tsa\\holtwinters\\model.py:84: RuntimeWarning: overflow encountered in matmul\n",
      "  return err.T @ err\n",
      "C:\\Users\\Korisnik\\Desktop\\Diplomski\\Eth_price_prediciton\\.venv\\Lib\\site-packages\\statsmodels\\tsa\\holtwinters\\model.py:84: RuntimeWarning: overflow encountered in matmul\n",
      "  return err.T @ err\n",
      "C:\\Users\\Korisnik\\Desktop\\Diplomski\\Eth_price_prediciton\\.venv\\Lib\\site-packages\\statsmodels\\tsa\\holtwinters\\model.py:84: RuntimeWarning: overflow encountered in matmul\n",
      "  return err.T @ err\n",
      "C:\\Users\\Korisnik\\Desktop\\Diplomski\\Eth_price_prediciton\\.venv\\Lib\\site-packages\\statsmodels\\tsa\\holtwinters\\model.py:84: RuntimeWarning: overflow encountered in matmul\n",
      "  return err.T @ err\n",
      "C:\\Users\\Korisnik\\Desktop\\Diplomski\\Eth_price_prediciton\\.venv\\Lib\\site-packages\\statsmodels\\tsa\\holtwinters\\model.py:84: RuntimeWarning: overflow encountered in matmul\n",
      "  return err.T @ err\n",
      "C:\\Users\\Korisnik\\Desktop\\Diplomski\\Eth_price_prediciton\\.venv\\Lib\\site-packages\\statsmodels\\tsa\\holtwinters\\model.py:84: RuntimeWarning: overflow encountered in matmul\n",
      "  return err.T @ err\n",
      "C:\\Users\\Korisnik\\Desktop\\Diplomski\\Eth_price_prediciton\\.venv\\Lib\\site-packages\\statsmodels\\tsa\\holtwinters\\model.py:84: RuntimeWarning: overflow encountered in matmul\n",
      "  return err.T @ err\n",
      "C:\\Users\\Korisnik\\Desktop\\Diplomski\\Eth_price_prediciton\\.venv\\Lib\\site-packages\\statsmodels\\tsa\\holtwinters\\model.py:84: RuntimeWarning: overflow encountered in matmul\n",
      "  return err.T @ err\n",
      "C:\\Users\\Korisnik\\Desktop\\Diplomski\\Eth_price_prediciton\\.venv\\Lib\\site-packages\\statsmodels\\tsa\\holtwinters\\model.py:84: RuntimeWarning: overflow encountered in matmul\n",
      "  return err.T @ err\n",
      "C:\\Users\\Korisnik\\Desktop\\Diplomski\\Eth_price_prediciton\\.venv\\Lib\\site-packages\\statsmodels\\tsa\\holtwinters\\model.py:84: RuntimeWarning: overflow encountered in matmul\n",
      "  return err.T @ err\n",
      "C:\\Users\\Korisnik\\Desktop\\Diplomski\\Eth_price_prediciton\\.venv\\Lib\\site-packages\\statsmodels\\tsa\\holtwinters\\model.py:84: RuntimeWarning: overflow encountered in matmul\n",
      "  return err.T @ err\n",
      "C:\\Users\\Korisnik\\Desktop\\Diplomski\\Eth_price_prediciton\\.venv\\Lib\\site-packages\\statsmodels\\tsa\\holtwinters\\model.py:84: RuntimeWarning: overflow encountered in matmul\n",
      "  return err.T @ err\n",
      "C:\\Users\\Korisnik\\Desktop\\Diplomski\\Eth_price_prediciton\\.venv\\Lib\\site-packages\\statsmodels\\tsa\\holtwinters\\model.py:84: RuntimeWarning: overflow encountered in matmul\n",
      "  return err.T @ err\n",
      "C:\\Users\\Korisnik\\Desktop\\Diplomski\\Eth_price_prediciton\\.venv\\Lib\\site-packages\\statsmodels\\tsa\\holtwinters\\model.py:84: RuntimeWarning: overflow encountered in matmul\n",
      "  return err.T @ err\n",
      "C:\\Users\\Korisnik\\Desktop\\Diplomski\\Eth_price_prediciton\\.venv\\Lib\\site-packages\\statsmodels\\tsa\\holtwinters\\model.py:84: RuntimeWarning: overflow encountered in matmul\n",
      "  return err.T @ err\n",
      "C:\\Users\\Korisnik\\Desktop\\Diplomski\\Eth_price_prediciton\\.venv\\Lib\\site-packages\\statsmodels\\tsa\\holtwinters\\model.py:84: RuntimeWarning: overflow encountered in matmul\n",
      "  return err.T @ err\n",
      "C:\\Users\\Korisnik\\Desktop\\Diplomski\\Eth_price_prediciton\\.venv\\Lib\\site-packages\\statsmodels\\tsa\\holtwinters\\model.py:84: RuntimeWarning: overflow encountered in matmul\n",
      "  return err.T @ err\n",
      "C:\\Users\\Korisnik\\Desktop\\Diplomski\\Eth_price_prediciton\\.venv\\Lib\\site-packages\\statsmodels\\tsa\\holtwinters\\model.py:84: RuntimeWarning: overflow encountered in matmul\n",
      "  return err.T @ err\n"
     ]
    }
   ],
   "execution_count": 26
  },
  {
   "metadata": {
    "ExecuteTime": {
     "end_time": "2024-08-28T10:00:22.718064Z",
     "start_time": "2024-08-28T10:00:22.706457Z"
    }
   },
   "cell_type": "code",
   "source": [
    "print(\"best score:\", best_score)\n",
    "\n",
    "trend_type, seasonal_type, damped_trend, init_method, use_boxcox = best_options\n",
    "print(\"trend_type\", trend_type)\n",
    "print(\"seasonal_type\", seasonal_type)\n",
    "print(\"damped_trend\", damped_trend)\n",
    "print(\"init_method\", init_method)\n",
    "print(\"use_boxcox\", use_boxcox)"
   ],
   "id": "14c2a64f76786caa",
   "outputs": [
    {
     "name": "stdout",
     "output_type": "stream",
     "text": [
      "best score: 2471.7438228098804\n",
      "trend_type mul\n",
      "seasonal_type add\n",
      "damped_trend False\n",
      "init_method legacy-heuristic\n",
      "use_boxcox False\n"
     ]
    }
   ],
   "execution_count": 27
  },
  {
   "metadata": {
    "ExecuteTime": {
     "end_time": "2024-08-29T17:59:46.876578Z",
     "start_time": "2024-08-29T17:59:46.868443Z"
    }
   },
   "cell_type": "code",
   "source": [
    "Ntest = 1\n",
    "train = df.iloc[:-Ntest]\n",
    "test = df.iloc[-Ntest:]"
   ],
   "id": "74045be3a8caba4b",
   "outputs": [],
   "execution_count": 8
  },
  {
   "metadata": {
    "ExecuteTime": {
     "end_time": "2024-08-28T10:14:55.311937Z",
     "start_time": "2024-08-28T10:14:54.367578Z"
    }
   },
   "cell_type": "code",
   "source": [
    "hw = ExponentialSmoothing(\n",
    "    train['Close'],\n",
    "    initialization_method='legacy-heuristic',\n",
    "    trend='mul',\n",
    "    damped_trend=False,\n",
    "    seasonal='add',\n",
    "    use_boxcox=0\n",
    ")\n",
    "res_hw = hw.fit()"
   ],
   "id": "fdcd4d6c271cdd7a",
   "outputs": [],
   "execution_count": 67
  },
  {
   "metadata": {
    "ExecuteTime": {
     "end_time": "2024-08-28T10:14:56.349608Z",
     "start_time": "2024-08-28T10:14:56.336523Z"
    }
   },
   "cell_type": "code",
   "source": [
    "train_idx = df.index <= train.index[-1]\n",
    "test_idx = df.index > train.index[-1]"
   ],
   "id": "9078372534d2d401",
   "outputs": [],
   "execution_count": 68
  },
  {
   "metadata": {
    "ExecuteTime": {
     "end_time": "2024-08-28T10:15:07.146679Z",
     "start_time": "2024-08-28T10:15:07.085645Z"
    }
   },
   "cell_type": "code",
   "source": [
    "df.loc[train_idx, 'TrainPred'] = res_hw.fittedvalues\n",
    "df.loc[test_idx, 'Forecast'] = res_hw.forecast(Ntest)"
   ],
   "id": "1c412a165fe0c73e",
   "outputs": [],
   "execution_count": 70
  },
  {
   "metadata": {
    "ExecuteTime": {
     "end_time": "2024-08-28T10:18:07.274549Z",
     "start_time": "2024-08-28T10:18:06.657824Z"
    }
   },
   "cell_type": "code",
   "source": [
    "df[['Close', 'TrainPred']][-10:].plot(figsize=(20, 8));\n",
    "plt.plot(df.loc[test_idx, 'Forecast'], marker='o',markersize=20, color='orange')"
   ],
   "id": "a4f10eafefa50f56",
   "outputs": [
    {
     "data": {
      "text/plain": [
       "[<matplotlib.lines.Line2D at 0x13518242690>]"
      ]
     },
     "execution_count": 82,
     "metadata": {},
     "output_type": "execute_result"
    },
    {
     "data": {
      "text/plain": [
       "<Figure size 2000x800 with 1 Axes>"
      ],
      "image/png": "[encoded data removed]"
     },
     "metadata": {},
     "output_type": "display_data"
    }
   ],
   "execution_count": 82
  },
  {
   "metadata": {
    "ExecuteTime": {
     "end_time": "2024-08-29T18:00:46.212620Z",
     "start_time": "2024-08-29T18:00:36.326565Z"
    }
   },
   "cell_type": "code",
   "source": [
    "start = 0\n",
    "real_value_10d = []\n",
    "pred_value_10d = []\n",
    "\n",
    "\n",
    "def get_mse(y, t):\n",
    "    return np.mean((y - t) ** 2)\n",
    "\n",
    "\n",
    "while True:\n",
    "    end = start + 10 + 1\n",
    "    if end > len(df):\n",
    "        break\n",
    "    temp = df.iloc[start:end].copy()\n",
    "    train = df.iloc[start: start + 10]\n",
    "    test = df.iloc[start + 10: end]\n",
    "    assert (len(temp) == len(train) + len(test))\n",
    "    hw = ExponentialSmoothing(\n",
    "    train['Close'],\n",
    "    initialization_method='legacy-heuristic',\n",
    "    trend='mul',\n",
    "    damped_trend=False,\n",
    "    seasonal='add',\n",
    "    use_boxcox=0\n",
    "    )\n",
    "    res_hw = hw.fit()\n",
    "    pred_value_10d.append(res_hw.forecast(1))\n",
    "    real_value_10d.append(test['Close'])\n",
    "    start = start + 40 // 2\n",
    "print(len(pred_value_10d))\n",
    "print('###########')\n",
    "print(len(real_value_10d))"
   ],
   "id": "f1df3ea0779fa566",
   "outputs": [
    {
     "name": "stdout",
     "output_type": "stream",
     "text": [
      "91\n",
      "###########\n",
      "91\n"
     ]
    }
   ],
   "execution_count": 10
  },
  {
   "metadata": {
    "ExecuteTime": {
     "end_time": "2024-08-29T18:02:19.781649Z",
     "start_time": "2024-08-29T18:02:12.750202Z"
    }
   },
   "cell_type": "code",
   "source": [
    "start = 0\n",
    "real_value_30d = []\n",
    "pred_value_30d = []\n",
    "\n",
    "\n",
    "def get_mse(y, t):\n",
    "    return np.mean((y - t) ** 2)\n",
    "\n",
    "\n",
    "while True:\n",
    "    end = start + 30 + 1\n",
    "    if end > len(df):\n",
    "        break\n",
    "    temp = df.iloc[start:end].copy()\n",
    "    train = df.iloc[start: start + 30]\n",
    "    test = df.iloc[start + 30: end]\n",
    "    assert (len(temp) == len(train) + len(test))\n",
    "    hw = ExponentialSmoothing(\n",
    "    train['Close'],\n",
    "    initialization_method='legacy-heuristic',\n",
    "    trend='mul',\n",
    "    damped_trend=False,\n",
    "    seasonal='add',\n",
    "    use_boxcox=0\n",
    "    )\n",
    "    res_hw = hw.fit()\n",
    "    pred_value_30d.append(res_hw.forecast(1))\n",
    "    real_value_30d.append(test['Close'])\n",
    "    start = start + 60 // 2\n",
    "print(len(pred_value_30d))\n",
    "print('###########')\n",
    "print(len(real_value_30d))"
   ],
   "id": "d3dfc09fedc3ca4c",
   "outputs": [
    {
     "name": "stdout",
     "output_type": "stream",
     "text": [
      "60\n",
      "###########\n",
      "60\n"
     ]
    }
   ],
   "execution_count": 11
  },
  {
   "metadata": {
    "ExecuteTime": {
     "end_time": "2024-08-29T18:09:33.797665Z",
     "start_time": "2024-08-29T18:09:30.876673Z"
    }
   },
   "cell_type": "code",
   "source": [
    "start = 0\n",
    "real_value_100d = []\n",
    "pred_value_100d = []\n",
    "\n",
    "\n",
    "def get_mse(y, t):\n",
    "    return np.mean((y - t) ** 2)\n",
    "\n",
    "\n",
    "while True:\n",
    "    end = start + 100 + 1\n",
    "    if end > len(df):\n",
    "        break\n",
    "    temp = df.iloc[start:end].copy()\n",
    "    train = df.iloc[start: start + 100]\n",
    "    test = df.iloc[start + 100: end]\n",
    "    assert (len(temp) == len(train) + len(test))\n",
    "    hw = ExponentialSmoothing(\n",
    "    train['Close'],\n",
    "    initialization_method='legacy-heuristic',\n",
    "    trend='mul',\n",
    "    damped_trend=False,\n",
    "    seasonal='add',\n",
    "    use_boxcox=0\n",
    "    )\n",
    "    res_hw = hw.fit()\n",
    "    pred_value_100d.append(res_hw.forecast(1))\n",
    "    real_value_100d.append(test['Close'])\n",
    "    start = start + 200 // 2\n",
    "print((pred_value_100d))\n",
    "print('###########')\n",
    "print((real_value_100d))"
   ],
   "id": "4cac4d8851d55cc8",
   "outputs": [
    {
     "name": "stdout",
     "output_type": "stream",
     "text": [
      "[2019-12-03    153.578258\n",
      "Freq: D, dtype: float64, 2020-03-12    192.025181\n",
      "Freq: D, dtype: float64, 2020-06-20    254.642481\n",
      "Freq: D, dtype: float64, 2020-09-28    419.220148\n",
      "Freq: D, dtype: float64, 2021-01-06    1202.942704\n",
      "Freq: D, dtype: float64, 2021-04-16    2528.610076\n",
      "Freq: D, dtype: float64, 2021-07-25    773104.591287\n",
      "Freq: D, dtype: float64, 2021-11-02    5.067863e+08\n",
      "Freq: D, dtype: float64, 2022-02-10    267480.251909\n",
      "Freq: D, dtype: float64, 2022-05-21    1.643425e+16\n",
      "Freq: D, dtype: float64, 2022-08-29    1473.443073\n",
      "Freq: D, dtype: float64, 2022-12-07    6542.69529\n",
      "Freq: D, dtype: float64, 2023-03-17    28826.26912\n",
      "Freq: D, dtype: float64, 2023-06-25    1894.160261\n",
      "Freq: D, dtype: float64, 2023-10-03    155379.42484\n",
      "Freq: D, dtype: float64, 2024-01-11    4.673472e+06\n",
      "Freq: D, dtype: float64, 2024-04-20    2.405834e+10\n",
      "Freq: D, dtype: float64, 2024-07-29    3249.204009\n",
      "Freq: D, dtype: float64]\n",
      "###########\n",
      "[Date\n",
      "2019-12-03    147.956421\n",
      "Freq: D, Name: Close, dtype: float64, Date\n",
      "2020-03-12    112.347122\n",
      "Freq: D, Name: Close, dtype: float64, Date\n",
      "2020-06-20    229.274261\n",
      "Freq: D, Name: Close, dtype: float64, Date\n",
      "2020-09-28    355.159424\n",
      "Freq: D, Name: Close, dtype: float64, Date\n",
      "2021-01-06    1207.112183\n",
      "Freq: D, Name: Close, dtype: float64, Date\n",
      "2021-04-16    2431.946533\n",
      "Freq: D, Name: Close, dtype: float64, Date\n",
      "2021-07-25    2191.373779\n",
      "Freq: D, Name: Close, dtype: float64, Date\n",
      "2021-11-02    4584.798828\n",
      "Freq: D, Name: Close, dtype: float64, Date\n",
      "2022-02-10    3077.482178\n",
      "Freq: D, Name: Close, dtype: float64, Date\n",
      "2022-05-21    1974.518311\n",
      "Freq: D, Name: Close, dtype: float64, Date\n",
      "2022-08-29    1553.037354\n",
      "Freq: D, Name: Close, dtype: float64, Date\n",
      "2022-12-07    1232.4375\n",
      "Freq: D, Name: Close, dtype: float64, Date\n",
      "2023-03-17    1792.485107\n",
      "Freq: D, Name: Close, dtype: float64, Date\n",
      "2023-06-25    1900.506104\n",
      "Freq: D, Name: Close, dtype: float64, Date\n",
      "2023-10-03    1656.685669\n",
      "Freq: D, Name: Close, dtype: float64, Date\n",
      "2024-01-11    2619.619141\n",
      "Freq: D, Name: Close, dtype: float64, Date\n",
      "2024-04-20    3157.627197\n",
      "Freq: D, Name: Close, dtype: float64, Date\n",
      "2024-07-29    3320.539307\n",
      "Freq: D, Name: Close, dtype: float64]\n"
     ]
    }
   ],
   "execution_count": 17
  },
  {
   "metadata": {
    "ExecuteTime": {
     "end_time": "2024-08-29T18:04:14.068953Z",
     "start_time": "2024-08-29T18:04:14.060887Z"
    }
   },
   "cell_type": "code",
   "source": [
    "def smape(y_true, y_pred):\n",
    "    y_true = np.array(y_true)\n",
    "    y_pred = np.array(y_pred)\n",
    "    return 100/len(y_true) * np.sum(2 * np.abs(y_pred - y_true) / (np.abs(y_true) + np.abs(y_pred)))"
   ],
   "id": "57c2e5fb04bb75a0",
   "outputs": [],
   "execution_count": 14
  },
  {
   "metadata": {
    "ExecuteTime": {
     "end_time": "2024-08-29T18:09:08.491776Z",
     "start_time": "2024-08-29T18:09:08.457033Z"
    }
   },
   "cell_type": "code",
   "source": "print(\"R2 score for 10,30 and 100 days are:\",round(r2_score(real_value_10d, pred_value_10d),4),round(r2_score(real_value_30d, pred_value_30d),4),round(r2_score(real_value_100d, pred_value_100d),4))",
   "id": "e2d02ca55207c906",
   "outputs": [
    {
     "name": "stdout",
     "output_type": "stream",
     "text": [
      "R2 score for 10,30 and 100 days are: -359216940243987.4 -2.0714424564337457e+44 -1.0541248110106194e+25\n"
     ]
    }
   ],
   "execution_count": 15
  },
  {
   "metadata": {
    "ExecuteTime": {
     "end_time": "2024-08-29T18:09:19.057908Z",
     "start_time": "2024-08-29T18:09:19.031569Z"
    }
   },
   "cell_type": "code",
   "source": "print(\"MAPE scores for 10,30 and 100 days are:\",round(mean_absolute_percentage_error(real_value_10d, pred_value_10d)*100,4), round(mean_absolute_percentage_error(real_value_30d, pred_value_30d)*100,4), round(mean_absolute_percentage_error(real_value_100d, pred_value_100d)*100,4))",
   "id": "f5c3e647d5447cc0",
   "outputs": [
    {
     "name": "stdout",
     "output_type": "stream",
     "text": [
      "MAPE scores for 10,30 and 100 days are: 99594510.824 7.4935866091991875e+22 46239873741852.15\n"
     ]
    }
   ],
   "execution_count": 16
  },
  {
   "metadata": {},
   "cell_type": "code",
   "outputs": [],
   "execution_count": null,
   "source": "print(\"MAE scores for 10,30 and 100 days are:\",round(mean_absolute_error(real_value_10d, pred_value_10d),2), round(mean_absolute_error(real_value_30d, pred_value_30d),2), round(mean_absolute_error(real_value_100d, pred_value_100d),2))",
   "id": "b31ab6db4b21f952"
  },
  {
   "metadata": {},
   "cell_type": "code",
   "outputs": [],
   "execution_count": null,
   "source": "print(\"MSE scores for 10,30 and 100 days are:\",round(mean_squared_error(real_value_10d, pred_value_10d),2), round(mean_squared_error(real_value_30d, pred_value_30d),2), round(mean_squared_error(real_value_100d, pred_value_100d),2))",
   "id": "6a217d9993bc4dea"
  },
  {
   "metadata": {},
   "cell_type": "code",
   "outputs": [],
   "execution_count": null,
   "source": "print(\"RMSE scores for 10,30 and 100 days are:\",round(root_mean_squared_error(real_value_10d, pred_value_10d),2), round(root_mean_squared_error(real_value_30d, pred_value_30d),2), round(root_mean_squared_error(real_value_100d, pred_value_100d),2))",
   "id": "eec188cb6ec9d833"
  },
  {
   "metadata": {},
   "cell_type": "code",
   "outputs": [],
   "execution_count": null,
   "source": "print(\"sMAPE scores for 10,30 and 100 days are:\",round(smape(real_value_10d, pred_value_10d),4), round(smape(real_value_30d, pred_value_30d),4), round(smape(real_value_100d, pred_value_100d),4))",
   "id": "213b26c975e87ac2"
  }
 ],
 "metadata": {
  "kernelspec": {
   "display_name": "Python 3",
   "language": "python",
   "name": "python3"
  },
  "language_info": {
   "codemirror_mode": {
    "name": "ipython",
    "version": 2
   },
   "file_extension": ".py",
   "mimetype": "text/x-python",
   "name": "python",
   "nbconvert_exporter": "python",
   "pygments_lexer": "ipython2",
   "version": "2.7.6"
  }
 },
 "nbformat": 4,
 "nbformat_minor": 5
}
